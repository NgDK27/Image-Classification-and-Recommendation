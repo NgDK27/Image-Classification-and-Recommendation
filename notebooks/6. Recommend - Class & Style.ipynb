{
 "cells": [
  {
   "cell_type": "code",
   "execution_count": null,
   "metadata": {},
   "outputs": [],
   "source": [
    "import tensorflow as tf\n",
    "from tensorflow.keras import models, layers, losses, Input\n",
    "from sklearn.cluster import KMeans\n",
    "from sklearn.metrics.pairwise import cosine_similarity\n",
    "import matplotlib.pyplot as plt\n",
    "from sklearn.preprocessing import LabelEncoder, OneHotEncoder\n",
    "import seaborn as sns\n",
    "import numpy as np\n",
    "import sys\n",
    "from PIL import Image\n",
    "import joblib\n",
    "import pandas as pd\n",
    "sys.path.append('../')\n",
    "\n",
    "from utils.tensorflow_preprocessing import prepare_image_dataset, process_image_for_model"
   ]
  },
  {
   "cell_type": "code",
   "execution_count": null,
   "metadata": {},
   "outputs": [],
   "source": [
    "feature_extraction = tf.keras.models.load_model('../data/models/fe-cnn')\n",
    "cluster = joblib.load('../data/models/cluster-kmeans.model')"
   ]
  },
  {
   "cell_type": "code",
   "execution_count": null,
   "metadata": {},
   "outputs": [],
   "source": [
    "rec_df = pd.read_csv('../data/recommend/csv/rec_df.csv')\n",
    "rec_df.shape"
   ]
  },
  {
   "cell_type": "code",
   "execution_count": null,
   "metadata": {},
   "outputs": [],
   "source": [
    "class_encoder = LabelEncoder()\n",
    "encoder_path = '../data/label_encoders'\n",
    "class_encoder.classes_ = np.load(encoder_path + \"/\" + 'class_encoder.npy', allow_pickle=True)"
   ]
  },
  {
   "cell_type": "code",
   "execution_count": null,
   "metadata": {},
   "outputs": [],
   "source": [
    "style_encoder = OneHotEncoder()\n",
    "encoder_path = '../data/label_encoders'\n",
    "style_encoder.classes_ = np.load(encoder_path + \"/\" + 'style_encoder.npy', allow_pickle=True)"
   ]
  },
  {
   "cell_type": "code",
   "execution_count": null,
   "metadata": {},
   "outputs": [],
   "source": [
    "df_raw = pd.read_csv('../data/processed/csv/df.csv')\n",
    "df_sample_ref_img_paths = df_raw.sample(4, random_state=21)['Path']"
   ]
  },
  {
   "cell_type": "code",
   "execution_count": null,
   "metadata": {},
   "outputs": [],
   "source": [
    "fig, ax = plt.subplots(1, 4, figsize=(20, 5))\n",
    "for i, ref_path in enumerate(df_sample_ref_img_paths):\n",
    "    with Image.open('../data/raw/Furniture_Data/' + f'{ref_path}') as ref:\n",
    "        ax[i].imshow(ref)\n",
    "        ax[i].set_title(ref_path.split('/')[-1], fontsize=12)\n",
    "        ax[i].axis('off')\n",
    "\n",
    "plt.show()"
   ]
  },
  {
   "cell_type": "code",
   "execution_count": null,
   "metadata": {},
   "outputs": [],
   "source": [
    "num_recommendations = 4   # Number of recommendations per reference image (testing)\n",
    "k = int(np.sqrt(len(rec_df) / num_recommendations))\n",
    "cluster.set_params(n_clusters=k)"
   ]
  },
  {
   "cell_type": "code",
   "execution_count": null,
   "metadata": {},
   "outputs": [],
   "source": [
    "recommendations_df = pd.read_csv('../data/recommend/csv/recommendations.csv')"
   ]
  },
  {
   "cell_type": "code",
   "execution_count": null,
   "metadata": {},
   "outputs": [],
   "source": [
    "def classify(image_path: str, class_clf_path: str, style_clf_path: str, threshold: float = 0.5):\n",
    "\n",
    "    image = process_image_for_model(image_path, 256, 256)\n",
    "\n",
    "    class_model = models.load_model(class_clf_path)\n",
    "    class_pred = class_model.predict(image)\n",
    "\n",
    "    style_model = models.load_model(style_clf_path)\n",
    "    style_pred = style_model.predict(image)\n",
    "\n",
    "    class_pred_class_idx = tf.argmax(class_pred, axis=1).numpy()[0]\n",
    "    style_pred_class_idxs = (style_pred > threshold).astype(int)\n",
    "    \n",
    "    class_predicted_label = class_encoder.inverse_transform([class_pred_class_idx])[0]\n",
    "    style_predicted_labels = style_encoder.inverse_transform(style_pred_class_idxs).flatten()\n",
    "\n",
    "    return image, class_predicted_label, style_predicted_labels"
   ]
  },
  {
   "cell_type": "code",
   "execution_count": null,
   "metadata": {},
   "outputs": [],
   "source": [
    "\n",
    "results = []\n",
    "for ref_path in df_sample_ref_img_paths:\n",
    "    image, pred_class_label, pred_style_labels = classify('../data/raw/Furniture_Data/' + f'{ref_path}', '../data/models/task-1-CNN.keras', '../data/models/task-3-CNN.keras')\n",
    "\n",
    "    image = np.squeeze(image)  \n",
    "\n",
    "    ref_feature_vector = feature_extraction.predict(\n",
    "            tf.expand_dims(image, axis=0),\n",
    "            verbose=0\n",
    "        )\n",
    "        \n",
    "    ref_feature_vector = ref_feature_vector.astype(np.float64)\n",
    "    ref_feature_vector = ref_feature_vector.reshape(1, -1)\n",
    "\n",
    "    # Filter recommendations based on predicted class\n",
    "    filtered_recommendations = recommendations_df[\n",
    "        (recommendations_df['Class'] == pred_class_label) &\n",
    "        (recommendations_df['Style'].apply(lambda styles: any(style in pred_style_labels for style in styles)))\n",
    "    ]\n",
    "\n",
    "    # Cluster reference image\n",
    "    cluster.fit(filtered_recommendations.drop(['Path', 'Class', 'Style'], axis='columns').values)\n",
    "    ref_cluster = cluster.predict(ref_feature_vector)\n",
    "    ref_cluster_indices = np.where(cluster.labels_ == ref_cluster)[0]\n",
    "    recommendations = filtered_recommendations.iloc[ref_cluster_indices]\n",
    "\n",
    "    # Calculate cosine similarities\n",
    "    cosine_similarities = cosine_similarity(ref_feature_vector, recommendations.drop(['Path', 'Class', 'Style'], axis='columns'))\n",
    "    sorted_ref_cluster_indices = np.argsort(-cosine_similarities.flatten())\n",
    "    top_ref_cluster_indices = sorted_ref_cluster_indices[:num_recommendations]\n",
    "    top_recommendations = recommendations.iloc[top_ref_cluster_indices]\n",
    "\n",
    "    results.append(top_recommendations['Path'].values)\n",
    "\n",
    "print(results)"
   ]
  },
  {
   "cell_type": "code",
   "execution_count": null,
   "metadata": {},
   "outputs": [],
   "source": [
    "fig, ax = plt.subplots(4, 5, figsize=(25, 20))\n",
    "for i, ref_path in enumerate(df_sample_ref_img_paths):\n",
    "    with Image.open('../data/raw/Furniture_Data/' + f'{ref_path}') as ref:\n",
    "        true_label = ref_path.split('/')[0]\n",
    "        _, predicted_label, pred_style_labels = classify('../data/raw/Furniture_Data/' + f'{ref_path}', '../data/models/task-1-CNN.keras', '../data/models/task-3-CNN.keras')\n",
    "\n",
    "        ax[i][0].imshow(ref)\n",
    "        ax[i][0].set_title(\n",
    "            f'REFERENCE\\n'\n",
    "            f'Ground Truth: {true_label}\\n'\n",
    "            f'Prediction: {predicted_label}',\n",
    "            f'Style prediction: {pred_style_labels}',\n",
    "            fontsize=12\n",
    "        )\n",
    "        ax[i][0].text(\n",
    "            0.5, -0.08, f'{\"CORRECT CLASS\" if true_label == predicted_label else \"INCORRECT CLASS\"}',\n",
    "            horizontalalignment='center',\n",
    "            verticalalignment='center_baseline',\n",
    "            transform=ax[i][0].transAxes,\n",
    "            fontsize=12,\n",
    "            color='green' if true_label == predicted_label else 'red',\n",
    "            weight='bold'\n",
    "        )\n",
    "        ax[i][0].axis('off')\n",
    "\n",
    "    for j, rec_path in enumerate(results[i], start=1):\n",
    "        with Image.open('../data/raw/Furniture_Data/' + f'{rec_path}') as rec:\n",
    "            ax[i][j].imshow(rec)\n",
    "            ax[i][j].set_title(rec_path, fontsize=12)\n",
    "            ax[i][j].axis('off')\n",
    "\n",
    "\n",
    "plt.tight_layout()\n",
    "plt.show()\n"
   ]
  }
 ],
 "metadata": {
  "language_info": {
   "name": "python"
  }
 },
 "nbformat": 4,
 "nbformat_minor": 2
}
