{
 "cells": [
  {
   "cell_type": "code",
   "source": [
    "from utils import data\n",
    "\n",
    "### Loading Dataframe\n",
    "base_path = '../data/raw/Furniture_Data'\n",
    "df = data.load(base_path)"
   ],
   "metadata": {
    "collapsed": false,
    "ExecuteTime": {
     "end_time": "2024-05-01T12:31:27.099669Z",
     "start_time": "2024-05-01T12:31:07.651547Z"
    }
   },
   "id": "ef9e66efbd424b61",
   "execution_count": 1,
   "outputs": []
  },
  {
   "cell_type": "code",
   "source": [
    "from utils.duplicates import prepare_duplicates, get_duplicates_to_delete, remove_rows"
   ],
   "metadata": {
    "collapsed": true,
    "ExecuteTime": {
     "end_time": "2024-05-01T12:31:27.760858Z",
     "start_time": "2024-05-01T12:31:27.101086Z"
    }
   },
   "id": "initial_id",
   "execution_count": 2,
   "outputs": []
  },
  {
   "cell_type": "code",
   "source": [
    "duplicates = prepare_duplicates(df)"
   ],
   "metadata": {
    "collapsed": false,
    "ExecuteTime": {
     "end_time": "2024-05-01T12:33:19.531702Z",
     "start_time": "2024-05-01T12:31:27.761456Z"
    }
   },
   "id": "1924921318dd4e0f",
   "execution_count": 3,
   "outputs": []
  },
  {
   "cell_type": "code",
   "source": [
    "duplicates_to_delete = get_duplicates_to_delete(duplicates)"
   ],
   "metadata": {
    "collapsed": false,
    "ExecuteTime": {
     "end_time": "2024-05-01T12:33:22.436724Z",
     "start_time": "2024-05-01T12:33:19.532774Z"
    }
   },
   "id": "34a36ce497093c29",
   "execution_count": 4,
   "outputs": []
  },
  {
   "cell_type": "code",
   "source": [
    "cleaned_df = remove_rows(df, duplicates_to_delete)"
   ],
   "metadata": {
    "collapsed": false,
    "ExecuteTime": {
     "end_time": "2024-05-01T12:33:22.448837Z",
     "start_time": "2024-05-01T12:33:22.438764Z"
    }
   },
   "id": "c9f30e4a22e516a5",
   "execution_count": 5,
   "outputs": []
  },
  {
   "cell_type": "code",
   "source": [
    "cleaned_df"
   ],
   "metadata": {
    "collapsed": false,
    "ExecuteTime": {
     "end_time": "2024-05-01T12:33:29.458103Z",
     "start_time": "2024-05-01T12:33:29.446965Z"
    }
   },
   "id": "d3cfbcd2dc29115b",
   "execution_count": 6,
   "outputs": []
  },
  {
   "cell_type": "markdown",
   "source": [
    "Note: for the manual deletion of duplicates in different \"Class\" (these are marked as \"Inspect\"), please manually create a DataFrame for the ones to be deleted, then use it in remove_rows()."
   ],
   "metadata": {
    "collapsed": false
   },
   "id": "2dd8ebf6a687e2"
  },
  {
   "cell_type": "code",
   "source": [],
   "metadata": {
    "collapsed": false,
    "ExecuteTime": {
     "end_time": "2024-05-01T12:33:22.451163Z",
     "start_time": "2024-05-01T12:33:22.449662Z"
    }
   },
   "id": "6e23aafaa7c3b82",
   "execution_count": 5,
   "outputs": []
  }
 ],
 "metadata": {
  "kernelspec": {
   "display_name": "Python 3",
   "language": "python",
   "name": "python3"
  },
  "language_info": {
   "codemirror_mode": {
    "name": "ipython",
    "version": 2
   },
   "file_extension": ".py",
   "mimetype": "text/x-python",
   "name": "python",
   "nbconvert_exporter": "python",
   "pygments_lexer": "ipython2",
   "version": "2.7.6"
  }
 },
 "nbformat": 4,
 "nbformat_minor": 5
}
