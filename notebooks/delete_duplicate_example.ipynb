{
 "cells": [
  {
   "cell_type": "code",
   "outputs": [
    {
     "name": "stdout",
     "output_type": "stream",
     "text": [
      "Loading tables...\n",
      "Loading tables/Eclectic...\n",
      "Loading tables/Midcentury...\n",
      "Loading tables/Craftsman...\n",
      "Loading tables/Victorian...\n",
      "Loading tables/Transitional...\n",
      "Loading tables/Mediterranean...\n",
      "Loading tables/Traditional...\n",
      "Loading tables/Industrial...\n",
      "Loading tables/Farmhouse...\n",
      "Loading tables/Tropical...\n",
      "Loading tables/Southwestern...\n",
      "Loading tables/Beach...\n",
      "Loading tables/Modern...\n",
      "Loading tables/Contemporary...\n",
      "Loading tables/Rustic...\n",
      "Loading tables/Scandinavian...\n",
      "Loading tables/Asian...\n",
      "Loading sofas...\n",
      "Loading sofas/Eclectic...\n",
      "Loading sofas/Midcentury...\n",
      "Loading sofas/Craftsman...\n",
      "Loading sofas/Victorian...\n",
      "Loading sofas/Transitional...\n",
      "Loading sofas/Mediterranean...\n",
      "Loading sofas/Traditional...\n",
      "Loading sofas/Industrial...\n",
      "Loading sofas/Farmhouse...\n",
      "Loading sofas/Tropical...\n",
      "Loading sofas/Southwestern...\n",
      "Loading sofas/Beach...\n",
      "Loading sofas/Modern...\n",
      "Loading sofas/Contemporary...\n",
      "Loading sofas/Rustic...\n",
      "Loading sofas/Scandinavian...\n",
      "Loading sofas/Asian...\n",
      "Loading lamps...\n",
      "Loading lamps/Eclectic...\n",
      "Loading lamps/Midcentury...\n",
      "Loading lamps/Craftsman...\n",
      "Loading lamps/Victorian...\n",
      "Loading lamps/Transitional...\n",
      "Loading lamps/Mediterranean...\n",
      "Loading lamps/Traditional...\n",
      "Loading lamps/Industrial...\n",
      "Loading lamps/Farmhouse...\n",
      "Loading lamps/Tropical...\n",
      "Loading lamps/Southwestern...\n",
      "Loading lamps/Beach...\n",
      "Loading lamps/Modern...\n",
      "Loading lamps/Contemporary...\n",
      "Loading lamps/Rustic...\n",
      "Loading lamps/Scandinavian...\n",
      "Loading lamps/Asian...\n",
      "Loading chairs...\n",
      "Loading chairs/Eclectic...\n",
      "Loading chairs/Midcentury...\n",
      "Loading chairs/Craftsman...\n",
      "Loading chairs/Victorian...\n",
      "Loading chairs/Transitional...\n",
      "Loading chairs/Mediterranean...\n",
      "Loading chairs/Traditional...\n",
      "Loading chairs/Industrial...\n",
      "Loading chairs/Farmhouse...\n",
      "Loading chairs/Tropical...\n",
      "Loading chairs/Southwestern...\n",
      "Loading chairs/Beach...\n",
      "Loading chairs/Modern...\n",
      "Loading chairs/Contemporary...\n",
      "Loading chairs/Rustic...\n",
      "Loading chairs/Scandinavian...\n",
      "Loading chairs/Asian...\n",
      "Loading dressers...\n",
      "Loading dressers/Eclectic...\n",
      "Loading dressers/Midcentury...\n",
      "Loading dressers/Craftsman...\n",
      "Loading dressers/Victorian...\n",
      "Loading dressers/Transitional...\n",
      "Loading dressers/Mediterranean...\n",
      "Loading dressers/Traditional...\n",
      "Loading dressers/Industrial...\n",
      "Loading dressers/Farmhouse...\n",
      "Loading dressers/Tropical...\n",
      "Loading dressers/Southwestern...\n",
      "Loading dressers/Beach...\n",
      "Loading dressers/Modern...\n",
      "Loading dressers/Contemporary...\n",
      "Loading dressers/Rustic...\n",
      "Loading dressers/Scandinavian...\n",
      "Loading dressers/Asian...\n",
      "Loading beds...\n",
      "Loading beds/Eclectic...\n",
      "Loading beds/Midcentury...\n",
      "Loading beds/Craftsman...\n",
      "Loading beds/Victorian...\n",
      "Loading beds/Transitional...\n",
      "Loading beds/Mediterranean...\n",
      "Loading beds/Traditional...\n",
      "Loading beds/Industrial...\n",
      "Loading beds/Farmhouse...\n",
      "Loading beds/Tropical...\n",
      "Loading beds/Southwestern...\n",
      "Loading beds/Beach...\n",
      "Loading beds/Modern...\n",
      "Loading beds/Contemporary...\n",
      "Loading beds/Rustic...\n",
      "Loading beds/Scandinavian...\n",
      "Loading beds/Asian...\n"
     ]
    }
   ],
   "source": [
    "from utils import data\n",
    "\n",
    "### Loading Dataframe\n",
    "base_path = '../data/raw/Furniture_Data'\n",
    "df = data.load(base_path)"
   ],
   "metadata": {
    "collapsed": false,
    "ExecuteTime": {
     "end_time": "2024-05-01T12:31:27.099669Z",
     "start_time": "2024-05-01T12:31:07.651547Z"
    }
   },
   "id": "ef9e66efbd424b61",
   "execution_count": 1
  },
  {
   "cell_type": "code",
   "outputs": [],
   "source": [
    "from utils.duplicates import prepare_duplicates, get_duplicates_to_delete, remove_rows"
   ],
   "metadata": {
    "collapsed": true,
    "ExecuteTime": {
     "end_time": "2024-05-01T12:31:27.760858Z",
     "start_time": "2024-05-01T12:31:27.101086Z"
    }
   },
   "id": "initial_id",
   "execution_count": 2
  },
  {
   "cell_type": "code",
   "outputs": [
    {
     "name": "stdout",
     "output_type": "stream",
     "text": [
      "Calculating perceptual hash for all images...\n"
     ]
    },
    {
     "data": {
      "text/plain": "Pandas Apply:   0%|          | 0/90084 [00:00<?, ?it/s]",
      "application/vnd.jupyter.widget-view+json": {
       "version_major": 2,
       "version_minor": 0,
       "model_id": "f6335caaa7b648199f96e099d3675fe7"
      }
     },
     "metadata": {},
     "output_type": "display_data"
    },
    {
     "name": "stdout",
     "output_type": "stream",
     "text": [
      "Building approximate nearest neighbors using Annoy...\n",
      "Identifying and grouping duplicates...\n"
     ]
    },
    {
     "name": "stderr",
     "output_type": "stream",
     "text": [
      "100%|██████████| 90084/90084 [00:01<00:00, 50897.53it/s]\n"
     ]
    },
    {
     "name": "stdout",
     "output_type": "stream",
     "text": [
      "Labelling duplicates group (non-duplicates are not included in result)...\n"
     ]
    },
    {
     "name": "stderr",
     "output_type": "stream",
     "text": [
      "100%|██████████| 84179/84179 [00:00<00:00, 6939314.39it/s]\n"
     ]
    },
    {
     "name": "stdout",
     "output_type": "stream",
     "text": [
      "Labelling duplicates type...\n"
     ]
    },
    {
     "name": "stderr",
     "output_type": "stream",
     "text": [
      "100%|██████████| 5684/5684 [00:07<00:00, 758.09it/s]\n"
     ]
    }
   ],
   "source": [
    "duplicates = prepare_duplicates(df)"
   ],
   "metadata": {
    "collapsed": false,
    "ExecuteTime": {
     "end_time": "2024-05-01T12:33:19.531702Z",
     "start_time": "2024-05-01T12:31:27.761456Z"
    }
   },
   "id": "1924921318dd4e0f",
   "execution_count": 3
  },
  {
   "cell_type": "code",
   "outputs": [
    {
     "name": "stdout",
     "output_type": "stream",
     "text": [
      "Identifying rows to delete...\n"
     ]
    },
    {
     "name": "stderr",
     "output_type": "stream",
     "text": [
      "100%|██████████| 5684/5684 [00:02<00:00, 1960.71it/s]\n"
     ]
    }
   ],
   "source": [
    "duplicates_to_delete = get_duplicates_to_delete(duplicates)"
   ],
   "metadata": {
    "collapsed": false,
    "ExecuteTime": {
     "end_time": "2024-05-01T12:33:22.436724Z",
     "start_time": "2024-05-01T12:33:19.532774Z"
    }
   },
   "id": "34a36ce497093c29",
   "execution_count": 4
  },
  {
   "cell_type": "code",
   "outputs": [
    {
     "name": "stdout",
     "output_type": "stream",
     "text": [
      "Removing rows...\n"
     ]
    }
   ],
   "source": [
    "cleaned_df = remove_rows(df, duplicates_to_delete)"
   ],
   "metadata": {
    "collapsed": false,
    "ExecuteTime": {
     "end_time": "2024-05-01T12:33:22.448837Z",
     "start_time": "2024-05-01T12:33:22.438764Z"
    }
   },
   "id": "c9f30e4a22e516a5",
   "execution_count": 5
  },
  {
   "cell_type": "code",
   "outputs": [
    {
     "data": {
      "text/plain": "                                                    Path Type  Width  Height  \\\n0      tables/Eclectic/4029eclectic-side-tables-and-e...  jpg    350     350   \n1      tables/Eclectic/4107eclectic-nightstands-and-b...  jpg    350     350   \n2      tables/Eclectic/3885eclectic-side-tables-and-e...  jpg    350     350   \n3      tables/Eclectic/4040eclectic-side-tables-and-e...  jpg    350     350   \n4         tables/Eclectic/4171eclectic-coffee-tables.jpg  jpg    350     350   \n...                                                  ...  ...    ...     ...   \n84791                   beds/Asian/3166asian-daybeds.jpg  jpg    224     224   \n84792                beds/Asian/7733asian-panel-beds.jpg  jpg    224     224   \n84793            beds/Asian/20802asian-platform-beds.jpg  jpg    350     350   \n84794             beds/Asian/7850asian-platform-beds.jpg  jpg    224     224   \n84795               beds/Asian/8103asian-canopy-beds.jpg  jpg    224     224   \n\n       Ratio Mode   Class     Style  \\\n0        1.0  RGB  tables  Eclectic   \n1        1.0  RGB  tables  Eclectic   \n2        1.0  RGB  tables  Eclectic   \n3        1.0  RGB  tables  Eclectic   \n4        1.0  RGB  tables  Eclectic   \n...      ...  ...     ...       ...   \n84791    1.0  RGB    beds     Asian   \n84792    1.0  RGB    beds     Asian   \n84793    1.0  RGB    beds     Asian   \n84794    1.0  RGB    beds     Asian   \n84795    1.0  RGB    beds     Asian   \n\n                                                    Hash  Group  \n0      ee92726d43b64e93484c6de8b185a71697199d5d9cc5ac...      0  \n1      b272078738d827a798da6525d672f585be14f1913d0598...      0  \n2      bef22ce6c3bc1b78b11b431fec12c343e8c4ca70c2e078...      0  \n3      a6736be66ccc5bb3cc99934cd31791ccd107e4c4e467ec...      0  \n4      bea77cb8c4b8c0f1c116a70c87458ff7cf1ade12de0358...      0  \n...                                                  ...    ...  \n84791  feab6fd6e104c00ba1d183f497df86e94b047bac94f9de...      0  \n84792  b3bb999fc1116aea1feeaf54998a6d38ca84e466ce37d3...      0  \n84793  fe6eac456c0e47ba93b193b191117aaa85d542fe93d0d2...      0  \n84794  bbee9774f0016c8ac0f9f801c3e2a03d4f8aa3e9c61d93...      0  \n84795  eaaabd5070af2bf5d40a52bf87ffd40282fd8f406d4096...      0  \n\n[84796 rows x 10 columns]",
      "text/html": "<div>\n<style scoped>\n    .dataframe tbody tr th:only-of-type {\n        vertical-align: middle;\n    }\n\n    .dataframe tbody tr th {\n        vertical-align: top;\n    }\n\n    .dataframe thead th {\n        text-align: right;\n    }\n</style>\n<table border=\"1\" class=\"dataframe\">\n  <thead>\n    <tr style=\"text-align: right;\">\n      <th></th>\n      <th>Path</th>\n      <th>Type</th>\n      <th>Width</th>\n      <th>Height</th>\n      <th>Ratio</th>\n      <th>Mode</th>\n      <th>Class</th>\n      <th>Style</th>\n      <th>Hash</th>\n      <th>Group</th>\n    </tr>\n  </thead>\n  <tbody>\n    <tr>\n      <th>0</th>\n      <td>tables/Eclectic/4029eclectic-side-tables-and-e...</td>\n      <td>jpg</td>\n      <td>350</td>\n      <td>350</td>\n      <td>1.0</td>\n      <td>RGB</td>\n      <td>tables</td>\n      <td>Eclectic</td>\n      <td>ee92726d43b64e93484c6de8b185a71697199d5d9cc5ac...</td>\n      <td>0</td>\n    </tr>\n    <tr>\n      <th>1</th>\n      <td>tables/Eclectic/4107eclectic-nightstands-and-b...</td>\n      <td>jpg</td>\n      <td>350</td>\n      <td>350</td>\n      <td>1.0</td>\n      <td>RGB</td>\n      <td>tables</td>\n      <td>Eclectic</td>\n      <td>b272078738d827a798da6525d672f585be14f1913d0598...</td>\n      <td>0</td>\n    </tr>\n    <tr>\n      <th>2</th>\n      <td>tables/Eclectic/3885eclectic-side-tables-and-e...</td>\n      <td>jpg</td>\n      <td>350</td>\n      <td>350</td>\n      <td>1.0</td>\n      <td>RGB</td>\n      <td>tables</td>\n      <td>Eclectic</td>\n      <td>bef22ce6c3bc1b78b11b431fec12c343e8c4ca70c2e078...</td>\n      <td>0</td>\n    </tr>\n    <tr>\n      <th>3</th>\n      <td>tables/Eclectic/4040eclectic-side-tables-and-e...</td>\n      <td>jpg</td>\n      <td>350</td>\n      <td>350</td>\n      <td>1.0</td>\n      <td>RGB</td>\n      <td>tables</td>\n      <td>Eclectic</td>\n      <td>a6736be66ccc5bb3cc99934cd31791ccd107e4c4e467ec...</td>\n      <td>0</td>\n    </tr>\n    <tr>\n      <th>4</th>\n      <td>tables/Eclectic/4171eclectic-coffee-tables.jpg</td>\n      <td>jpg</td>\n      <td>350</td>\n      <td>350</td>\n      <td>1.0</td>\n      <td>RGB</td>\n      <td>tables</td>\n      <td>Eclectic</td>\n      <td>bea77cb8c4b8c0f1c116a70c87458ff7cf1ade12de0358...</td>\n      <td>0</td>\n    </tr>\n    <tr>\n      <th>...</th>\n      <td>...</td>\n      <td>...</td>\n      <td>...</td>\n      <td>...</td>\n      <td>...</td>\n      <td>...</td>\n      <td>...</td>\n      <td>...</td>\n      <td>...</td>\n      <td>...</td>\n    </tr>\n    <tr>\n      <th>84791</th>\n      <td>beds/Asian/3166asian-daybeds.jpg</td>\n      <td>jpg</td>\n      <td>224</td>\n      <td>224</td>\n      <td>1.0</td>\n      <td>RGB</td>\n      <td>beds</td>\n      <td>Asian</td>\n      <td>feab6fd6e104c00ba1d183f497df86e94b047bac94f9de...</td>\n      <td>0</td>\n    </tr>\n    <tr>\n      <th>84792</th>\n      <td>beds/Asian/7733asian-panel-beds.jpg</td>\n      <td>jpg</td>\n      <td>224</td>\n      <td>224</td>\n      <td>1.0</td>\n      <td>RGB</td>\n      <td>beds</td>\n      <td>Asian</td>\n      <td>b3bb999fc1116aea1feeaf54998a6d38ca84e466ce37d3...</td>\n      <td>0</td>\n    </tr>\n    <tr>\n      <th>84793</th>\n      <td>beds/Asian/20802asian-platform-beds.jpg</td>\n      <td>jpg</td>\n      <td>350</td>\n      <td>350</td>\n      <td>1.0</td>\n      <td>RGB</td>\n      <td>beds</td>\n      <td>Asian</td>\n      <td>fe6eac456c0e47ba93b193b191117aaa85d542fe93d0d2...</td>\n      <td>0</td>\n    </tr>\n    <tr>\n      <th>84794</th>\n      <td>beds/Asian/7850asian-platform-beds.jpg</td>\n      <td>jpg</td>\n      <td>224</td>\n      <td>224</td>\n      <td>1.0</td>\n      <td>RGB</td>\n      <td>beds</td>\n      <td>Asian</td>\n      <td>bbee9774f0016c8ac0f9f801c3e2a03d4f8aa3e9c61d93...</td>\n      <td>0</td>\n    </tr>\n    <tr>\n      <th>84795</th>\n      <td>beds/Asian/8103asian-canopy-beds.jpg</td>\n      <td>jpg</td>\n      <td>224</td>\n      <td>224</td>\n      <td>1.0</td>\n      <td>RGB</td>\n      <td>beds</td>\n      <td>Asian</td>\n      <td>eaaabd5070af2bf5d40a52bf87ffd40282fd8f406d4096...</td>\n      <td>0</td>\n    </tr>\n  </tbody>\n</table>\n<p>84796 rows × 10 columns</p>\n</div>"
     },
     "execution_count": 6,
     "metadata": {},
     "output_type": "execute_result"
    }
   ],
   "source": [
    "cleaned_df"
   ],
   "metadata": {
    "collapsed": false,
    "ExecuteTime": {
     "end_time": "2024-05-01T12:33:29.458103Z",
     "start_time": "2024-05-01T12:33:29.446965Z"
    }
   },
   "id": "d3cfbcd2dc29115b",
   "execution_count": 6
  },
  {
   "cell_type": "markdown",
   "source": [
    "Note: for the manual deletion of duplicates in different \"Class\" (these are marked as \"Inspect\"), please manually create a DataFrame for the ones to be deleted, then use it in remove_rows()."
   ],
   "metadata": {
    "collapsed": false
   },
   "id": "2dd8ebf6a687e2"
  },
  {
   "cell_type": "code",
   "outputs": [],
   "source": [],
   "metadata": {
    "collapsed": false,
    "ExecuteTime": {
     "end_time": "2024-05-01T12:33:22.451163Z",
     "start_time": "2024-05-01T12:33:22.449662Z"
    }
   },
   "id": "6e23aafaa7c3b82",
   "execution_count": 5
  }
 ],
 "metadata": {
  "kernelspec": {
   "display_name": "Python 3",
   "language": "python",
   "name": "python3"
  },
  "language_info": {
   "codemirror_mode": {
    "name": "ipython",
    "version": 2
   },
   "file_extension": ".py",
   "mimetype": "text/x-python",
   "name": "python",
   "nbconvert_exporter": "python",
   "pygments_lexer": "ipython2",
   "version": "2.7.6"
  }
 },
 "nbformat": 4,
 "nbformat_minor": 5
}
