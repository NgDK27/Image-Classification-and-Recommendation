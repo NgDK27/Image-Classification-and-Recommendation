{
 "cells": [
  {
   "cell_type": "markdown",
   "id": "7356d0bb0c37110e",
   "metadata": {
    "collapsed": false
   },
   "source": [
    "# Preprocessing"
   ]
  },
  {
   "cell_type": "markdown",
   "id": "cb3a56b58498b093",
   "metadata": {
    "collapsed": false
   },
   "source": [
    "---\n",
    "## Imports"
   ]
  },
  {
   "cell_type": "code",
   "execution_count": 26,
   "id": "f4fffc68a871f22b",
   "metadata": {
    "collapsed": false,
    "ExecuteTime": {
     "end_time": "2024-05-13T11:40:40.766687Z",
     "start_time": "2024-05-13T11:40:40.764435Z"
    }
   },
   "outputs": [],
   "source": [
    "import sys\n",
    "\n",
    "import pandas as pd\n",
    "from sklearn.model_selection import train_test_split\n",
    "\n",
    "sys.path.append('../')\n",
    "\n",
    "from utils.duplicates import remove_rows, get_duplicates_to_delete"
   ]
  },
  {
   "cell_type": "code",
   "execution_count": 27,
   "id": "e9e697dc13cb950a",
   "metadata": {
    "collapsed": false,
    "ExecuteTime": {
     "end_time": "2024-05-13T11:40:40.973445Z",
     "start_time": "2024-05-13T11:40:40.871886Z"
    }
   },
   "outputs": [],
   "source": [
    "df = pd.read_csv('../data/processed/csv/df.csv')\n",
    "duplicates = pd.read_csv('../data/processed/csv/duplicates.csv')"
   ]
  },
  {
   "cell_type": "markdown",
   "id": "28c210a295f7959f",
   "metadata": {
    "collapsed": false
   },
   "source": [
    "--- \n",
    "## Remove duplicates"
   ]
  },
  {
   "cell_type": "markdown",
   "id": "79ab2d075ab9b619",
   "metadata": {
    "collapsed": false
   },
   "source": [
    "### Automatically delete:\n",
    "- For each duplicate group, delete all but one rows marked as \"Duplicate\" for each \"Style\".\n",
    "- Outputs \"df_no_dup\"."
   ]
  },
  {
   "cell_type": "code",
   "execution_count": 28,
   "id": "initial_id",
   "metadata": {
    "collapsed": true,
    "ExecuteTime": {
     "end_time": "2024-05-13T11:40:43.348185Z",
     "start_time": "2024-05-13T11:40:40.974586Z"
    }
   },
   "outputs": [
    {
     "name": "stdout",
     "output_type": "stream",
     "text": [
      "Identifying rows to delete...\n"
     ]
    },
    {
     "name": "stderr",
     "output_type": "stream",
     "text": [
      "100%|██████████| 5684/5684 [00:02<00:00, 2408.43it/s]"
     ]
    },
    {
     "name": "stdout",
     "output_type": "stream",
     "text": [
      "Removing rows...\n"
     ]
    },
    {
     "name": "stderr",
     "output_type": "stream",
     "text": [
      "\n"
     ]
    },
    {
     "data": {
      "text/plain": "                                                    Path Type  Width  Height  \\\n0      tables/Eclectic/4029eclectic-side-tables-and-e...  jpg    350     350   \n1      tables/Eclectic/4107eclectic-nightstands-and-b...  jpg    350     350   \n2      tables/Eclectic/3885eclectic-side-tables-and-e...  jpg    350     350   \n3      tables/Eclectic/4040eclectic-side-tables-and-e...  jpg    350     350   \n4         tables/Eclectic/4171eclectic-coffee-tables.jpg  jpg    350     350   \n...                                                  ...  ...    ...     ...   \n84791                   beds/Asian/3166asian-daybeds.jpg  jpg    224     224   \n84792                beds/Asian/7733asian-panel-beds.jpg  jpg    224     224   \n84793            beds/Asian/20802asian-platform-beds.jpg  jpg    350     350   \n84794             beds/Asian/7850asian-platform-beds.jpg  jpg    224     224   \n84795               beds/Asian/8103asian-canopy-beds.jpg  jpg    224     224   \n\n       Ratio Mode   Class     Style  \n0        1.0  RGB  tables  Eclectic  \n1        1.0  RGB  tables  Eclectic  \n2        1.0  RGB  tables  Eclectic  \n3        1.0  RGB  tables  Eclectic  \n4        1.0  RGB  tables  Eclectic  \n...      ...  ...     ...       ...  \n84791    1.0  RGB    beds     Asian  \n84792    1.0  RGB    beds     Asian  \n84793    1.0  RGB    beds     Asian  \n84794    1.0  RGB    beds     Asian  \n84795    1.0  RGB    beds     Asian  \n\n[84796 rows x 8 columns]",
      "text/html": "<div>\n<style scoped>\n    .dataframe tbody tr th:only-of-type {\n        vertical-align: middle;\n    }\n\n    .dataframe tbody tr th {\n        vertical-align: top;\n    }\n\n    .dataframe thead th {\n        text-align: right;\n    }\n</style>\n<table border=\"1\" class=\"dataframe\">\n  <thead>\n    <tr style=\"text-align: right;\">\n      <th></th>\n      <th>Path</th>\n      <th>Type</th>\n      <th>Width</th>\n      <th>Height</th>\n      <th>Ratio</th>\n      <th>Mode</th>\n      <th>Class</th>\n      <th>Style</th>\n    </tr>\n  </thead>\n  <tbody>\n    <tr>\n      <th>0</th>\n      <td>tables/Eclectic/4029eclectic-side-tables-and-e...</td>\n      <td>jpg</td>\n      <td>350</td>\n      <td>350</td>\n      <td>1.0</td>\n      <td>RGB</td>\n      <td>tables</td>\n      <td>Eclectic</td>\n    </tr>\n    <tr>\n      <th>1</th>\n      <td>tables/Eclectic/4107eclectic-nightstands-and-b...</td>\n      <td>jpg</td>\n      <td>350</td>\n      <td>350</td>\n      <td>1.0</td>\n      <td>RGB</td>\n      <td>tables</td>\n      <td>Eclectic</td>\n    </tr>\n    <tr>\n      <th>2</th>\n      <td>tables/Eclectic/3885eclectic-side-tables-and-e...</td>\n      <td>jpg</td>\n      <td>350</td>\n      <td>350</td>\n      <td>1.0</td>\n      <td>RGB</td>\n      <td>tables</td>\n      <td>Eclectic</td>\n    </tr>\n    <tr>\n      <th>3</th>\n      <td>tables/Eclectic/4040eclectic-side-tables-and-e...</td>\n      <td>jpg</td>\n      <td>350</td>\n      <td>350</td>\n      <td>1.0</td>\n      <td>RGB</td>\n      <td>tables</td>\n      <td>Eclectic</td>\n    </tr>\n    <tr>\n      <th>4</th>\n      <td>tables/Eclectic/4171eclectic-coffee-tables.jpg</td>\n      <td>jpg</td>\n      <td>350</td>\n      <td>350</td>\n      <td>1.0</td>\n      <td>RGB</td>\n      <td>tables</td>\n      <td>Eclectic</td>\n    </tr>\n    <tr>\n      <th>...</th>\n      <td>...</td>\n      <td>...</td>\n      <td>...</td>\n      <td>...</td>\n      <td>...</td>\n      <td>...</td>\n      <td>...</td>\n      <td>...</td>\n    </tr>\n    <tr>\n      <th>84791</th>\n      <td>beds/Asian/3166asian-daybeds.jpg</td>\n      <td>jpg</td>\n      <td>224</td>\n      <td>224</td>\n      <td>1.0</td>\n      <td>RGB</td>\n      <td>beds</td>\n      <td>Asian</td>\n    </tr>\n    <tr>\n      <th>84792</th>\n      <td>beds/Asian/7733asian-panel-beds.jpg</td>\n      <td>jpg</td>\n      <td>224</td>\n      <td>224</td>\n      <td>1.0</td>\n      <td>RGB</td>\n      <td>beds</td>\n      <td>Asian</td>\n    </tr>\n    <tr>\n      <th>84793</th>\n      <td>beds/Asian/20802asian-platform-beds.jpg</td>\n      <td>jpg</td>\n      <td>350</td>\n      <td>350</td>\n      <td>1.0</td>\n      <td>RGB</td>\n      <td>beds</td>\n      <td>Asian</td>\n    </tr>\n    <tr>\n      <th>84794</th>\n      <td>beds/Asian/7850asian-platform-beds.jpg</td>\n      <td>jpg</td>\n      <td>224</td>\n      <td>224</td>\n      <td>1.0</td>\n      <td>RGB</td>\n      <td>beds</td>\n      <td>Asian</td>\n    </tr>\n    <tr>\n      <th>84795</th>\n      <td>beds/Asian/8103asian-canopy-beds.jpg</td>\n      <td>jpg</td>\n      <td>224</td>\n      <td>224</td>\n      <td>1.0</td>\n      <td>RGB</td>\n      <td>beds</td>\n      <td>Asian</td>\n    </tr>\n  </tbody>\n</table>\n<p>84796 rows × 8 columns</p>\n</div>"
     },
     "execution_count": 28,
     "metadata": {},
     "output_type": "execute_result"
    }
   ],
   "source": [
    "duplicates_to_delete = get_duplicates_to_delete(duplicates)\n",
    "df_no_dup = remove_rows(df, duplicates_to_delete)\n",
    "df_no_dup"
   ]
  },
  {
   "cell_type": "markdown",
   "id": "641504cce48ca671",
   "metadata": {
    "collapsed": false
   },
   "source": [
    "### Manually delete:\n",
    "- Any rows marked as \"Inspect\" that belongs in the wrong \"Class\".\n",
    "- Overwrite \"df\", as this DataFrame will continue to be used for further preprocessing."
   ]
  },
  {
   "cell_type": "code",
   "execution_count": 29,
   "id": "3f84b719dd865b99",
   "metadata": {
    "collapsed": false,
    "ExecuteTime": {
     "end_time": "2024-05-13T11:40:43.356415Z",
     "start_time": "2024-05-13T11:40:43.348981Z"
    }
   },
   "outputs": [
    {
     "data": {
      "text/plain": "     Group Duplicate_Type                                               Path  \\\n90      41        Inspect       tables/Craftsman/28467craftsman-dressers.jpg   \n91      41        Inspect               beds/Craftsman/4866craftsman-bed.jpg   \n153     72        Inspect  tables/Industrial/37555industrial-entertainmen...   \n154     72        Inspect             dressers/Industrial/dresser3452345.jpg   \n205     98        Inspect  dressers/Farmhouse/34120farmhouse-buffets-and-...   \n206     98        Inspect  tables/Farmhouse/28763farmhouse-console-tables...   \n227    109        Inspect  tables/Modern/10363modern-nightstands-and-beds...   \n228    109        Inspect  lamps/Contemporary/4023contemporary-table-lamp...   \n235    113        Inspect            dressers/Modern/2146modern-dressers.jpg   \n236    113        Inspect             tables/Modern/11484modern-dressers.jpg   \n277    134        Inspect  chairs/Midcentury/20530midcentury-armchairs-an...   \n278    134        Inspect          sofas/Midcentury/1848midcentury-sofas.jpg   \n279    135        Inspect          sofas/Midcentury/1520midcentury-sofas.jpg   \n280    135        Inspect  chairs/Midcentury/17445midcentury-armchairs-an...   \n281    136        Inspect  chairs/Midcentury/17520midcentury-armchairs-an...   \n282    136        Inspect          sofas/Midcentury/1402midcentury-sofas.jpg   \n287    139        Inspect  chairs/Midcentury/21475midcentury-armchairs-an...   \n288    139        Inspect          sofas/Midcentury/2876midcentury-sofas.jpg   \n289    140        Inspect            sofas/Victorian/4858victorian-sofas.jpg   \n290    140        Inspect  chairs/Traditional/9087traditional-indoor-chai...   \n299    145        Inspect  chairs/Eclectic/5037eclectic-armchairs-and-acc...   \n300    145        Inspect      sofas/Transitional/4509transitional-sofas.jpg   \n309    150        Inspect      sofas/Contemporary/2852contemporary-sofas.jpg   \n310    150        Inspect  chairs/Contemporary/1181contemporary-indoor-ch...   \n317    154        Inspect      sofas/Contemporary/2895contemporary-sofas.jpg   \n318    154        Inspect  chairs/Modern/7432modern-armchairs-and-accent-...   \n323    157        Inspect  chairs/Contemporary/1446contemporary-indoor-ch...   \n324    157        Inspect       sofas/Contemporary/409contemporary-sofas.jpg   \n325    158        Inspect  chairs/Contemporary/870contemporary-indoor-cha...   \n326    158        Inspect      sofas/Contemporary/1293contemporary-sofas.jpg   \n\n    Type  Width  Height  Ratio Mode     Class         Style  \\\n90   jpg    350     350    1.0  RGB    tables     Craftsman   \n91   jpg    350     350    1.0  RGB      beds     Craftsman   \n153  jpg    350     350    1.0  RGB    tables    Industrial   \n154  jpg    350     350    1.0  RGB  dressers    Industrial   \n205  jpg    350     350    1.0  RGB  dressers     Farmhouse   \n206  jpg    350     350    1.0  RGB    tables     Farmhouse   \n227  jpg    350     350    1.0  RGB    tables        Modern   \n228  jpg    350     350    1.0  RGB     lamps  Contemporary   \n235  jpg    350     350    1.0  RGB  dressers        Modern   \n236  jpg    350     350    1.0  RGB    tables        Modern   \n277  jpg    350     350    1.0  RGB    chairs    Midcentury   \n278  jpg    350     350    1.0  RGB     sofas    Midcentury   \n279  jpg    350     350    1.0  RGB     sofas    Midcentury   \n280  jpg    350     350    1.0  RGB    chairs    Midcentury   \n281  jpg    350     350    1.0  RGB    chairs    Midcentury   \n282  jpg    350     350    1.0  RGB     sofas    Midcentury   \n287  jpg    350     350    1.0  RGB    chairs    Midcentury   \n288  jpg    350     350    1.0  RGB     sofas    Midcentury   \n289  jpg    350     350    1.0  RGB     sofas     Victorian   \n290  jpg    350     350    1.0  RGB    chairs   Traditional   \n299  jpg    350     350    1.0  RGB    chairs      Eclectic   \n300  jpg    350     350    1.0  RGB     sofas  Transitional   \n309  jpg    350     350    1.0  RGB     sofas  Contemporary   \n310  jpg    350     350    1.0  RGB    chairs  Contemporary   \n317  jpg    350     350    1.0  RGB     sofas  Contemporary   \n318  jpg    350     350    1.0  RGB    chairs        Modern   \n323  jpg    350     350    1.0  RGB    chairs  Contemporary   \n324  jpg    350     350    1.0  RGB     sofas  Contemporary   \n325  jpg    350     350    1.0  RGB    chairs  Contemporary   \n326  jpg    350     350    1.0  RGB     sofas  Contemporary   \n\n                                                  Hash  \n90   fbea6ebbd105a451cd78b1ccae23cb8492f195ae1d2312...  \n91   fbea6ebbd105a451cd78b1ccae23cb8492f195ae1d2312...  \n153  d6aa7d5a82ad6a0068540af5ad5596af9055d02b93f41f...  \n154  d6aa7d5a82ad6a0068540af5ad5596af9055d02b93f41f...  \n205  8bfa4afe3c256aadd100341fc042955a70b5cb41947de6...  \n206  8bfa4afe3c256aadd100341fc042955a70b5cb41947de6...  \n227  b3980ddb3c66d39bd098f3a70c182c66c39ff068c99734...  \n228  b3980ddb3c66d39bd098f3a70c182c66c39ff068c99734...  \n235  f3bbad52dccc13b9cc659725921158ce2dd594a5931146...  \n236  f3bbad52dccc13b9cc659725921158ce2dd594a5931146...  \n277  bffef807c0403f5fc156c2a83457d7e8e81785a81e8090...  \n278  bffef807c0403f5fc156c2a83457d7e8e81785a81e8090...  \n279  baae7817f0542a5fc55a87e847abc7e8bac1d5a0c2852c...  \n280  baae7817f0542a5fc55a87e847abc7e8bac1d5a0c2852c...  \n281  eaaa2d56b1556aaad50297bd17fb96a04abec0559fc441...  \n282  eaaa2d56b1556aaad50297bd17fb96a04abec0559fc441...  \n287  ffff3a01a8003d5f856a95fe157e81ea8554c02aaec454...  \n288  ffff3a01a8003d5f856a95fe157e81ea8554c02aaec454...  \n289  faba3f2bb540f09ae845da1cc0f7e03d22ff93f081e8e1...  \n290  faba3f2bb540f09ae845da1cc0f7e03d22ff93f081e8e1...  \n299  ebfa3fb59050e02fc047c84a64adcdc8e48c92ff8f20c3...  \n300  ebfa3fb59050e02fc047c84a64adcdc8e48c92ff8f20c3...  \n309  eaef9014e0503bfd81510ba385fa3f419faae0429ea4c7...  \n310  eaef9014e0503bfd81510ba385fa3f419faae0429ea4c7...  \n317  9beeb2bfd590296ce015cd4a680de352c4bf9bd0c9b60e...  \n318  9beeb2bfd590296ce015cd4a680de352c4bf9bd0c9b60e...  \n323  aabf7f10b544686ec442c1bb390b906f42fe6a7e913d90...  \n324  aabf7f10b544686ec442c1bb390b906f42fe6a7e913d90...  \n325  eafeb034e0503af5815123e195eb27439faac54ade84c7...  \n326  eafeb034e0503af5815123e195eb27439faac54ade84c7...  ",
      "text/html": "<div>\n<style scoped>\n    .dataframe tbody tr th:only-of-type {\n        vertical-align: middle;\n    }\n\n    .dataframe tbody tr th {\n        vertical-align: top;\n    }\n\n    .dataframe thead th {\n        text-align: right;\n    }\n</style>\n<table border=\"1\" class=\"dataframe\">\n  <thead>\n    <tr style=\"text-align: right;\">\n      <th></th>\n      <th>Group</th>\n      <th>Duplicate_Type</th>\n      <th>Path</th>\n      <th>Type</th>\n      <th>Width</th>\n      <th>Height</th>\n      <th>Ratio</th>\n      <th>Mode</th>\n      <th>Class</th>\n      <th>Style</th>\n      <th>Hash</th>\n    </tr>\n  </thead>\n  <tbody>\n    <tr>\n      <th>90</th>\n      <td>41</td>\n      <td>Inspect</td>\n      <td>tables/Craftsman/28467craftsman-dressers.jpg</td>\n      <td>jpg</td>\n      <td>350</td>\n      <td>350</td>\n      <td>1.0</td>\n      <td>RGB</td>\n      <td>tables</td>\n      <td>Craftsman</td>\n      <td>fbea6ebbd105a451cd78b1ccae23cb8492f195ae1d2312...</td>\n    </tr>\n    <tr>\n      <th>91</th>\n      <td>41</td>\n      <td>Inspect</td>\n      <td>beds/Craftsman/4866craftsman-bed.jpg</td>\n      <td>jpg</td>\n      <td>350</td>\n      <td>350</td>\n      <td>1.0</td>\n      <td>RGB</td>\n      <td>beds</td>\n      <td>Craftsman</td>\n      <td>fbea6ebbd105a451cd78b1ccae23cb8492f195ae1d2312...</td>\n    </tr>\n    <tr>\n      <th>153</th>\n      <td>72</td>\n      <td>Inspect</td>\n      <td>tables/Industrial/37555industrial-entertainmen...</td>\n      <td>jpg</td>\n      <td>350</td>\n      <td>350</td>\n      <td>1.0</td>\n      <td>RGB</td>\n      <td>tables</td>\n      <td>Industrial</td>\n      <td>d6aa7d5a82ad6a0068540af5ad5596af9055d02b93f41f...</td>\n    </tr>\n    <tr>\n      <th>154</th>\n      <td>72</td>\n      <td>Inspect</td>\n      <td>dressers/Industrial/dresser3452345.jpg</td>\n      <td>jpg</td>\n      <td>350</td>\n      <td>350</td>\n      <td>1.0</td>\n      <td>RGB</td>\n      <td>dressers</td>\n      <td>Industrial</td>\n      <td>d6aa7d5a82ad6a0068540af5ad5596af9055d02b93f41f...</td>\n    </tr>\n    <tr>\n      <th>205</th>\n      <td>98</td>\n      <td>Inspect</td>\n      <td>dressers/Farmhouse/34120farmhouse-buffets-and-...</td>\n      <td>jpg</td>\n      <td>350</td>\n      <td>350</td>\n      <td>1.0</td>\n      <td>RGB</td>\n      <td>dressers</td>\n      <td>Farmhouse</td>\n      <td>8bfa4afe3c256aadd100341fc042955a70b5cb41947de6...</td>\n    </tr>\n    <tr>\n      <th>206</th>\n      <td>98</td>\n      <td>Inspect</td>\n      <td>tables/Farmhouse/28763farmhouse-console-tables...</td>\n      <td>jpg</td>\n      <td>350</td>\n      <td>350</td>\n      <td>1.0</td>\n      <td>RGB</td>\n      <td>tables</td>\n      <td>Farmhouse</td>\n      <td>8bfa4afe3c256aadd100341fc042955a70b5cb41947de6...</td>\n    </tr>\n    <tr>\n      <th>227</th>\n      <td>109</td>\n      <td>Inspect</td>\n      <td>tables/Modern/10363modern-nightstands-and-beds...</td>\n      <td>jpg</td>\n      <td>350</td>\n      <td>350</td>\n      <td>1.0</td>\n      <td>RGB</td>\n      <td>tables</td>\n      <td>Modern</td>\n      <td>b3980ddb3c66d39bd098f3a70c182c66c39ff068c99734...</td>\n    </tr>\n    <tr>\n      <th>228</th>\n      <td>109</td>\n      <td>Inspect</td>\n      <td>lamps/Contemporary/4023contemporary-table-lamp...</td>\n      <td>jpg</td>\n      <td>350</td>\n      <td>350</td>\n      <td>1.0</td>\n      <td>RGB</td>\n      <td>lamps</td>\n      <td>Contemporary</td>\n      <td>b3980ddb3c66d39bd098f3a70c182c66c39ff068c99734...</td>\n    </tr>\n    <tr>\n      <th>235</th>\n      <td>113</td>\n      <td>Inspect</td>\n      <td>dressers/Modern/2146modern-dressers.jpg</td>\n      <td>jpg</td>\n      <td>350</td>\n      <td>350</td>\n      <td>1.0</td>\n      <td>RGB</td>\n      <td>dressers</td>\n      <td>Modern</td>\n      <td>f3bbad52dccc13b9cc659725921158ce2dd594a5931146...</td>\n    </tr>\n    <tr>\n      <th>236</th>\n      <td>113</td>\n      <td>Inspect</td>\n      <td>tables/Modern/11484modern-dressers.jpg</td>\n      <td>jpg</td>\n      <td>350</td>\n      <td>350</td>\n      <td>1.0</td>\n      <td>RGB</td>\n      <td>tables</td>\n      <td>Modern</td>\n      <td>f3bbad52dccc13b9cc659725921158ce2dd594a5931146...</td>\n    </tr>\n    <tr>\n      <th>277</th>\n      <td>134</td>\n      <td>Inspect</td>\n      <td>chairs/Midcentury/20530midcentury-armchairs-an...</td>\n      <td>jpg</td>\n      <td>350</td>\n      <td>350</td>\n      <td>1.0</td>\n      <td>RGB</td>\n      <td>chairs</td>\n      <td>Midcentury</td>\n      <td>bffef807c0403f5fc156c2a83457d7e8e81785a81e8090...</td>\n    </tr>\n    <tr>\n      <th>278</th>\n      <td>134</td>\n      <td>Inspect</td>\n      <td>sofas/Midcentury/1848midcentury-sofas.jpg</td>\n      <td>jpg</td>\n      <td>350</td>\n      <td>350</td>\n      <td>1.0</td>\n      <td>RGB</td>\n      <td>sofas</td>\n      <td>Midcentury</td>\n      <td>bffef807c0403f5fc156c2a83457d7e8e81785a81e8090...</td>\n    </tr>\n    <tr>\n      <th>279</th>\n      <td>135</td>\n      <td>Inspect</td>\n      <td>sofas/Midcentury/1520midcentury-sofas.jpg</td>\n      <td>jpg</td>\n      <td>350</td>\n      <td>350</td>\n      <td>1.0</td>\n      <td>RGB</td>\n      <td>sofas</td>\n      <td>Midcentury</td>\n      <td>baae7817f0542a5fc55a87e847abc7e8bac1d5a0c2852c...</td>\n    </tr>\n    <tr>\n      <th>280</th>\n      <td>135</td>\n      <td>Inspect</td>\n      <td>chairs/Midcentury/17445midcentury-armchairs-an...</td>\n      <td>jpg</td>\n      <td>350</td>\n      <td>350</td>\n      <td>1.0</td>\n      <td>RGB</td>\n      <td>chairs</td>\n      <td>Midcentury</td>\n      <td>baae7817f0542a5fc55a87e847abc7e8bac1d5a0c2852c...</td>\n    </tr>\n    <tr>\n      <th>281</th>\n      <td>136</td>\n      <td>Inspect</td>\n      <td>chairs/Midcentury/17520midcentury-armchairs-an...</td>\n      <td>jpg</td>\n      <td>350</td>\n      <td>350</td>\n      <td>1.0</td>\n      <td>RGB</td>\n      <td>chairs</td>\n      <td>Midcentury</td>\n      <td>eaaa2d56b1556aaad50297bd17fb96a04abec0559fc441...</td>\n    </tr>\n    <tr>\n      <th>282</th>\n      <td>136</td>\n      <td>Inspect</td>\n      <td>sofas/Midcentury/1402midcentury-sofas.jpg</td>\n      <td>jpg</td>\n      <td>350</td>\n      <td>350</td>\n      <td>1.0</td>\n      <td>RGB</td>\n      <td>sofas</td>\n      <td>Midcentury</td>\n      <td>eaaa2d56b1556aaad50297bd17fb96a04abec0559fc441...</td>\n    </tr>\n    <tr>\n      <th>287</th>\n      <td>139</td>\n      <td>Inspect</td>\n      <td>chairs/Midcentury/21475midcentury-armchairs-an...</td>\n      <td>jpg</td>\n      <td>350</td>\n      <td>350</td>\n      <td>1.0</td>\n      <td>RGB</td>\n      <td>chairs</td>\n      <td>Midcentury</td>\n      <td>ffff3a01a8003d5f856a95fe157e81ea8554c02aaec454...</td>\n    </tr>\n    <tr>\n      <th>288</th>\n      <td>139</td>\n      <td>Inspect</td>\n      <td>sofas/Midcentury/2876midcentury-sofas.jpg</td>\n      <td>jpg</td>\n      <td>350</td>\n      <td>350</td>\n      <td>1.0</td>\n      <td>RGB</td>\n      <td>sofas</td>\n      <td>Midcentury</td>\n      <td>ffff3a01a8003d5f856a95fe157e81ea8554c02aaec454...</td>\n    </tr>\n    <tr>\n      <th>289</th>\n      <td>140</td>\n      <td>Inspect</td>\n      <td>sofas/Victorian/4858victorian-sofas.jpg</td>\n      <td>jpg</td>\n      <td>350</td>\n      <td>350</td>\n      <td>1.0</td>\n      <td>RGB</td>\n      <td>sofas</td>\n      <td>Victorian</td>\n      <td>faba3f2bb540f09ae845da1cc0f7e03d22ff93f081e8e1...</td>\n    </tr>\n    <tr>\n      <th>290</th>\n      <td>140</td>\n      <td>Inspect</td>\n      <td>chairs/Traditional/9087traditional-indoor-chai...</td>\n      <td>jpg</td>\n      <td>350</td>\n      <td>350</td>\n      <td>1.0</td>\n      <td>RGB</td>\n      <td>chairs</td>\n      <td>Traditional</td>\n      <td>faba3f2bb540f09ae845da1cc0f7e03d22ff93f081e8e1...</td>\n    </tr>\n    <tr>\n      <th>299</th>\n      <td>145</td>\n      <td>Inspect</td>\n      <td>chairs/Eclectic/5037eclectic-armchairs-and-acc...</td>\n      <td>jpg</td>\n      <td>350</td>\n      <td>350</td>\n      <td>1.0</td>\n      <td>RGB</td>\n      <td>chairs</td>\n      <td>Eclectic</td>\n      <td>ebfa3fb59050e02fc047c84a64adcdc8e48c92ff8f20c3...</td>\n    </tr>\n    <tr>\n      <th>300</th>\n      <td>145</td>\n      <td>Inspect</td>\n      <td>sofas/Transitional/4509transitional-sofas.jpg</td>\n      <td>jpg</td>\n      <td>350</td>\n      <td>350</td>\n      <td>1.0</td>\n      <td>RGB</td>\n      <td>sofas</td>\n      <td>Transitional</td>\n      <td>ebfa3fb59050e02fc047c84a64adcdc8e48c92ff8f20c3...</td>\n    </tr>\n    <tr>\n      <th>309</th>\n      <td>150</td>\n      <td>Inspect</td>\n      <td>sofas/Contemporary/2852contemporary-sofas.jpg</td>\n      <td>jpg</td>\n      <td>350</td>\n      <td>350</td>\n      <td>1.0</td>\n      <td>RGB</td>\n      <td>sofas</td>\n      <td>Contemporary</td>\n      <td>eaef9014e0503bfd81510ba385fa3f419faae0429ea4c7...</td>\n    </tr>\n    <tr>\n      <th>310</th>\n      <td>150</td>\n      <td>Inspect</td>\n      <td>chairs/Contemporary/1181contemporary-indoor-ch...</td>\n      <td>jpg</td>\n      <td>350</td>\n      <td>350</td>\n      <td>1.0</td>\n      <td>RGB</td>\n      <td>chairs</td>\n      <td>Contemporary</td>\n      <td>eaef9014e0503bfd81510ba385fa3f419faae0429ea4c7...</td>\n    </tr>\n    <tr>\n      <th>317</th>\n      <td>154</td>\n      <td>Inspect</td>\n      <td>sofas/Contemporary/2895contemporary-sofas.jpg</td>\n      <td>jpg</td>\n      <td>350</td>\n      <td>350</td>\n      <td>1.0</td>\n      <td>RGB</td>\n      <td>sofas</td>\n      <td>Contemporary</td>\n      <td>9beeb2bfd590296ce015cd4a680de352c4bf9bd0c9b60e...</td>\n    </tr>\n    <tr>\n      <th>318</th>\n      <td>154</td>\n      <td>Inspect</td>\n      <td>chairs/Modern/7432modern-armchairs-and-accent-...</td>\n      <td>jpg</td>\n      <td>350</td>\n      <td>350</td>\n      <td>1.0</td>\n      <td>RGB</td>\n      <td>chairs</td>\n      <td>Modern</td>\n      <td>9beeb2bfd590296ce015cd4a680de352c4bf9bd0c9b60e...</td>\n    </tr>\n    <tr>\n      <th>323</th>\n      <td>157</td>\n      <td>Inspect</td>\n      <td>chairs/Contemporary/1446contemporary-indoor-ch...</td>\n      <td>jpg</td>\n      <td>350</td>\n      <td>350</td>\n      <td>1.0</td>\n      <td>RGB</td>\n      <td>chairs</td>\n      <td>Contemporary</td>\n      <td>aabf7f10b544686ec442c1bb390b906f42fe6a7e913d90...</td>\n    </tr>\n    <tr>\n      <th>324</th>\n      <td>157</td>\n      <td>Inspect</td>\n      <td>sofas/Contemporary/409contemporary-sofas.jpg</td>\n      <td>jpg</td>\n      <td>350</td>\n      <td>350</td>\n      <td>1.0</td>\n      <td>RGB</td>\n      <td>sofas</td>\n      <td>Contemporary</td>\n      <td>aabf7f10b544686ec442c1bb390b906f42fe6a7e913d90...</td>\n    </tr>\n    <tr>\n      <th>325</th>\n      <td>158</td>\n      <td>Inspect</td>\n      <td>chairs/Contemporary/870contemporary-indoor-cha...</td>\n      <td>jpg</td>\n      <td>350</td>\n      <td>350</td>\n      <td>1.0</td>\n      <td>RGB</td>\n      <td>chairs</td>\n      <td>Contemporary</td>\n      <td>eafeb034e0503af5815123e195eb27439faac54ade84c7...</td>\n    </tr>\n    <tr>\n      <th>326</th>\n      <td>158</td>\n      <td>Inspect</td>\n      <td>sofas/Contemporary/1293contemporary-sofas.jpg</td>\n      <td>jpg</td>\n      <td>350</td>\n      <td>350</td>\n      <td>1.0</td>\n      <td>RGB</td>\n      <td>sofas</td>\n      <td>Contemporary</td>\n      <td>eafeb034e0503af5815123e195eb27439faac54ade84c7...</td>\n    </tr>\n  </tbody>\n</table>\n</div>"
     },
     "execution_count": 29,
     "metadata": {},
     "output_type": "execute_result"
    }
   ],
   "source": [
    "inspects = duplicates[duplicates['Duplicate_Type'] == 'Inspect']\n",
    "inspects"
   ]
  },
  {
   "cell_type": "code",
   "execution_count": 30,
   "id": "aa9ef12d5f793a6f",
   "metadata": {
    "collapsed": false,
    "ExecuteTime": {
     "end_time": "2024-05-13T11:40:43.360016Z",
     "start_time": "2024-05-13T11:40:43.358092Z"
    }
   },
   "outputs": [],
   "source": [
    "total_inspect_groups = inspects[\"Group\"].nunique(dropna=False)"
   ]
  },
  {
   "cell_type": "code",
   "execution_count": 31,
   "id": "e612349a811d1925",
   "metadata": {
    "collapsed": false,
    "ExecuteTime": {
     "end_time": "2024-05-13T11:40:43.362319Z",
     "start_time": "2024-05-13T11:40:43.360588Z"
    }
   },
   "outputs": [],
   "source": [
    "# inspects_rows_to_delete = [91, 154, 205, 227, 235, 277, 280, 281, 287, 290, 299, 310, 318, 323, 325] # Delete one of each pair\n",
    "inspects_rows_to_delete = [91,\n",
    "                           205]  # Only delete very different class (\"tables\" and \"beds\"). Similar classes are kept (\"chairs\" and \"sofas\")"
   ]
  },
  {
   "cell_type": "code",
   "execution_count": 32,
   "id": "15f28861eeb1cb8e",
   "metadata": {
    "collapsed": false,
    "ExecuteTime": {
     "end_time": "2024-05-13T11:40:43.365165Z",
     "start_time": "2024-05-13T11:40:43.363029Z"
    }
   },
   "outputs": [],
   "source": [
    "inspect_review = inspects.copy()\n",
    "inspect_review[\"Duplicate_Type\"] = \"Keep\"\n",
    "# inspect_review.loc[inspects_rows_to_delete, \"Duplicate_Type\"] = \"DELETE\""
   ]
  },
  {
   "cell_type": "code",
   "execution_count": 33,
   "id": "a2776d5e64dbd086",
   "metadata": {
    "collapsed": false,
    "ExecuteTime": {
     "end_time": "2024-05-13T11:40:43.367481Z",
     "start_time": "2024-05-13T11:40:43.366031Z"
    }
   },
   "outputs": [],
   "source": [
    "# visualize_duplicates(inspect_review, total_inspect_groups)"
   ]
  },
  {
   "cell_type": "code",
   "execution_count": 34,
   "id": "3e7350bc71b9e306",
   "metadata": {
    "collapsed": false,
    "ExecuteTime": {
     "end_time": "2024-05-13T11:40:43.371530Z",
     "start_time": "2024-05-13T11:40:43.368077Z"
    }
   },
   "outputs": [
    {
     "data": {
      "text/plain": "Empty DataFrame\nColumns: [Group, Duplicate_Type, Path, Type, Width, Height, Ratio, Mode, Class, Style, Hash]\nIndex: []",
      "text/html": "<div>\n<style scoped>\n    .dataframe tbody tr th:only-of-type {\n        vertical-align: middle;\n    }\n\n    .dataframe tbody tr th {\n        vertical-align: top;\n    }\n\n    .dataframe thead th {\n        text-align: right;\n    }\n</style>\n<table border=\"1\" class=\"dataframe\">\n  <thead>\n    <tr style=\"text-align: right;\">\n      <th></th>\n      <th>Group</th>\n      <th>Duplicate_Type</th>\n      <th>Path</th>\n      <th>Type</th>\n      <th>Width</th>\n      <th>Height</th>\n      <th>Ratio</th>\n      <th>Mode</th>\n      <th>Class</th>\n      <th>Style</th>\n      <th>Hash</th>\n    </tr>\n  </thead>\n  <tbody>\n  </tbody>\n</table>\n</div>"
     },
     "execution_count": 34,
     "metadata": {},
     "output_type": "execute_result"
    }
   ],
   "source": [
    "inspects_to_delete = inspect_review[inspect_review[\"Duplicate_Type\"] == \"DELETE\"]\n",
    "inspects_to_delete"
   ]
  },
  {
   "cell_type": "code",
   "execution_count": 35,
   "id": "d21d02905e3a2966",
   "metadata": {
    "collapsed": false,
    "ExecuteTime": {
     "end_time": "2024-05-13T11:40:43.382173Z",
     "start_time": "2024-05-13T11:40:43.372312Z"
    }
   },
   "outputs": [
    {
     "name": "stdout",
     "output_type": "stream",
     "text": [
      "Removing rows...\n"
     ]
    },
    {
     "data": {
      "text/plain": "                                                    Path Type  Width  Height  \\\n0      tables/Eclectic/4029eclectic-side-tables-and-e...  jpg    350     350   \n1      tables/Eclectic/4107eclectic-nightstands-and-b...  jpg    350     350   \n2      tables/Eclectic/3885eclectic-side-tables-and-e...  jpg    350     350   \n3      tables/Eclectic/4040eclectic-side-tables-and-e...  jpg    350     350   \n4         tables/Eclectic/4171eclectic-coffee-tables.jpg  jpg    350     350   \n...                                                  ...  ...    ...     ...   \n90079                   beds/Asian/3166asian-daybeds.jpg  jpg    224     224   \n90080                beds/Asian/7733asian-panel-beds.jpg  jpg    224     224   \n90081            beds/Asian/20802asian-platform-beds.jpg  jpg    350     350   \n90082             beds/Asian/7850asian-platform-beds.jpg  jpg    224     224   \n90083               beds/Asian/8103asian-canopy-beds.jpg  jpg    224     224   \n\n       Ratio Mode   Class     Style  \n0        1.0  RGB  tables  Eclectic  \n1        1.0  RGB  tables  Eclectic  \n2        1.0  RGB  tables  Eclectic  \n3        1.0  RGB  tables  Eclectic  \n4        1.0  RGB  tables  Eclectic  \n...      ...  ...     ...       ...  \n90079    1.0  RGB    beds     Asian  \n90080    1.0  RGB    beds     Asian  \n90081    1.0  RGB    beds     Asian  \n90082    1.0  RGB    beds     Asian  \n90083    1.0  RGB    beds     Asian  \n\n[90084 rows x 8 columns]",
      "text/html": "<div>\n<style scoped>\n    .dataframe tbody tr th:only-of-type {\n        vertical-align: middle;\n    }\n\n    .dataframe tbody tr th {\n        vertical-align: top;\n    }\n\n    .dataframe thead th {\n        text-align: right;\n    }\n</style>\n<table border=\"1\" class=\"dataframe\">\n  <thead>\n    <tr style=\"text-align: right;\">\n      <th></th>\n      <th>Path</th>\n      <th>Type</th>\n      <th>Width</th>\n      <th>Height</th>\n      <th>Ratio</th>\n      <th>Mode</th>\n      <th>Class</th>\n      <th>Style</th>\n    </tr>\n  </thead>\n  <tbody>\n    <tr>\n      <th>0</th>\n      <td>tables/Eclectic/4029eclectic-side-tables-and-e...</td>\n      <td>jpg</td>\n      <td>350</td>\n      <td>350</td>\n      <td>1.0</td>\n      <td>RGB</td>\n      <td>tables</td>\n      <td>Eclectic</td>\n    </tr>\n    <tr>\n      <th>1</th>\n      <td>tables/Eclectic/4107eclectic-nightstands-and-b...</td>\n      <td>jpg</td>\n      <td>350</td>\n      <td>350</td>\n      <td>1.0</td>\n      <td>RGB</td>\n      <td>tables</td>\n      <td>Eclectic</td>\n    </tr>\n    <tr>\n      <th>2</th>\n      <td>tables/Eclectic/3885eclectic-side-tables-and-e...</td>\n      <td>jpg</td>\n      <td>350</td>\n      <td>350</td>\n      <td>1.0</td>\n      <td>RGB</td>\n      <td>tables</td>\n      <td>Eclectic</td>\n    </tr>\n    <tr>\n      <th>3</th>\n      <td>tables/Eclectic/4040eclectic-side-tables-and-e...</td>\n      <td>jpg</td>\n      <td>350</td>\n      <td>350</td>\n      <td>1.0</td>\n      <td>RGB</td>\n      <td>tables</td>\n      <td>Eclectic</td>\n    </tr>\n    <tr>\n      <th>4</th>\n      <td>tables/Eclectic/4171eclectic-coffee-tables.jpg</td>\n      <td>jpg</td>\n      <td>350</td>\n      <td>350</td>\n      <td>1.0</td>\n      <td>RGB</td>\n      <td>tables</td>\n      <td>Eclectic</td>\n    </tr>\n    <tr>\n      <th>...</th>\n      <td>...</td>\n      <td>...</td>\n      <td>...</td>\n      <td>...</td>\n      <td>...</td>\n      <td>...</td>\n      <td>...</td>\n      <td>...</td>\n    </tr>\n    <tr>\n      <th>90079</th>\n      <td>beds/Asian/3166asian-daybeds.jpg</td>\n      <td>jpg</td>\n      <td>224</td>\n      <td>224</td>\n      <td>1.0</td>\n      <td>RGB</td>\n      <td>beds</td>\n      <td>Asian</td>\n    </tr>\n    <tr>\n      <th>90080</th>\n      <td>beds/Asian/7733asian-panel-beds.jpg</td>\n      <td>jpg</td>\n      <td>224</td>\n      <td>224</td>\n      <td>1.0</td>\n      <td>RGB</td>\n      <td>beds</td>\n      <td>Asian</td>\n    </tr>\n    <tr>\n      <th>90081</th>\n      <td>beds/Asian/20802asian-platform-beds.jpg</td>\n      <td>jpg</td>\n      <td>350</td>\n      <td>350</td>\n      <td>1.0</td>\n      <td>RGB</td>\n      <td>beds</td>\n      <td>Asian</td>\n    </tr>\n    <tr>\n      <th>90082</th>\n      <td>beds/Asian/7850asian-platform-beds.jpg</td>\n      <td>jpg</td>\n      <td>224</td>\n      <td>224</td>\n      <td>1.0</td>\n      <td>RGB</td>\n      <td>beds</td>\n      <td>Asian</td>\n    </tr>\n    <tr>\n      <th>90083</th>\n      <td>beds/Asian/8103asian-canopy-beds.jpg</td>\n      <td>jpg</td>\n      <td>224</td>\n      <td>224</td>\n      <td>1.0</td>\n      <td>RGB</td>\n      <td>beds</td>\n      <td>Asian</td>\n    </tr>\n  </tbody>\n</table>\n<p>90084 rows × 8 columns</p>\n</div>"
     },
     "execution_count": 35,
     "metadata": {},
     "output_type": "execute_result"
    }
   ],
   "source": [
    "df = remove_rows(df, inspects_to_delete)\n",
    "df"
   ]
  },
  {
   "cell_type": "markdown",
   "id": "5d88eec96c715462",
   "metadata": {
    "collapsed": false
   },
   "source": [
    "---\n",
    "## Prepare DataFrame"
   ]
  },
  {
   "cell_type": "code",
   "execution_count": 36,
   "id": "199b918f6bdeec2f",
   "metadata": {
    "collapsed": false,
    "ExecuteTime": {
     "end_time": "2024-05-13T11:40:43.425139Z",
     "start_time": "2024-05-13T11:40:43.384615Z"
    }
   },
   "outputs": [],
   "source": [
    "import pandas as pd\n",
    "\n",
    "# Assuming you have the original \"df\" and \"duplicates_to_delete\" DataFrames\n",
    "\n",
    "# Merge the two DataFrames based on the \"Path\" column\n",
    "merged_df = pd.merge(df, duplicates_to_delete[['Path']], on='Path', how='left', indicator=True)\n",
    "\n",
    "# Create the \"Duplicate_Type\" column based on the merge indicator\n",
    "merged_df['Duplicate_Type'] = merged_df['_merge'].map({'both': \"Duplicate\", 'left_only': \"Unique\"})\n",
    "\n",
    "# Drop the merge indicator column\n",
    "merged_df = merged_df.drop('_merge', axis=1)\n",
    "\n",
    "# Update the original \"df\" with the new \"Duplicate_Type\" column\n",
    "df = merged_df"
   ]
  },
  {
   "cell_type": "code",
   "execution_count": 37,
   "id": "29fe10ac5b2469a2",
   "metadata": {
    "collapsed": false,
    "ExecuteTime": {
     "end_time": "2024-05-13T11:40:43.431385Z",
     "start_time": "2024-05-13T11:40:43.426288Z"
    }
   },
   "outputs": [
    {
     "data": {
      "text/plain": "                                                    Path Type  Width  Height  \\\n0      tables/Eclectic/4029eclectic-side-tables-and-e...  jpg    350     350   \n1      tables/Eclectic/4107eclectic-nightstands-and-b...  jpg    350     350   \n2      tables/Eclectic/3885eclectic-side-tables-and-e...  jpg    350     350   \n3      tables/Eclectic/4040eclectic-side-tables-and-e...  jpg    350     350   \n4         tables/Eclectic/4171eclectic-coffee-tables.jpg  jpg    350     350   \n...                                                  ...  ...    ...     ...   \n90079                   beds/Asian/3166asian-daybeds.jpg  jpg    224     224   \n90080                beds/Asian/7733asian-panel-beds.jpg  jpg    224     224   \n90081            beds/Asian/20802asian-platform-beds.jpg  jpg    350     350   \n90082             beds/Asian/7850asian-platform-beds.jpg  jpg    224     224   \n90083               beds/Asian/8103asian-canopy-beds.jpg  jpg    224     224   \n\n       Ratio Mode   Class     Style Duplicate_Type  \n0        1.0  RGB  tables  Eclectic         Unique  \n1        1.0  RGB  tables  Eclectic         Unique  \n2        1.0  RGB  tables  Eclectic         Unique  \n3        1.0  RGB  tables  Eclectic         Unique  \n4        1.0  RGB  tables  Eclectic         Unique  \n...      ...  ...     ...       ...            ...  \n90079    1.0  RGB    beds     Asian         Unique  \n90080    1.0  RGB    beds     Asian         Unique  \n90081    1.0  RGB    beds     Asian         Unique  \n90082    1.0  RGB    beds     Asian         Unique  \n90083    1.0  RGB    beds     Asian         Unique  \n\n[90084 rows x 9 columns]",
      "text/html": "<div>\n<style scoped>\n    .dataframe tbody tr th:only-of-type {\n        vertical-align: middle;\n    }\n\n    .dataframe tbody tr th {\n        vertical-align: top;\n    }\n\n    .dataframe thead th {\n        text-align: right;\n    }\n</style>\n<table border=\"1\" class=\"dataframe\">\n  <thead>\n    <tr style=\"text-align: right;\">\n      <th></th>\n      <th>Path</th>\n      <th>Type</th>\n      <th>Width</th>\n      <th>Height</th>\n      <th>Ratio</th>\n      <th>Mode</th>\n      <th>Class</th>\n      <th>Style</th>\n      <th>Duplicate_Type</th>\n    </tr>\n  </thead>\n  <tbody>\n    <tr>\n      <th>0</th>\n      <td>tables/Eclectic/4029eclectic-side-tables-and-e...</td>\n      <td>jpg</td>\n      <td>350</td>\n      <td>350</td>\n      <td>1.0</td>\n      <td>RGB</td>\n      <td>tables</td>\n      <td>Eclectic</td>\n      <td>Unique</td>\n    </tr>\n    <tr>\n      <th>1</th>\n      <td>tables/Eclectic/4107eclectic-nightstands-and-b...</td>\n      <td>jpg</td>\n      <td>350</td>\n      <td>350</td>\n      <td>1.0</td>\n      <td>RGB</td>\n      <td>tables</td>\n      <td>Eclectic</td>\n      <td>Unique</td>\n    </tr>\n    <tr>\n      <th>2</th>\n      <td>tables/Eclectic/3885eclectic-side-tables-and-e...</td>\n      <td>jpg</td>\n      <td>350</td>\n      <td>350</td>\n      <td>1.0</td>\n      <td>RGB</td>\n      <td>tables</td>\n      <td>Eclectic</td>\n      <td>Unique</td>\n    </tr>\n    <tr>\n      <th>3</th>\n      <td>tables/Eclectic/4040eclectic-side-tables-and-e...</td>\n      <td>jpg</td>\n      <td>350</td>\n      <td>350</td>\n      <td>1.0</td>\n      <td>RGB</td>\n      <td>tables</td>\n      <td>Eclectic</td>\n      <td>Unique</td>\n    </tr>\n    <tr>\n      <th>4</th>\n      <td>tables/Eclectic/4171eclectic-coffee-tables.jpg</td>\n      <td>jpg</td>\n      <td>350</td>\n      <td>350</td>\n      <td>1.0</td>\n      <td>RGB</td>\n      <td>tables</td>\n      <td>Eclectic</td>\n      <td>Unique</td>\n    </tr>\n    <tr>\n      <th>...</th>\n      <td>...</td>\n      <td>...</td>\n      <td>...</td>\n      <td>...</td>\n      <td>...</td>\n      <td>...</td>\n      <td>...</td>\n      <td>...</td>\n      <td>...</td>\n    </tr>\n    <tr>\n      <th>90079</th>\n      <td>beds/Asian/3166asian-daybeds.jpg</td>\n      <td>jpg</td>\n      <td>224</td>\n      <td>224</td>\n      <td>1.0</td>\n      <td>RGB</td>\n      <td>beds</td>\n      <td>Asian</td>\n      <td>Unique</td>\n    </tr>\n    <tr>\n      <th>90080</th>\n      <td>beds/Asian/7733asian-panel-beds.jpg</td>\n      <td>jpg</td>\n      <td>224</td>\n      <td>224</td>\n      <td>1.0</td>\n      <td>RGB</td>\n      <td>beds</td>\n      <td>Asian</td>\n      <td>Unique</td>\n    </tr>\n    <tr>\n      <th>90081</th>\n      <td>beds/Asian/20802asian-platform-beds.jpg</td>\n      <td>jpg</td>\n      <td>350</td>\n      <td>350</td>\n      <td>1.0</td>\n      <td>RGB</td>\n      <td>beds</td>\n      <td>Asian</td>\n      <td>Unique</td>\n    </tr>\n    <tr>\n      <th>90082</th>\n      <td>beds/Asian/7850asian-platform-beds.jpg</td>\n      <td>jpg</td>\n      <td>224</td>\n      <td>224</td>\n      <td>1.0</td>\n      <td>RGB</td>\n      <td>beds</td>\n      <td>Asian</td>\n      <td>Unique</td>\n    </tr>\n    <tr>\n      <th>90083</th>\n      <td>beds/Asian/8103asian-canopy-beds.jpg</td>\n      <td>jpg</td>\n      <td>224</td>\n      <td>224</td>\n      <td>1.0</td>\n      <td>RGB</td>\n      <td>beds</td>\n      <td>Asian</td>\n      <td>Unique</td>\n    </tr>\n  </tbody>\n</table>\n<p>90084 rows × 9 columns</p>\n</div>"
     },
     "execution_count": 37,
     "metadata": {},
     "output_type": "execute_result"
    }
   ],
   "source": [
    "df"
   ]
  },
  {
   "cell_type": "markdown",
   "id": "ffad64bb8cc963ba",
   "metadata": {
    "collapsed": false
   },
   "source": [
    "---\n",
    "## Split (train, validation, test)"
   ]
  },
  {
   "cell_type": "markdown",
   "id": "f3392985afc54db7",
   "metadata": {
    "collapsed": false
   },
   "source": [
    "### Prepare target and training"
   ]
  },
  {
   "cell_type": "code",
   "execution_count": 38,
   "id": "2b8460c92b529354",
   "metadata": {
    "collapsed": false,
    "ExecuteTime": {
     "end_time": "2024-05-13T11:40:43.445415Z",
     "start_time": "2024-05-13T11:40:43.432196Z"
    }
   },
   "outputs": [],
   "source": [
    "train_data = df.copy()"
   ]
  },
  {
   "cell_type": "markdown",
   "id": "aa755dbeb940c4e5",
   "metadata": {
    "collapsed": false
   },
   "source": [
    "### Splitting"
   ]
  },
  {
   "cell_type": "code",
   "execution_count": 39,
   "id": "98fec7fce5060259",
   "metadata": {
    "collapsed": false,
    "ExecuteTime": {
     "end_time": "2024-05-13T11:40:43.464428Z",
     "start_time": "2024-05-13T11:40:43.446225Z"
    }
   },
   "outputs": [],
   "source": [
    "train_X, test_X = train_test_split(\n",
    "    train_data,\n",
    "    test_size=0.2,\n",
    "    random_state=42\n",
    ")\n",
    "train_X, val_X = train_test_split(\n",
    "    train_X,\n",
    "    test_size=0.25,\n",
    "    random_state=42\n",
    ")"
   ]
  },
  {
   "cell_type": "code",
   "execution_count": 40,
   "id": "c8aa3c1b898624eb",
   "metadata": {
    "collapsed": false,
    "ExecuteTime": {
     "end_time": "2024-05-13T11:40:43.470524Z",
     "start_time": "2024-05-13T11:40:43.465265Z"
    }
   },
   "outputs": [
    {
     "data": {
      "text/plain": "                                                    Path Type  Width  Height  \\\n86444    beds/Traditional/6052traditional-panel-beds.jpg  jpg    224     224   \n34246  lamps/Traditional/13841traditional-table-lamps...  jpg    350     350   \n75698    dressers/Midcentury/2573midcentury-dressers.jpg  jpg    350     350   \n61455  chairs/Transitional/24948transitional-armchair...  jpg    350     350   \n54290  chairs/Midcentury/19121midcentury-dining-chair...  jpg    350     350   \n...                                                  ...  ...    ...     ...   \n22949    lamps/Midcentury/7601midcentury-floor-lamps.jpg  jpg    350     350   \n26202  lamps/Victorian/29215victorian-pool-table-ligh...  jpg    350     350   \n63372  chairs/Traditional/12162traditional-recliner-c...  jpg    350     350   \n10575    tables/Beach/22508beach-style-coffee-tables.jpg  jpg    350     350   \n25751     lamps/Victorian/27790victorian-table-lamps.jpg  jpg    350     350   \n\n       Ratio Mode     Class         Style Duplicate_Type  \n86444    1.0  RGB      beds   Traditional         Unique  \n34246    1.0  RGB     lamps   Traditional         Unique  \n75698    1.0  RGB  dressers    Midcentury         Unique  \n61455    1.0  RGB    chairs  Transitional         Unique  \n54290    1.0  RGB    chairs    Midcentury         Unique  \n...      ...  ...       ...           ...            ...  \n22949    1.0  RGB     lamps    Midcentury         Unique  \n26202    1.0  RGB     lamps     Victorian         Unique  \n63372    1.0  RGB    chairs   Traditional         Unique  \n10575    1.0  RGB    tables         Beach         Unique  \n25751    1.0  RGB     lamps     Victorian         Unique  \n\n[54050 rows x 9 columns]",
      "text/html": "<div>\n<style scoped>\n    .dataframe tbody tr th:only-of-type {\n        vertical-align: middle;\n    }\n\n    .dataframe tbody tr th {\n        vertical-align: top;\n    }\n\n    .dataframe thead th {\n        text-align: right;\n    }\n</style>\n<table border=\"1\" class=\"dataframe\">\n  <thead>\n    <tr style=\"text-align: right;\">\n      <th></th>\n      <th>Path</th>\n      <th>Type</th>\n      <th>Width</th>\n      <th>Height</th>\n      <th>Ratio</th>\n      <th>Mode</th>\n      <th>Class</th>\n      <th>Style</th>\n      <th>Duplicate_Type</th>\n    </tr>\n  </thead>\n  <tbody>\n    <tr>\n      <th>86444</th>\n      <td>beds/Traditional/6052traditional-panel-beds.jpg</td>\n      <td>jpg</td>\n      <td>224</td>\n      <td>224</td>\n      <td>1.0</td>\n      <td>RGB</td>\n      <td>beds</td>\n      <td>Traditional</td>\n      <td>Unique</td>\n    </tr>\n    <tr>\n      <th>34246</th>\n      <td>lamps/Traditional/13841traditional-table-lamps...</td>\n      <td>jpg</td>\n      <td>350</td>\n      <td>350</td>\n      <td>1.0</td>\n      <td>RGB</td>\n      <td>lamps</td>\n      <td>Traditional</td>\n      <td>Unique</td>\n    </tr>\n    <tr>\n      <th>75698</th>\n      <td>dressers/Midcentury/2573midcentury-dressers.jpg</td>\n      <td>jpg</td>\n      <td>350</td>\n      <td>350</td>\n      <td>1.0</td>\n      <td>RGB</td>\n      <td>dressers</td>\n      <td>Midcentury</td>\n      <td>Unique</td>\n    </tr>\n    <tr>\n      <th>61455</th>\n      <td>chairs/Transitional/24948transitional-armchair...</td>\n      <td>jpg</td>\n      <td>350</td>\n      <td>350</td>\n      <td>1.0</td>\n      <td>RGB</td>\n      <td>chairs</td>\n      <td>Transitional</td>\n      <td>Unique</td>\n    </tr>\n    <tr>\n      <th>54290</th>\n      <td>chairs/Midcentury/19121midcentury-dining-chair...</td>\n      <td>jpg</td>\n      <td>350</td>\n      <td>350</td>\n      <td>1.0</td>\n      <td>RGB</td>\n      <td>chairs</td>\n      <td>Midcentury</td>\n      <td>Unique</td>\n    </tr>\n    <tr>\n      <th>...</th>\n      <td>...</td>\n      <td>...</td>\n      <td>...</td>\n      <td>...</td>\n      <td>...</td>\n      <td>...</td>\n      <td>...</td>\n      <td>...</td>\n      <td>...</td>\n    </tr>\n    <tr>\n      <th>22949</th>\n      <td>lamps/Midcentury/7601midcentury-floor-lamps.jpg</td>\n      <td>jpg</td>\n      <td>350</td>\n      <td>350</td>\n      <td>1.0</td>\n      <td>RGB</td>\n      <td>lamps</td>\n      <td>Midcentury</td>\n      <td>Unique</td>\n    </tr>\n    <tr>\n      <th>26202</th>\n      <td>lamps/Victorian/29215victorian-pool-table-ligh...</td>\n      <td>jpg</td>\n      <td>350</td>\n      <td>350</td>\n      <td>1.0</td>\n      <td>RGB</td>\n      <td>lamps</td>\n      <td>Victorian</td>\n      <td>Unique</td>\n    </tr>\n    <tr>\n      <th>63372</th>\n      <td>chairs/Traditional/12162traditional-recliner-c...</td>\n      <td>jpg</td>\n      <td>350</td>\n      <td>350</td>\n      <td>1.0</td>\n      <td>RGB</td>\n      <td>chairs</td>\n      <td>Traditional</td>\n      <td>Unique</td>\n    </tr>\n    <tr>\n      <th>10575</th>\n      <td>tables/Beach/22508beach-style-coffee-tables.jpg</td>\n      <td>jpg</td>\n      <td>350</td>\n      <td>350</td>\n      <td>1.0</td>\n      <td>RGB</td>\n      <td>tables</td>\n      <td>Beach</td>\n      <td>Unique</td>\n    </tr>\n    <tr>\n      <th>25751</th>\n      <td>lamps/Victorian/27790victorian-table-lamps.jpg</td>\n      <td>jpg</td>\n      <td>350</td>\n      <td>350</td>\n      <td>1.0</td>\n      <td>RGB</td>\n      <td>lamps</td>\n      <td>Victorian</td>\n      <td>Unique</td>\n    </tr>\n  </tbody>\n</table>\n<p>54050 rows × 9 columns</p>\n</div>"
     },
     "execution_count": 40,
     "metadata": {},
     "output_type": "execute_result"
    }
   ],
   "source": [
    "train_X"
   ]
  },
  {
   "cell_type": "markdown",
   "id": "0e9d12c1",
   "metadata": {},
   "source": [
    "---\n",
    "## Rescaling & Normalization\n",
    "Note: Using Tensorflow for quick normalization and rescaling. In 'utils/tensorflow_preprocessing.py' file, there is a functions to normalize and rescale the each image in the dataset."
   ]
  },
  {
   "cell_type": "code",
   "execution_count": 41,
   "id": "492c0bcd",
   "metadata": {
    "ExecuteTime": {
     "end_time": "2024-05-13T11:40:43.473319Z",
     "start_time": "2024-05-13T11:40:43.471401Z"
    }
   },
   "outputs": [],
   "source": [
    "import tensorflow as tf\n",
    "from sklearn.preprocessing import LabelEncoder\n",
    "\n",
    "AUTOTUNE = tf.data.experimental.AUTOTUNE"
   ]
  },
  {
   "cell_type": "code",
   "execution_count": 42,
   "id": "21073bbfdb5d44af",
   "metadata": {
    "collapsed": false,
    "ExecuteTime": {
     "end_time": "2024-05-13T11:40:43.476607Z",
     "start_time": "2024-05-13T11:40:43.473906Z"
    }
   },
   "outputs": [],
   "source": [
    "def process_image_from_path(image_path, img_height, img_width, to_augment):\n",
    "    # Read image\n",
    "    img = tf.io.read_file(image_path)\n",
    "\n",
    "    # Decode to RGB\n",
    "    img = tf.io.decode_jpeg(img, channels=3)\n",
    "\n",
    "    # Resize\n",
    "    img = tf.image.resize(img, [img_height, img_width])\n",
    "\n",
    "    # Augment\n",
    "    is_duplicate = tf.equal(to_augment, \"Duplicate\")\n",
    "\n",
    "    def augment_image_tf(img):\n",
    "        # Flip horizontally\n",
    "        img = tf.image.random_flip_left_right(img)\n",
    "        # Adjust brightness\n",
    "        img = tf.image.random_brightness(img, max_delta=0.2)\n",
    "        # Adjust contrast\n",
    "        img = tf.image.random_contrast(img, lower=0.8, upper=1.2)\n",
    "\n",
    "        return img\n",
    "\n",
    "    img = tf.cond(is_duplicate, lambda: augment_image_tf(img), lambda: img)\n",
    "\n",
    "    # Rescale\n",
    "    rescaling_layer = tf.keras.layers.Rescaling(scale=1. / 255)\n",
    "    img = rescaling_layer(img) \n",
    "    # Commented out right now cause it makes all the output image black, which I'm not sure is supposed to happen\n",
    "\n",
    "    return img"
   ]
  },
  {
   "cell_type": "code",
   "execution_count": 43,
   "id": "6fdebfce5147a7ae",
   "metadata": {
    "collapsed": false,
    "ExecuteTime": {
     "end_time": "2024-05-13T11:40:43.480083Z",
     "start_time": "2024-05-13T11:40:43.477111Z"
    }
   },
   "outputs": [],
   "source": [
    "def prepare_image_dataset(df, img_height, img_width, batch_size, base_path='../data/raw/Furniture_Data',\n",
    "                          label_encoder=None):\n",
    "    prepared_df = df.assign(Path=df['Path'].apply(lambda path: base_path + \"/\" + path))\n",
    "\n",
    "    # REMOVE (shorten the df for faster testing)\n",
    "    # prepared_df = prepared_df.sample(frac=0.05, random_state=42)\n",
    "\n",
    "    # Perform label encoding on the class labels\n",
    "    if label_encoder is None:\n",
    "        label_encoder = LabelEncoder()\n",
    "        prepared_df['Class_Encoded'] = label_encoder.fit_transform(prepared_df['Class'])\n",
    "    else:\n",
    "        prepared_df['Class_Encoded'] = label_encoder.transform(prepared_df['Class'])\n",
    "\n",
    "    dataset = tf.data.Dataset.from_tensor_slices(\n",
    "        (prepared_df['Path'].values,\n",
    "         prepared_df[\"Duplicate_Type\"].values,\n",
    "         prepared_df['Class_Encoded'].values)\n",
    "    )\n",
    "\n",
    "    image_ds = dataset.map(lambda path, duplicate_type, class_label:\n",
    "                           (\n",
    "                               process_image_from_path(image_path=path,\n",
    "                                                       img_height=img_height,\n",
    "                                                       img_width=img_width,\n",
    "                                                       to_augment=duplicate_type),\n",
    "                               class_label\n",
    "                           ),\n",
    "                           num_parallel_calls=tf.data.AUTOTUNE\n",
    "                           )\n",
    "\n",
    "    image_ds = image_ds.batch(batch_size)\n",
    "\n",
    "    return image_ds, label_encoder"
   ]
  },
  {
   "cell_type": "code",
   "execution_count": 44,
   "id": "d6db3115",
   "metadata": {
    "ExecuteTime": {
     "end_time": "2024-05-13T11:40:43.719244Z",
     "start_time": "2024-05-13T11:40:43.481015Z"
    }
   },
   "outputs": [],
   "source": [
    "train_dataset, label_encoder = prepare_image_dataset(train_X, img_height=256, img_width=256, batch_size=32)\n",
    "val_dataset, _ = prepare_image_dataset(val_X, img_height=256, img_width=256, batch_size=32, label_encoder=label_encoder)\n",
    "test_dataset, _ = prepare_image_dataset(test_X, img_height=256, img_width=256, batch_size=32,\n",
    "                                        label_encoder=label_encoder)"
   ]
  },
  {
   "cell_type": "code",
   "execution_count": 45,
   "id": "fe6862923fd0afcd",
   "metadata": {
    "collapsed": false,
    "ExecuteTime": {
     "end_time": "2024-05-13T11:40:43.932040Z",
     "start_time": "2024-05-13T11:40:43.720027Z"
    }
   },
   "outputs": [
    {
     "data": {
      "text/plain": "<Figure size 1000x1000 with 9 Axes>",
      "image/png": "[encoded data removed]"
     },
     "metadata": {},
     "output_type": "display_data"
    }
   ],
   "source": [
    "import matplotlib.pyplot as plt\n",
    "\n",
    "plt.figure(figsize=(10, 10))\n",
    "for images, labels in train_dataset.take(1):\n",
    "    for i in range(9):\n",
    "        ax = plt.subplot(3, 3, i + 1)\n",
    "        plt.imshow(images[i].numpy().astype(\"uint8\"))\n",
    "        # plt.title(class_names[labels[i]])\n",
    "        plt.axis(\"off\")\n",
    "\n",
    "# DON'T WORRY if the images here are black. Comment out the rescaling part in process_image_from_path() to see the images."
   ]
  },
  {
   "cell_type": "markdown",
   "id": "ee45d236d1d48b61",
   "metadata": {
    "collapsed": false
   },
   "source": [
    "---\n",
    "## Test"
   ]
  },
  {
   "cell_type": "code",
   "execution_count": 46,
   "id": "eb9e8a70813e631a",
   "metadata": {
    "collapsed": false,
    "ExecuteTime": {
     "end_time": "2024-05-13T11:40:43.934879Z",
     "start_time": "2024-05-13T11:40:43.932970Z"
    }
   },
   "outputs": [],
   "source": [
    "from tensorflow.keras import layers, models, Input\n",
    "from tensorflow.keras.callbacks import ProgbarLogger"
   ]
  },
  {
   "cell_type": "code",
   "execution_count": 47,
   "id": "37d0d03c6ea7fe1f",
   "metadata": {
    "collapsed": false,
    "ExecuteTime": {
     "end_time": "2024-05-13T11:40:43.975032Z",
     "start_time": "2024-05-13T11:40:43.935442Z"
    }
   },
   "outputs": [],
   "source": [
    "model = models.Sequential([\n",
    "    Input(shape=(256, 256, 3)),\n",
    "    layers.Conv2D(4, (3, 3), activation='relu'),\n",
    "    layers.MaxPooling2D((2, 2)),\n",
    "    layers.Conv2D(8, (3, 3), activation='relu'),\n",
    "    layers.MaxPooling2D((2, 2)),\n",
    "    layers.Conv2D(16, (3, 3), activation='relu'),\n",
    "    layers.GlobalMaxPooling2D(),\n",
    "    layers.Dense(64, activation='relu'),\n",
    "    layers.Dropout(0.5, seed=21),\n",
    "    layers.Dense(128, activation='relu'),\n",
    "    layers.Dropout(1, seed=42),\n",
    "    layers.Dense(128, activation='sigmoid'),\n",
    "    layers.Dense(6, activation='softmax')\n",
    "])"
   ]
  },
  {
   "cell_type": "code",
   "execution_count": 48,
   "id": "69e80591d1d4ec05",
   "metadata": {
    "collapsed": false,
    "ExecuteTime": {
     "end_time": "2024-05-13T11:40:43.981671Z",
     "start_time": "2024-05-13T11:40:43.975698Z"
    }
   },
   "outputs": [],
   "source": [
    "# Step 3: Compile the Model\n",
    "model.compile(optimizer='adam',\n",
    "              loss=tf.keras.losses.SparseCategoricalCrossentropy(from_logits=False),\n",
    "              metrics=['accuracy'])"
   ]
  },
  {
   "cell_type": "code",
   "execution_count": 49,
   "id": "76e337d4f9cbb1d0",
   "metadata": {
    "collapsed": false,
    "ExecuteTime": {
     "end_time": "2024-05-13T11:49:35.545090Z",
     "start_time": "2024-05-13T11:40:43.982282Z"
    }
   },
   "outputs": [
    {
     "name": "stdout",
     "output_type": "stream",
     "text": [
      "Epoch 1/10\n",
      "1690/1690 [==============================] - 55s 33ms/sample - loss: 1.2754 - accuracy: 0.5064\n",
      "Epoch 2/10\n",
      "1690/1690 [==============================] - 53s 31ms/sample - loss: 1.0341 - accuracy: 0.6093\n",
      "Epoch 3/10\n",
      "1690/1690 [==============================] - 52s 31ms/sample - loss: 0.9429 - accuracy: 0.6485\n",
      "Epoch 4/10\n",
      "1690/1690 [==============================] - 55s 33ms/sample - loss: 0.8903 - accuracy: 0.6679\n",
      "Epoch 5/10\n",
      "1690/1690 [==============================] - 52s 31ms/sample - loss: 0.8490 - accuracy: 0.6842\n",
      "Epoch 6/10\n",
      "1690/1690 [==============================] - 52s 31ms/sample - loss: 0.8212 - accuracy: 0.6937\n",
      "Epoch 7/10\n",
      "1690/1690 [==============================] - 53s 31ms/sample - loss: 0.8037 - accuracy: 0.7004\n",
      "Epoch 8/10\n",
      "1690/1690 [==============================] - 52s 31ms/sample - loss: 0.7897 - accuracy: 0.7051\n",
      "Epoch 9/10\n",
      "1690/1690 [==============================] - 53s 31ms/sample - loss: 0.7804 - accuracy: 0.7082\n",
      "Epoch 10/10\n",
      "1690/1690 [==============================] - 54s 32ms/sample - loss: 0.7739 - accuracy: 0.7107\n"
     ]
    }
   ],
   "source": [
    "# Step 4: Train the Model\n",
    "epochs = 10\n",
    "history = model.fit(\n",
    "    train_dataset,\n",
    "    epochs=epochs,\n",
    "    batch_size=32,\n",
    "    callbacks=[ProgbarLogger()]\n",
    ")"
   ]
  },
  {
   "cell_type": "code",
   "execution_count": 50,
   "id": "9db0adbad6118db",
   "metadata": {
    "collapsed": false,
    "ExecuteTime": {
     "end_time": "2024-05-13T11:49:46.037197Z",
     "start_time": "2024-05-13T11:49:35.546326Z"
    }
   },
   "outputs": [
    {
     "name": "stdout",
     "output_type": "stream",
     "text": [
      "564/564 [==============================] - 10s 18ms/step - loss: 0.7793 - accuracy: 0.6971\n",
      "Test Loss: 0.7793\n",
      "Test Accuracy: 0.6971\n"
     ]
    }
   ],
   "source": [
    "# Step 5: Evaluate the Model\n",
    "test_loss, test_accuracy = model.evaluate(test_dataset, steps=len(test_dataset))\n",
    "print(f'Test Loss: {test_loss:.4f}')\n",
    "print(f'Test Accuracy: {test_accuracy:.4f}')"
   ]
  },
  {
   "cell_type": "code",
   "execution_count": 51,
   "id": "f48353be3585aba6",
   "metadata": {
    "collapsed": false,
    "ExecuteTime": {
     "end_time": "2024-05-13T11:49:46.040330Z",
     "start_time": "2024-05-13T11:49:46.037962Z"
    }
   },
   "outputs": [
    {
     "name": "stdout",
     "output_type": "stream",
     "text": [
      "(TensorSpec(shape=(None, 256, 256, 3), dtype=tf.float32, name=None), TensorSpec(shape=(None,), dtype=tf.int64, name=None))\n"
     ]
    }
   ],
   "source": [
    "print(train_dataset.element_spec)"
   ]
  },
  {
   "cell_type": "code",
   "execution_count": 52,
   "id": "c47957a9a0ff3712",
   "metadata": {
    "ExecuteTime": {
     "end_time": "2024-05-13T11:49:46.042890Z",
     "start_time": "2024-05-13T11:49:46.041128Z"
    }
   },
   "outputs": [
    {
     "name": "stdout",
     "output_type": "stream",
     "text": [
      "(TensorSpec(shape=(None, 256, 256, 3), dtype=tf.float32, name=None), TensorSpec(shape=(None,), dtype=tf.int64, name=None))\n"
     ]
    }
   ],
   "source": [
    "print(test_dataset.element_spec)"
   ]
  },
  {
   "cell_type": "code",
   "outputs": [],
   "source": [],
   "metadata": {
    "collapsed": false
   },
   "id": "df38b76c6a3e8972"
  }
 ],
 "metadata": {
  "kernelspec": {
   "display_name": "Python 3",
   "language": "python",
   "name": "python3"
  },
  "language_info": {
   "codemirror_mode": {
    "name": "ipython",
    "version": 3
   },
   "file_extension": ".py",
   "mimetype": "text/x-python",
   "name": "python",
   "nbconvert_exporter": "python",
   "pygments_lexer": "ipython3",
   "version": "3.12.1"
  }
 },
 "nbformat": 4,
 "nbformat_minor": 5
}
