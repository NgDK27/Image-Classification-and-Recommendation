{
 "cells": [
  {
   "cell_type": "markdown",
   "id": "7356d0bb0c37110e",
   "metadata": {
    "collapsed": false
   },
   "source": [
    "# Preprocessing"
   ]
  },
  {
   "cell_type": "markdown",
   "id": "cb3a56b58498b093",
   "metadata": {
    "collapsed": false
   },
   "source": [
    "---\n",
    "## Imports"
   ]
  },
  {
   "cell_type": "code",
   "execution_count": 30,
   "id": "f4fffc68a871f22b",
   "metadata": {
    "ExecuteTime": {
     "end_time": "2024-05-13T17:31:57.297556Z",
     "start_time": "2024-05-13T17:31:57.295375Z"
    },
    "collapsed": false
   },
   "source": [
    "import pandas as pd\n",
    "import tensorflow as tf\n",
    "from sklearn.model_selection import train_test_split\n",
    "from pathlib import Path\n",
    "import sys\n",
    "sys.path.append('../')\n",
    "\n",
    "from utils.duplicates import remove_rows, get_duplicates_to_delete, visualize_duplicates\n",
    "\n",
    "AUTOTUNE = tf.data.experimental.AUTOTUNE"
   ],
   "outputs": []
  },
  {
   "cell_type": "code",
   "execution_count": 31,
   "id": "e9e697dc13cb950a",
   "metadata": {
    "ExecuteTime": {
     "end_time": "2024-05-13T17:31:57.410935Z",
     "start_time": "2024-05-13T17:31:57.299538Z"
    },
    "collapsed": false
   },
   "source": [
    "df = pd.read_csv('../data/processed/csv/df.csv')\n",
    "duplicates = pd.read_csv('../data/processed/csv/duplicates.csv')"
   ],
   "outputs": []
  },
  {
   "cell_type": "markdown",
   "id": "28c210a295f7959f",
   "metadata": {
    "collapsed": false
   },
   "source": [
    "--- \n",
    "## Remove duplicates"
   ]
  },
  {
   "cell_type": "markdown",
   "id": "79ab2d075ab9b619",
   "metadata": {
    "collapsed": false
   },
   "source": [
    "### Automatically delete:\n",
    "- For each duplicate group, delete all but one rows marked as \"Duplicate\" for each \"Style\".\n",
    "- Outputs \"df_no_dup\"."
   ]
  },
  {
   "cell_type": "code",
   "execution_count": 32,
   "id": "initial_id",
   "metadata": {
    "ExecuteTime": {
     "end_time": "2024-05-13T17:31:59.880942Z",
     "start_time": "2024-05-13T17:31:57.412110Z"
    },
    "collapsed": true
   },
   "source": [
    "duplicates_to_delete = get_duplicates_to_delete(duplicates)\n",
    "df_no_dup = remove_rows(df, duplicates_to_delete)\n",
    "df_no_dup.head()"
   ],
   "outputs": []
  },
  {
   "cell_type": "markdown",
   "id": "641504cce48ca671",
   "metadata": {
    "collapsed": false
   },
   "source": [
    "### Manually delete:\n",
    "- Any rows marked as \"Inspect\" that belongs in the wrong \"Class\".\n",
    "- Overwrite \"df\", as this DataFrame will continue to be used for further preprocessing."
   ]
  },
  {
   "cell_type": "code",
   "execution_count": 33,
   "id": "3f84b719dd865b99",
   "metadata": {
    "ExecuteTime": {
     "end_time": "2024-05-13T17:31:59.889753Z",
     "start_time": "2024-05-13T17:31:59.881881Z"
    },
    "collapsed": false
   },
   "source": [
    "inspects = duplicates[duplicates['Duplicate_Type'] == 'Inspect']\n",
    "total_inspect_groups = inspects[\"Group\"].nunique(dropna=False)\n",
    "inspects"
   ],
   "outputs": []
  },
  {
   "cell_type": "code",
   "execution_count": 34,
   "id": "e612349a811d1925",
   "metadata": {
    "ExecuteTime": {
     "end_time": "2024-05-13T17:31:59.892751Z",
     "start_time": "2024-05-13T17:31:59.890379Z"
    },
    "collapsed": false
   },
   "source": [
    "# Delete one of each pair\n",
    "# inspects_rows_to_delete = [91, 154, 205, 227, 235, 277, 280, 281, 287, 290, 299, 310, 318, 323, 325] \n",
    "\n",
    "# Only delete very different class (\"tables\" and \"beds\"). Similar classes are kept (\"chairs\" and \"sofas\")\n",
    "# Assuming your DataFrame is named 'df'\n",
    "inspects_rows_to_delete = ['beds/Craftsman/4866craftsman-bed.jpg', 'tables/Modern/10363modern-nightstands-and-bedside-tables.jpg']"
   ],
   "outputs": []
  },
  {
   "cell_type": "code",
   "execution_count": 35,
   "id": "15f28861eeb1cb8e",
   "metadata": {
    "ExecuteTime": {
     "end_time": "2024-05-13T17:32:01.317412Z",
     "start_time": "2024-05-13T17:31:59.894239Z"
    },
    "collapsed": false
   },
   "source": [
    "inspect_review = inspects.copy()\n",
    "inspect_review[\"Duplicate_Type\"] = \"Keep\"\n",
    "\n",
    "inspect_review.loc[inspect_review['Path'].isin(inspects_rows_to_delete), \"Duplicate_Type\"] = \"DELETE\"\n",
    "visualize_duplicates(inspect_review, total_inspect_groups)"
   ],
   "outputs": []
  },
  {
   "cell_type": "code",
   "execution_count": 36,
   "id": "3e7350bc71b9e306",
   "metadata": {
    "ExecuteTime": {
     "end_time": "2024-05-13T17:32:01.325282Z",
     "start_time": "2024-05-13T17:32:01.319505Z"
    },
    "collapsed": false
   },
   "source": [
    "inspects_to_delete = inspect_review[inspect_review[\"Duplicate_Type\"] == \"DELETE\"]\n",
    "inspects_to_delete"
   ],
   "outputs": []
  },
  {
   "cell_type": "code",
   "execution_count": 37,
   "id": "d21d02905e3a2966",
   "metadata": {
    "ExecuteTime": {
     "end_time": "2024-05-13T17:32:01.337398Z",
     "start_time": "2024-05-13T17:32:01.326016Z"
    },
    "collapsed": false
   },
   "source": [
    "df = remove_rows(df, inspects_to_delete)\n",
    "df.head()"
   ],
   "outputs": []
  },
  {
   "cell_type": "markdown",
   "id": "5d88eec96c715462",
   "metadata": {
    "collapsed": false
   },
   "source": [
    "---\n",
    "## Prepare DataFrame\n",
    "\n",
    "- Mark duplicates images for augmentation later"
   ]
  },
  {
   "cell_type": "code",
   "execution_count": 38,
   "id": "199b918f6bdeec2f",
   "metadata": {
    "ExecuteTime": {
     "end_time": "2024-05-13T17:32:01.377481Z",
     "start_time": "2024-05-13T17:32:01.338194Z"
    },
    "collapsed": false
   },
   "source": [
    "# Merge the two DataFrames based on the \"Path\" column\n",
    "merged_df = pd.merge(df, duplicates_to_delete[['Path']], on='Path', how='left', indicator=True)\n",
    "\n",
    "# Create the \"Duplicate_Type\" column based on the merge indicator\n",
    "merged_df['Duplicate_Type'] = merged_df['_merge'].map({'both': \"Duplicate\", 'left_only': \"Unique\"})\n",
    "\n",
    "# Drop the merge indicator column\n",
    "merged_df = merged_df.drop('_merge', axis=1)\n",
    "\n",
    "# Update the original \"df\" with the new \"Duplicate_Type\" column\n",
    "df = merged_df"
   ],
   "outputs": []
  },
  {
   "cell_type": "markdown",
   "id": "ffad64bb8cc963ba",
   "metadata": {
    "collapsed": false
   },
   "source": [
    "---\n",
    "## Split (train, validation, test)"
   ]
  },
  {
   "cell_type": "code",
   "execution_count": 39,
   "id": "98fec7fce5060259",
   "metadata": {
    "ExecuteTime": {
     "end_time": "2024-05-13T17:32:01.405975Z",
     "start_time": "2024-05-13T17:32:01.378097Z"
    },
    "collapsed": false
   },
   "source": [
    "train_data = df.copy()\n",
    "\n",
    "train_X, test_X = train_test_split(\n",
    "    train_data,\n",
    "    test_size=0.2,\n",
    "    random_state=42\n",
    ")\n",
    "train_X, val_X = train_test_split(\n",
    "    train_X,\n",
    "    test_size=0.25,\n",
    "    random_state=42\n",
    ")\n",
    "\n",
    "print(f\"Train: {train_X.shape[0]}\\n\"\n",
    "      f\"Validation: {val_X.shape[0]}\\n\"\n",
    "      f\"Test: {test_X.shape[0]}\")"
   ],
   "outputs": []
  },
  {
   "cell_type": "markdown",
   "id": "50f84a1a29e1d30",
   "metadata": {
    "collapsed": false
   },
   "source": [
    "--- \n",
    "## Store"
   ]
  },
  {
   "cell_type": "code",
   "execution_count": 40,
   "id": "475b0c56c5bf2bbb",
   "metadata": {
    "ExecuteTime": {
     "end_time": "2024-05-13T17:32:01.448258Z",
     "start_time": "2024-05-13T17:32:01.406743Z"
    },
    "collapsed": false
   },
   "source": [
    "%store train_X\n",
    "%store val_X\n",
    "%store test_X"
   ],
   "outputs": []
  },
  {
   "cell_type": "code",
   "source": [
    "# Create paths\n",
    "processed_csv_dir = Path('../data/processed/csv')\n",
    "processed_csv_dir.mkdir(parents=True, exist_ok=True)\n",
    "\n",
    "train_X.to_csv(processed_csv_dir / 'train_X.csv', index=False)\n",
    "val_X.to_csv(processed_csv_dir / 'val_X.csv', index=False) # Original DataFrame\n",
    "test_X.to_csv(processed_csv_dir / 'test_X.csv', index=False) # Original DataFrame"
   ],
   "metadata": {
    "collapsed": false,
    "ExecuteTime": {
     "end_time": "2024-05-14T09:46:35.934973Z",
     "start_time": "2024-05-14T09:46:35.504078Z"
    }
   },
   "id": "46f21bc26fb051d4",
   "execution_count": 42,
   "outputs": []
  },
  {
   "cell_type": "markdown",
   "id": "0e9d12c1",
   "metadata": {},
   "source": [
    "---\n",
    "## Guide for model notebooks\n",
    "\n",
    "- Run this in the model notebooks, after using this code to import them.\n",
    "``` %store -r train_X, val_X, test_X ```\n",
    "\n",
    "- The following is done to images:\n",
    "    - Resize to 256x256\n",
    "    - Augment images marked as duplicates\n",
    "    - Rescale pixel values and normalize\n",
    "- Dataset with images and target labels are produced\n",
    "\n",
    "Note: Using Tensorflow for quick normalization and rescaling. In 'utils/tensorflow_preprocessing.py' file, there is a functions to normalize and rescale the each image in the dataset."
   ]
  },
  {
   "cell_type": "code",
   "execution_count": 41,
   "id": "d6db3115",
   "metadata": {
    "ExecuteTime": {
     "end_time": "2024-05-13T17:32:01.451587Z",
     "start_time": "2024-05-13T17:32:01.449526Z"
    },
    "collapsed": false
   },
   "source": [
    "# train_class_ds, class_encoder = prepare_image_target_dataset(train_X, target_name=\"Class\")\n",
    "# val_class_ds, _ = prepare_image_target_dataset(val_X, target_name=\"Class\", label_encoder=class_encoder)\n",
    "# test_class_ds, _ = prepare_image_target_dataset(test_X, target_name=\"Class\", label_encoder=class_encoder)\n",
    "# \n",
    "# train_style_ds, style_encoder = prepare_image_target_dataset(train_X, target_name=\"Class\")\n",
    "# val_style_ds, _ = prepare_image_target_dataset(val_X, target_name=\"Class\", label_encoder=style_encoder)\n",
    "# test_style_ds, _ = prepare_image_target_dataset(test_X, target_name=\"Class\", label_encoder=style_encoder)\n",
    "# \n",
    "# rec_ds = prepare_image_dataset(df_no_dup)"
   ],
   "outputs": []
  }
 ],
 "metadata": {
  "kernelspec": {
   "display_name": "Python 3",
   "language": "python",
   "name": "python3"
  },
  "language_info": {
   "codemirror_mode": {
    "name": "ipython",
    "version": 3
   },
   "file_extension": ".py",
   "mimetype": "text/x-python",
   "name": "python",
   "nbconvert_exporter": "python",
   "pygments_lexer": "ipython3",
   "version": "3.12.1"
  }
 },
 "nbformat": 4,
 "nbformat_minor": 5
}
