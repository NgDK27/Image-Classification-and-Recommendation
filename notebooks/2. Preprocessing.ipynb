{
 "cells": [
  {
   "cell_type": "markdown",
   "source": [
    "# Preprocessing"
   ],
   "metadata": {
    "collapsed": false
   },
   "id": "7356d0bb0c37110e"
  },
  {
   "cell_type": "markdown",
   "source": [
    "---\n",
    "## Imports"
   ],
   "metadata": {
    "collapsed": false
   },
   "id": "cb3a56b58498b093"
  },
  {
   "cell_type": "code",
   "outputs": [],
   "source": [],
   "metadata": {
    "collapsed": false
   },
   "id": "f4fffc68a871f22b"
  },
  {
   "cell_type": "markdown",
   "source": [
    "--- \n",
    "## Remove duplicates"
   ],
   "metadata": {
    "collapsed": false
   },
   "id": "28c210a295f7959f"
  },
  {
   "cell_type": "code",
   "execution_count": null,
   "id": "initial_id",
   "metadata": {
    "collapsed": true
   },
   "outputs": [],
   "source": []
  },
  {
   "cell_type": "markdown",
   "source": [
    "---\n",
    "## Split (train, validation, test)"
   ],
   "metadata": {
    "collapsed": false
   },
   "id": "ffad64bb8cc963ba"
  },
  {
   "cell_type": "code",
   "outputs": [],
   "source": [],
   "metadata": {
    "collapsed": false
   },
   "id": "93984caa010157b3"
  },
  {
   "cell_type": "markdown",
   "source": [
    "---\n",
    "## Rescaling"
   ],
   "metadata": {
    "collapsed": false
   },
   "id": "180b396f80fc8cbd"
  },
  {
   "cell_type": "code",
   "outputs": [],
   "source": [],
   "metadata": {
    "collapsed": false
   },
   "id": "8875625541c14cdd"
  },
  {
   "cell_type": "markdown",
   "source": [
    "---\n",
    "## Normalization (pixel)"
   ],
   "metadata": {
    "collapsed": false
   },
   "id": "33a7a592abbf2396"
  },
  {
   "cell_type": "code",
   "outputs": [],
   "source": [],
   "metadata": {
    "collapsed": false
   },
   "id": "11026714bd3a7f0e"
  },
  {
   "cell_type": "markdown",
   "source": [
    "---\n",
    "## Augmentation"
   ],
   "metadata": {
    "collapsed": false
   },
   "id": "afbeb68370ba77b2"
  },
  {
   "cell_type": "code",
   "outputs": [],
   "source": [],
   "metadata": {
    "collapsed": false
   },
   "id": "4eba7b4ebd0788fd"
  },
  {
   "cell_type": "markdown",
   "source": [
    "---\n",
    "## Encoding"
   ],
   "metadata": {
    "collapsed": false
   },
   "id": "ac6e5be3efc62955"
  },
  {
   "cell_type": "code",
   "outputs": [],
   "source": [],
   "metadata": {
    "collapsed": false
   },
   "id": "e8cb8ff7f814914a"
  }
 ],
 "metadata": {
  "kernelspec": {
   "display_name": "Python 3",
   "language": "python",
   "name": "python3"
  },
  "language_info": {
   "codemirror_mode": {
    "name": "ipython",
    "version": 2
   },
   "file_extension": ".py",
   "mimetype": "text/x-python",
   "name": "python",
   "nbconvert_exporter": "python",
   "pygments_lexer": "ipython2",
   "version": "2.7.6"
  }
 },
 "nbformat": 4,
 "nbformat_minor": 5
}
