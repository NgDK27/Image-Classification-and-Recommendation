{
 "cells": [
  {
   "cell_type": "markdown",
   "id": "7356d0bb0c37110e",
   "metadata": {
    "collapsed": false
   },
   "source": [
    "# Preprocessing"
   ]
  },
  {
   "cell_type": "markdown",
   "id": "cb3a56b58498b093",
   "metadata": {
    "collapsed": false
   },
   "source": [
    "---\n",
    "## Imports"
   ]
  },
  {
   "cell_type": "code",
   "id": "f4fffc68a871f22b",
   "metadata": {
    "collapsed": false
   },
   "source": [
    "import pandas as pd\n",
    "import numpy as np\n",
    "from sklearn.model_selection import train_test_split\n",
    "\n",
    "import sys\n",
    "sys.path.append('../')\n",
    "\n",
    "from utils.duplicates import remove_rows, get_duplicates_to_delete, visualize_duplicates\n",
    "from utils.tensorflow_preprocessing import prepare_image_dataset, show_batch\n",
    "from utils.encoding import one_hot_encode, label_encode"
   ],
   "outputs": [],
   "execution_count": null
  },
  {
   "cell_type": "code",
   "id": "e9e697dc13cb950a",
   "metadata": {
    "collapsed": false
   },
   "source": [
    "df = pd.read_csv('../data/processed/csv/df.csv')\n",
    "duplicates = pd.read_csv('../data/processed/csv/duplicates.csv')"
   ],
   "outputs": [],
   "execution_count": null
  },
  {
   "cell_type": "markdown",
   "id": "28c210a295f7959f",
   "metadata": {
    "collapsed": false
   },
   "source": [
    "--- \n",
    "## Remove duplicates\n",
    "\n",
    "2 DataFrames will be outputted:\n",
    "\n",
    "| Variables   | Description                                                       |\n",
    "|-------------|-------------------------------------------------------------------|\n",
    "| `df_no_dup` | DataFrame with all but one duplicates of each style removed       |\n",
    "| `df_no_ins` | DataFrame with misclassified images manually reviewed and removed |"
   ]
  },
  {
   "cell_type": "markdown",
   "id": "79ab2d075ab9b619",
   "metadata": {
    "collapsed": false
   },
   "source": [
    "### Automatically delete:\n",
    "- For each duplicate group, delete all but one rows marked as \"Duplicate\" for each \"Style\".\n",
    "- Outputs \"df_no_dup\"."
   ]
  },
  {
   "cell_type": "code",
   "id": "initial_id",
   "metadata": {
    "collapsed": true
   },
   "source": [
    "duplicates_to_delete = get_duplicates_to_delete(duplicates)\n",
    "df_no_dup = remove_rows(df, duplicates_to_delete)\n",
    "df_no_dup"
   ],
   "outputs": [],
   "execution_count": null
  },
  {
   "cell_type": "markdown",
   "id": "641504cce48ca671",
   "metadata": {
    "collapsed": false
   },
   "source": [
    "### Manually delete:\n",
    "- Any rows marked as \"Inspect\" that belongs in the wrong \"Class\".\n",
    "- Outputs \"df_no_ins\""
   ]
  },
  {
   "cell_type": "code",
   "id": "3f84b719dd865b99",
   "metadata": {
    "collapsed": false
   },
   "source": [
    "inspects = duplicates[duplicates['Duplicate_Type'] == 'Inspect']\n",
    "inspects"
   ],
   "outputs": [],
   "execution_count": null
  },
  {
   "cell_type": "code",
   "id": "aa9ef12d5f793a6f",
   "metadata": {
    "collapsed": false
   },
   "source": [
    "total_inspect_groups = inspects[\"Group\"].nunique(dropna=False)"
   ],
   "outputs": [],
   "execution_count": null
  },
  {
   "cell_type": "code",
   "id": "e612349a811d1925",
   "metadata": {
    "collapsed": false
   },
   "source": [
    "inspects_rows_to_delete = [91, 154, 205, 227, 235, 277, 280, 281, 287, 290, 299, 310, 318, 323, 325]"
   ],
   "outputs": [],
   "execution_count": null
  },
  {
   "cell_type": "code",
   "id": "15f28861eeb1cb8e",
   "metadata": {
    "collapsed": false
   },
   "source": [
    "inspect_review = inspects.copy()\n",
    "inspect_review[\"Duplicate_Type\"] = \"Keep\"\n",
    "# inspect_review.loc[inspects_rows_to_delete, \"Duplicate_Type\"] = \"DELETE\""
   ],
   "outputs": [],
   "execution_count": null
  },
  {
   "cell_type": "code",
   "id": "a2776d5e64dbd086",
   "metadata": {
    "collapsed": false
   },
   "source": [
    "visualize_duplicates(inspect_review, total_inspect_groups)"
   ],
   "outputs": [],
   "execution_count": null
  },
  {
   "cell_type": "code",
   "id": "3e7350bc71b9e306",
   "metadata": {
    "collapsed": false
   },
   "source": [
    "inspects_to_delete = inspect_review[inspect_review[\"Duplicate_Type\"] == \"DELETE\"]\n",
    "inspects_to_delete"
   ],
   "outputs": [],
   "execution_count": null
  },
  {
   "cell_type": "code",
   "id": "d21d02905e3a2966",
   "metadata": {
    "collapsed": false
   },
   "source": [
    "df_no_ins = remove_rows(df, inspects_to_delete)\n",
    "df_no_ins"
   ],
   "outputs": [],
   "execution_count": null
  },
  {
   "cell_type": "markdown",
   "id": "ffad64bb8cc963ba",
   "metadata": {
    "collapsed": false
   },
   "source": [
    "---\n",
    "## Split (train, validation, test)\n",
    "\n",
    "This part is complicated since there are 2 starting DataFrames (duplicates cleaned / inspects cleaned), and 2 target classes (Class / Style). \n",
    "Please refer to this table for the variables after splitting.\n",
    "\n",
    "#### Duplicates cleaned\n",
    "| Train                  | Validation           | Test                  | Description   |\n",
    "|------------------------|----------------------|-----------------------|---------------|\n",
    "| `no_dup_train_X`       | `no_dup_val_X`       | `no_dup_test_X`       | Data features |\n",
    "| `no_dup_train_Y_class` | `no_dup_val_Y_class` | `no_dup_test_Y_class` | Target class  |\n",
    "| `no_dup_train_Y_style` | `no_dup_val_Y_style` | `no_dup_test_Y_style` | Target style  |\n",
    "\n",
    "#### Manual inspection cleaned\n",
    "| Train                  | Validation           | Test                  | Description   |\n",
    "|------------------------|----------------------|-----------------------|---------------|\n",
    "| `no_ins_train_X`       | `no_ins_val_X`       | `no_ins_test_X`       | Data features |\n",
    "| `no_ins_train_Y_class` | `no_ins_val_Y_class` | `no_ins_test_Y_class` | Target class  |\n",
    "| `no_ins_train_Y_style` | `no_ins_val_Y_style` | `no_ins_test_Y_style` | Target style  |\n"
   ]
  },
  {
   "cell_type": "markdown",
   "id": "f3392985afc54db7",
   "metadata": {
    "collapsed": false
   },
   "source": [
    "### Prepare target and training"
   ]
  },
  {
   "cell_type": "code",
   "id": "93984caa010157b3",
   "metadata": {
    "collapsed": false
   },
   "source": [
    "# df_no_dup\n",
    "df_no_dup_target_class = df_no_dup[[\"Class\"]].copy()\n",
    "df_no_dup_target_style = df_no_dup[[\"Style\"]].copy()\n",
    "\n",
    "# df_no_ins\n",
    "df_no_ins_target_class = df_no_ins[[\"Class\"]].copy()\n",
    "df_no_ins_target_style = df_no_ins[[\"Style\"]].copy()"
   ],
   "outputs": [],
   "execution_count": null
  },
  {
   "cell_type": "code",
   "id": "2b8460c92b529354",
   "metadata": {
    "collapsed": false
   },
   "source": [
    "# Currently dropping all but \"Path\", since the values of all the other columns (\"Type\", \"Width\", \"Height\"...) is the same\n",
    "columns_to_keep = [\"Path\"] # Change later if needed\n",
    "columns_to_drop = [col for col in df.columns if col not in columns_to_keep]\n",
    "\n",
    "df_no_dup_train = df_no_dup.drop(columns=columns_to_drop, axis=1)\n",
    "df_no_ins_train = df_no_ins.drop(columns=columns_to_drop, axis=1)"
   ],
   "outputs": [],
   "execution_count": null
  },
  {
   "cell_type": "markdown",
   "id": "aa755dbeb940c4e5",
   "metadata": {
    "collapsed": false
   },
   "source": [
    "### Splitting"
   ]
  },
  {
   "cell_type": "code",
   "id": "d3c9b3b367651993",
   "metadata": {
    "collapsed": false
   },
   "source": [
    "# df_no_dup\n",
    "no_dup_train_X, no_dup_test_X, no_dup_train_Y_class, no_dup_test_Y_class, no_dup_train_Y_style, no_dup_test_Y_style = train_test_split(\n",
    "    df_no_dup_train,\n",
    "    df_no_dup_target_class,\n",
    "    df_no_dup_target_style,\n",
    "    test_size=0.2,\n",
    "    random_state=42\n",
    ")\n",
    "no_dup_train_X, no_dup_val_X, no_dup_train_Y_class, no_dup_val_Y_class, no_dup_train_Y_style, no_dup_val_Y_style = train_test_split(\n",
    "    no_dup_train_X,\n",
    "    no_dup_train_Y_class,\n",
    "    no_dup_train_Y_style,\n",
    "    test_size=0.25,\n",
    "    random_state=42\n",
    ")\n",
    "\n",
    "# df_no_ins\n",
    "no_ins_train_X, no_ins_test_X, no_ins_train_Y_class, no_ins_test_Y_class, no_ins_train_Y_style, no_ins_test_Y_style = train_test_split(\n",
    "    df_no_ins_train,\n",
    "    df_no_ins_target_class,\n",
    "    df_no_ins_target_style,\n",
    "    test_size=0.2,\n",
    "    random_state=42\n",
    ")\n",
    "no_ins_train_X, no_ins_val_X, no_ins_train_Y_class, no_ins_val_Y_class, no_ins_train_Y_style, no_ins_val_Y_style = train_test_split(\n",
    "    no_ins_train_X,\n",
    "    no_ins_train_Y_class,\n",
    "    no_ins_train_Y_style,\n",
    "    test_size=0.25,\n",
    "    random_state=42\n",
    ")"
   ],
   "outputs": [],
   "execution_count": null
  },
  {
   "cell_type": "markdown",
   "id": "9d742526065dece7",
   "metadata": {
    "collapsed": false
   },
   "source": [
    "Note: please refer to the tables under \"Split (train, validation, test)\" for easier understanding"
   ]
  },
  {
   "cell_type": "markdown",
   "id": "0e9d12c1",
   "metadata": {},
   "source": [
    "---\n",
    "## Rescaling & Normalization\n",
    "Note: Using Tensorflow for quick normalization and rescaling. In 'utils/tensorflow_preprocessing.py' file, there is a functions to normalize and rescale the each image in the dataset."
   ]
  },
  {
   "cell_type": "code",
   "id": "492c0bcd",
   "metadata": {},
   "source": [
    "import tensorflow as tf\n",
    "AUTOTUNE = tf.data.experimental.AUTOTUNE\n",
    "\n",
    "tf.__version__"
   ],
   "outputs": [],
   "execution_count": null
  },
  {
   "metadata": {
    "ExecuteTime": {
     "end_time": "2024-05-11T21:57:10.619502Z",
     "start_time": "2024-05-11T21:56:58.901643Z"
    }
   },
   "cell_type": "code",
   "source": [
    "import pandas as pd\n",
    "import tensorflow as tf\n",
    "from utils.duplicates import remove_rows, get_duplicates_to_delete, visualize_duplicates\n",
    "from utils.tensorflow_preprocessing import prepare_image_dataset, show_batch\n",
    "\n",
    "df = pd.read_csv('../data/processed/csv/df.csv')\n",
    "duplicates = pd.read_csv('../data/processed/csv/duplicates.csv')\n",
    "dup_df = get_duplicates_to_delete(duplicates)\n",
    "dup_paths = dup_df['Path']\n",
    "df['Augment'] = df['Path'].isin(dup_paths)"
   ],
   "id": "702db81a758f0db1",
   "outputs": [
    {
     "name": "stdout",
     "output_type": "stream",
     "text": [
      "Identifying rows to delete...\n"
     ]
    },
    {
     "name": "stderr",
     "output_type": "stream",
     "text": [
      "100%|██████████| 5684/5684 [00:05<00:00, 1045.02it/s]\n"
     ]
    }
   ],
   "execution_count": 1
  },
  {
   "cell_type": "code",
   "id": "42531a71",
   "metadata": {},
   "source": [
    "base_path = '../data/raw/Furniture_Data'\n",
    "\n",
    "# dup_train_datagen = create_image_data_generator()\n",
    "# image_paths = no_dup_train_X['Path'].tolist()\n",
    "# dup_train_generator = prepare_image_dataset(image_paths, 256, 256, 32, dup_train_datagen, base_path)"
   ],
   "outputs": [],
   "execution_count": null
  },
  {
   "cell_type": "code",
   "id": "1dbdb5bc",
   "metadata": {},
   "source": [
    "# dup_val_datagen = create_image_data_generator()\n",
    "# image_paths = no_dup_train_X['Path'].tolist()\n",
    "# dup_val_generator = prepare_image_dataset(image_paths, 256, 256, 32, dup_val_datagen, base_path)"
   ],
   "outputs": [],
   "execution_count": null
  },
  {
   "cell_type": "code",
   "id": "fb7db6c4",
   "metadata": {},
   "source": [
    "# dup_test_datagen = create_image_data_generator()\n",
    "# image_paths = no_dup_train_X['Path'].tolist()\n",
    "# dup_test_generator = prepare_image_dataset(image_paths, 256, 256, 32, dup_test_datagen, base_path)"
   ],
   "outputs": [],
   "execution_count": null
  },
  {
   "metadata": {
    "ExecuteTime": {
     "end_time": "2024-05-11T21:57:11.420841Z",
     "start_time": "2024-05-11T21:57:10.620513Z"
    }
   },
   "cell_type": "code",
   "source": [
    "from utils.encoding import one_hot_encode, label_encode\n",
    "\n",
    "df_style = df[[\"Class\"]].copy()\n",
    "df_style = label_encode(df_style, 'Class')"
   ],
   "id": "83cfeaaa0d9701ab",
   "outputs": [],
   "execution_count": 2
  },
  {
   "cell_type": "code",
   "id": "d6db3115",
   "metadata": {
    "ExecuteTime": {
     "end_time": "2024-05-11T21:57:11.989775Z",
     "start_time": "2024-05-11T21:57:11.422845Z"
    }
   },
   "source": [
    "# ins_train_datagen = create_image_data_generator()\n",
    "# image_paths = no_dup_train_X['Path'].tolist()\n",
    "\n",
    "base_path = '../data/raw/Furniture_Data'\n",
    "labels = df_style[\"Encoded_Class\"].values\n",
    "ins_train_generator = prepare_image_dataset(df, labels, 256, 256, 32, base_path)"
   ],
   "outputs": [],
   "execution_count": 3
  },
  {
   "metadata": {
    "ExecuteTime": {
     "end_time": "2024-05-11T21:41:04.192521Z",
     "start_time": "2024-05-11T21:41:03.821698Z"
    }
   },
   "cell_type": "code",
   "source": [
    "from matplotlib import pyplot as plt\n",
    "\n",
    "for images, labels in ins_train_generator.shuffle(buffer_size=10).take(1):\n",
    "    image = images[0]\n",
    "    label = labels[0]\n",
    "\n",
    "plt.figure()\n",
    "plt.imshow(image.numpy().astype('uint8'))  # Convert image tensor to NumPy array for plotting\n",
    "plt.title(f\"Label: {label.numpy()}\")\n",
    "plt.axis('off')  # Hide axis\n",
    "plt.show()"
   ],
   "id": "c753b35da47b5dcb",
   "outputs": [
    {
     "data": {
      "text/plain": [
       "<Figure size 640x480 with 1 Axes>"
      ],
      "image/png": "[encoded data removed]"
     },
     "metadata": {},
     "output_type": "display_data"
    }
   ],
   "execution_count": 4
  },
  {
   "metadata": {
    "ExecuteTime": {
     "end_time": "2024-05-11T21:46:22.590792Z",
     "start_time": "2024-05-11T21:45:43.311817Z"
    }
   },
   "cell_type": "code",
   "source": [
    "batch_size = 32\n",
    "labels_list = []\n",
    "for images, labels in ins_train_generator:\n",
    "    # Visualize all images in the batch\n",
    "    # plt.figure(figsize=(12, 12))\n",
    "    # for i in range(batch_size):\n",
    "    #     plt.subplot(8, 4, i + 1)  # Create subplot in a 8x4 grid\n",
    "    #     plt.imshow(images[i].numpy().astype('uint8'))  # Convert image tensor to NumPy array for plotting\n",
    "    #     plt.title(f\"Label: {labels[i].numpy()}\")\n",
    "    #     plt.axis('off')  # Hide axis\n",
    "    # plt.tight_layout()  # Adjust layout\n",
    "    # plt.show()\n",
    "    for label in labels:\n",
    "        labels_list.append(label.numpy())\n",
    "    # print(labels)\n",
    "\n",
    "df_labels = pd.DataFrame({'Label': labels_list})"
   ],
   "id": "190df8803ffb2237",
   "outputs": [],
   "execution_count": 13
  },
  {
   "metadata": {},
   "cell_type": "code",
   "outputs": [],
   "execution_count": null,
   "source": "df_labels",
   "id": "64e055248b1b916e"
  },
  {
   "metadata": {},
   "cell_type": "code",
   "outputs": [],
   "execution_count": null,
   "source": "",
   "id": "f92b80378344f06b"
  },
  {
   "cell_type": "code",
   "id": "004d0c46",
   "metadata": {},
   "source": [
    "# ins_val_datagen = create_image_data_generator()\n",
    "# image_paths = no_dup_train_X['Path'].tolist()\n",
    "# ins_val_generator = prepare_image_dataset(image_paths, 256, 256, 32, ins_val_datagen, base_path)"
   ],
   "outputs": [],
   "execution_count": null
  },
  {
   "cell_type": "code",
   "id": "a36642e3",
   "metadata": {},
   "source": [
    "# ins_test_datagen = create_image_data_generator()\n",
    "# image_paths = no_dup_train_X['Path'].tolist()\n",
    "# ins_test_generator = prepare_image_dataset(image_paths, 256, 256, 32, ins_test_datagen, base_path)"
   ],
   "outputs": [],
   "execution_count": null
  },
  {
   "cell_type": "markdown",
   "id": "c96709a8",
   "metadata": {},
   "source": [
    "---\n",
    "### Testing code to check if the images are clearly normalized (Can delete after checking)"
   ]
  },
  {
   "cell_type": "code",
   "id": "28748da5",
   "metadata": {},
   "source": [
    "# Visualize the first batch in dup_train_generator\n",
    "for image_batch, path_batch in dup_train_generator.take(1):\n",
    "    show_batch(image_batch.numpy(), path_batch.numpy().astype(str))"
   ],
   "outputs": [],
   "execution_count": null
  },
  {
   "cell_type": "code",
   "id": "91b401af",
   "metadata": {},
   "source": [
    "# Extract the first batch\n",
    "# for images, _ in dup_train_generator.take(1):\n",
    "#     images = images.numpy()  # Convert Tensor to NumPy array\n",
    "# \n",
    "#     # Find positions of pixels in the first image that are neither 0 nor 1\n",
    "#     non_binary_pixels = np.where((images[0] != 0) & (images[0] != 1))\n",
    "# \n",
    "#     # Print the positions of these non-binary pixels\n",
    "#     print(\"Non-binary pixel positions (y, x, channel):\")\n",
    "#     for y, x, c in zip(*non_binary_pixels):\n",
    "#         print(f\"Position ({y}, {x}, {c}) with value {images[0][y][x][c]}\")"
   ],
   "outputs": [],
   "execution_count": null
  },
  {
   "cell_type": "markdown",
   "id": "afbeb68370ba77b2",
   "metadata": {
    "collapsed": false
   },
   "source": [
    "---\n",
    "## Augmentation"
   ]
  },
  {
   "cell_type": "code",
   "id": "4eba7b4ebd0788fd",
   "metadata": {
    "collapsed": false
   },
   "source": "# ins_train_generator",
   "outputs": [],
   "execution_count": null
  },
  {
   "cell_type": "markdown",
   "id": "ac6e5be3efc62955",
   "metadata": {
    "collapsed": false
   },
   "source": [
    "---\n",
    "## Encoding"
   ]
  },
  {
   "cell_type": "code",
   "id": "e8cb8ff7f814914a",
   "metadata": {
    "collapsed": false
   },
   "source": [
    "# One-Hot Encoding\n",
    "no_dup_train_Y_style = one_hot_encode(no_dup_train_Y_style, 'Style')\n",
    "no_dup_test_Y_style = one_hot_encode(no_dup_test_Y_style, 'Style')\n",
    "no_dup_val_Y_style = one_hot_encode(no_dup_val_Y_style, 'Style')\n",
    "\n",
    "no_ins_train_Y_style = one_hot_encode(no_ins_train_Y_style, 'Style')\n",
    "no_ins_test_Y_style = one_hot_encode(no_ins_test_Y_style, 'Style')\n",
    "no_ins_val_Y_style = one_hot_encode(no_ins_val_Y_style, 'Style')\n",
    "\n",
    "# Label Encoding\n",
    "no_dup_train_Y_class = label_encode(no_dup_train_Y_class, 'Class')\n",
    "no_dup_test_Y_class = label_encode(no_dup_test_Y_class, 'Class')\n",
    "no_dup_val_Y_class = label_encode(no_dup_val_Y_class, 'Class')\n",
    "\n",
    "no_ins_train_Y_class = label_encode(no_ins_train_Y_class, 'Class')\n",
    "no_ins_test_Y_class = label_encode(no_ins_test_Y_class, 'Class')\n",
    "no_ins_val_Y_class = label_encode(no_ins_val_Y_class, 'Class')"
   ],
   "outputs": [],
   "execution_count": null
  },
  {
   "cell_type": "code",
   "id": "c1f90cd1",
   "metadata": {},
   "source": [
    "no_dup_train_Y_style.head()"
   ],
   "outputs": [],
   "execution_count": null
  },
  {
   "cell_type": "code",
   "id": "6802bff0",
   "metadata": {},
   "source": [
    "no_dup_train_Y_class.head()"
   ],
   "outputs": [],
   "execution_count": null
  },
  {
   "cell_type": "markdown",
   "id": "f6a16b78",
   "metadata": {},
   "source": [
    "---\n",
    "## Saving the images"
   ]
  },
  {
   "cell_type": "markdown",
   "id": "71033035",
   "metadata": {},
   "source": []
  },
  {
   "metadata": {
    "ExecuteTime": {
     "end_time": "2024-05-11T22:07:08.852954Z",
     "start_time": "2024-05-11T22:07:08.802430Z"
    }
   },
   "cell_type": "code",
   "source": [
    "from keras import Sequential\n",
    "from keras import layers, models, Input\n",
    "\n",
    "model = Sequential([\n",
    "    layers.Rescaling(1./255, input_shape=(256, 256, 3)),\n",
    "    layers.Conv2D(16, 3, padding='same', activation='relu'),\n",
    "    layers.MaxPooling2D(),\n",
    "    layers.Conv2D(32, 3, padding='same', activation='relu'),\n",
    "    layers.MaxPooling2D(),\n",
    "    layers.Conv2D(64, 3, padding='same', activation='relu'),\n",
    "    layers.MaxPooling2D(),\n",
    "    layers.Flatten(),\n",
    "    layers.Dense(128, activation='relu'),\n",
    "    layers.Dense(6)\n",
    "])\n",
    "\n",
    "model.compile(optimizer='adam',\n",
    "              loss='categorical_crossentropy',\n",
    "              metrics=['accuracy'])"
   ],
   "id": "4a68f75cf1d5c494",
   "outputs": [
    {
     "name": "stderr",
     "output_type": "stream",
     "text": [
      "C:\\Users\\Kiet\\DataspellProjects\\Image-Classification-and-Recommendation\\venv\\Lib\\site-packages\\keras\\src\\layers\\preprocessing\\tf_data_layer.py:18: UserWarning: Do not pass an `input_shape`/`input_dim` argument to a layer. When using Sequential models, prefer using an `Input(shape)` object as the first layer in the model instead.\n",
      "  super().__init__(**kwargs)\n"
     ]
    }
   ],
   "execution_count": 27
  },
  {
   "metadata": {
    "ExecuteTime": {
     "end_time": "2024-05-11T22:07:09.582085Z",
     "start_time": "2024-05-11T22:07:09.489550Z"
    }
   },
   "cell_type": "code",
   "source": [
    "epochs=10\n",
    "history = model.fit(\n",
    "    ins_train_generator,\n",
    "    epochs=epochs\n",
    ")"
   ],
   "id": "af7fb23773c5de39",
   "outputs": [
    {
     "name": "stdout",
     "output_type": "stream",
     "text": [
      "Epoch 1/10\n"
     ]
    },
    {
     "ename": "ValueError",
     "evalue": "Arguments `target` and `output` must have the same rank (ndim). Received: target.shape=(None,), output.shape=(None, 6)",
     "output_type": "error",
     "traceback": [
      "\u001B[1;31m---------------------------------------------------------------------------\u001B[0m",
      "\u001B[1;31mValueError\u001B[0m                                Traceback (most recent call last)",
      "Cell \u001B[1;32mIn[28], line 2\u001B[0m\n\u001B[0;32m      1\u001B[0m epochs\u001B[38;5;241m=\u001B[39m\u001B[38;5;241m10\u001B[39m\n\u001B[1;32m----> 2\u001B[0m history \u001B[38;5;241m=\u001B[39m \u001B[43mmodel\u001B[49m\u001B[38;5;241;43m.\u001B[39;49m\u001B[43mfit\u001B[49m\u001B[43m(\u001B[49m\n\u001B[0;32m      3\u001B[0m \u001B[43m    \u001B[49m\u001B[43mins_train_generator\u001B[49m\u001B[43m,\u001B[49m\n\u001B[0;32m      4\u001B[0m \u001B[43m    \u001B[49m\u001B[43mepochs\u001B[49m\u001B[38;5;241;43m=\u001B[39;49m\u001B[43mepochs\u001B[49m\n\u001B[0;32m      5\u001B[0m \u001B[43m)\u001B[49m\n",
      "File \u001B[1;32m~\\DataspellProjects\\Image-Classification-and-Recommendation\\venv\\Lib\\site-packages\\keras\\src\\utils\\traceback_utils.py:122\u001B[0m, in \u001B[0;36mfilter_traceback.<locals>.error_handler\u001B[1;34m(*args, **kwargs)\u001B[0m\n\u001B[0;32m    119\u001B[0m     filtered_tb \u001B[38;5;241m=\u001B[39m _process_traceback_frames(e\u001B[38;5;241m.\u001B[39m__traceback__)\n\u001B[0;32m    120\u001B[0m     \u001B[38;5;66;03m# To get the full stack trace, call:\u001B[39;00m\n\u001B[0;32m    121\u001B[0m     \u001B[38;5;66;03m# `keras.config.disable_traceback_filtering()`\u001B[39;00m\n\u001B[1;32m--> 122\u001B[0m     \u001B[38;5;28;01mraise\u001B[39;00m e\u001B[38;5;241m.\u001B[39mwith_traceback(filtered_tb) \u001B[38;5;28;01mfrom\u001B[39;00m \u001B[38;5;28;01mNone\u001B[39;00m\n\u001B[0;32m    123\u001B[0m \u001B[38;5;28;01mfinally\u001B[39;00m:\n\u001B[0;32m    124\u001B[0m     \u001B[38;5;28;01mdel\u001B[39;00m filtered_tb\n",
      "File \u001B[1;32m~\\DataspellProjects\\Image-Classification-and-Recommendation\\venv\\Lib\\site-packages\\keras\\src\\backend\\tensorflow\\nn.py:572\u001B[0m, in \u001B[0;36mcategorical_crossentropy\u001B[1;34m(target, output, from_logits, axis)\u001B[0m\n\u001B[0;32m    566\u001B[0m     \u001B[38;5;28;01mraise\u001B[39;00m \u001B[38;5;167;01mValueError\u001B[39;00m(\n\u001B[0;32m    567\u001B[0m         \u001B[38;5;124m\"\u001B[39m\u001B[38;5;124mArguments `target` and `output` must be at least rank 1. \u001B[39m\u001B[38;5;124m\"\u001B[39m\n\u001B[0;32m    568\u001B[0m         \u001B[38;5;124m\"\u001B[39m\u001B[38;5;124mReceived: \u001B[39m\u001B[38;5;124m\"\u001B[39m\n\u001B[0;32m    569\u001B[0m         \u001B[38;5;124mf\u001B[39m\u001B[38;5;124m\"\u001B[39m\u001B[38;5;124mtarget.shape=\u001B[39m\u001B[38;5;132;01m{\u001B[39;00mtarget\u001B[38;5;241m.\u001B[39mshape\u001B[38;5;132;01m}\u001B[39;00m\u001B[38;5;124m, output.shape=\u001B[39m\u001B[38;5;132;01m{\u001B[39;00moutput\u001B[38;5;241m.\u001B[39mshape\u001B[38;5;132;01m}\u001B[39;00m\u001B[38;5;124m\"\u001B[39m\n\u001B[0;32m    570\u001B[0m     )\n\u001B[0;32m    571\u001B[0m \u001B[38;5;28;01mif\u001B[39;00m \u001B[38;5;28mlen\u001B[39m(target\u001B[38;5;241m.\u001B[39mshape) \u001B[38;5;241m!=\u001B[39m \u001B[38;5;28mlen\u001B[39m(output\u001B[38;5;241m.\u001B[39mshape):\n\u001B[1;32m--> 572\u001B[0m     \u001B[38;5;28;01mraise\u001B[39;00m \u001B[38;5;167;01mValueError\u001B[39;00m(\n\u001B[0;32m    573\u001B[0m         \u001B[38;5;124m\"\u001B[39m\u001B[38;5;124mArguments `target` and `output` must have the same rank \u001B[39m\u001B[38;5;124m\"\u001B[39m\n\u001B[0;32m    574\u001B[0m         \u001B[38;5;124m\"\u001B[39m\u001B[38;5;124m(ndim). Received: \u001B[39m\u001B[38;5;124m\"\u001B[39m\n\u001B[0;32m    575\u001B[0m         \u001B[38;5;124mf\u001B[39m\u001B[38;5;124m\"\u001B[39m\u001B[38;5;124mtarget.shape=\u001B[39m\u001B[38;5;132;01m{\u001B[39;00mtarget\u001B[38;5;241m.\u001B[39mshape\u001B[38;5;132;01m}\u001B[39;00m\u001B[38;5;124m, output.shape=\u001B[39m\u001B[38;5;132;01m{\u001B[39;00moutput\u001B[38;5;241m.\u001B[39mshape\u001B[38;5;132;01m}\u001B[39;00m\u001B[38;5;124m\"\u001B[39m\n\u001B[0;32m    576\u001B[0m     )\n\u001B[0;32m    577\u001B[0m \u001B[38;5;28;01mfor\u001B[39;00m e1, e2 \u001B[38;5;129;01min\u001B[39;00m \u001B[38;5;28mzip\u001B[39m(target\u001B[38;5;241m.\u001B[39mshape, output\u001B[38;5;241m.\u001B[39mshape):\n\u001B[0;32m    578\u001B[0m     \u001B[38;5;28;01mif\u001B[39;00m e1 \u001B[38;5;129;01mis\u001B[39;00m \u001B[38;5;129;01mnot\u001B[39;00m \u001B[38;5;28;01mNone\u001B[39;00m \u001B[38;5;129;01mand\u001B[39;00m e2 \u001B[38;5;129;01mis\u001B[39;00m \u001B[38;5;129;01mnot\u001B[39;00m \u001B[38;5;28;01mNone\u001B[39;00m \u001B[38;5;129;01mand\u001B[39;00m e1 \u001B[38;5;241m!=\u001B[39m e2:\n",
      "\u001B[1;31mValueError\u001B[0m: Arguments `target` and `output` must have the same rank (ndim). Received: target.shape=(None,), output.shape=(None, 6)"
     ]
    }
   ],
   "execution_count": 28
  },
  {
   "metadata": {
    "ExecuteTime": {
     "end_time": "2024-05-11T22:06:23.315454Z",
     "start_time": "2024-05-11T22:06:23.310266Z"
    }
   },
   "cell_type": "code",
   "source": [
    "from keras.src.optimizers import Adam\n",
    "import keras\n",
    "from keras.src.layers import Dense, BatchNormalization, Dropout, Rescaling\n",
    "\n",
    "def create_model(num_layers=1, num_neurons=64, learning_rate=0.001, dropout_rate=0.2):\n",
    "    model = Sequential()\n",
    "    model.add(Rescaling(1./255, input_shape=(256, 256, 3)))\n",
    "    for _ in range(num_layers):\n",
    "        model.add(Dense(num_neurons, activation='relu'))\n",
    "        model.add(BatchNormalization())\n",
    "        model.add(Dropout(dropout_rate))\n",
    "    model.add(Dense(6))\n",
    "    optimizer = Adam(learning_rate=learning_rate)\n",
    "    model.compile(optimizer=optimizer, loss='categorical_crossentropy', metrics=['accuracy'])\n",
    "    return model"
   ],
   "id": "77a580d88901c605",
   "outputs": [],
   "execution_count": 24
  },
  {
   "metadata": {
    "ExecuteTime": {
     "end_time": "2024-05-11T22:06:23.668670Z",
     "start_time": "2024-05-11T22:06:23.587023Z"
    }
   },
   "cell_type": "code",
   "source": "model = create_model(num_layers=3)",
   "id": "d2fc463e57025644",
   "outputs": [
    {
     "name": "stderr",
     "output_type": "stream",
     "text": [
      "C:\\Users\\Kiet\\DataspellProjects\\Image-Classification-and-Recommendation\\venv\\Lib\\site-packages\\keras\\src\\layers\\preprocessing\\tf_data_layer.py:18: UserWarning: Do not pass an `input_shape`/`input_dim` argument to a layer. When using Sequential models, prefer using an `Input(shape)` object as the first layer in the model instead.\n",
      "  super().__init__(**kwargs)\n"
     ]
    }
   ],
   "execution_count": 25
  },
  {
   "metadata": {
    "ExecuteTime": {
     "end_time": "2024-05-11T22:06:23.931606Z",
     "start_time": "2024-05-11T22:06:23.763504Z"
    }
   },
   "cell_type": "code",
   "source": [
    "epochs=10\n",
    "history = model.fit(\n",
    "    ins_train_generator,\n",
    "    epochs=epochs\n",
    ")"
   ],
   "id": "ea48937c4e4abf70",
   "outputs": [
    {
     "name": "stdout",
     "output_type": "stream",
     "text": [
      "Epoch 1/10\n"
     ]
    },
    {
     "ename": "ValueError",
     "evalue": "Arguments `target` and `output` must have the same rank (ndim). Received: target.shape=(None,), output.shape=(None, 256, 256, 6)",
     "output_type": "error",
     "traceback": [
      "\u001B[1;31m---------------------------------------------------------------------------\u001B[0m",
      "\u001B[1;31mValueError\u001B[0m                                Traceback (most recent call last)",
      "Cell \u001B[1;32mIn[26], line 2\u001B[0m\n\u001B[0;32m      1\u001B[0m epochs\u001B[38;5;241m=\u001B[39m\u001B[38;5;241m10\u001B[39m\n\u001B[1;32m----> 2\u001B[0m history \u001B[38;5;241m=\u001B[39m \u001B[43mmodel\u001B[49m\u001B[38;5;241;43m.\u001B[39;49m\u001B[43mfit\u001B[49m\u001B[43m(\u001B[49m\n\u001B[0;32m      3\u001B[0m \u001B[43m    \u001B[49m\u001B[43mins_train_generator\u001B[49m\u001B[43m,\u001B[49m\n\u001B[0;32m      4\u001B[0m \u001B[43m    \u001B[49m\u001B[43mepochs\u001B[49m\u001B[38;5;241;43m=\u001B[39;49m\u001B[43mepochs\u001B[49m\n\u001B[0;32m      5\u001B[0m \u001B[43m)\u001B[49m\n",
      "File \u001B[1;32m~\\DataspellProjects\\Image-Classification-and-Recommendation\\venv\\Lib\\site-packages\\keras\\src\\utils\\traceback_utils.py:122\u001B[0m, in \u001B[0;36mfilter_traceback.<locals>.error_handler\u001B[1;34m(*args, **kwargs)\u001B[0m\n\u001B[0;32m    119\u001B[0m     filtered_tb \u001B[38;5;241m=\u001B[39m _process_traceback_frames(e\u001B[38;5;241m.\u001B[39m__traceback__)\n\u001B[0;32m    120\u001B[0m     \u001B[38;5;66;03m# To get the full stack trace, call:\u001B[39;00m\n\u001B[0;32m    121\u001B[0m     \u001B[38;5;66;03m# `keras.config.disable_traceback_filtering()`\u001B[39;00m\n\u001B[1;32m--> 122\u001B[0m     \u001B[38;5;28;01mraise\u001B[39;00m e\u001B[38;5;241m.\u001B[39mwith_traceback(filtered_tb) \u001B[38;5;28;01mfrom\u001B[39;00m \u001B[38;5;28;01mNone\u001B[39;00m\n\u001B[0;32m    123\u001B[0m \u001B[38;5;28;01mfinally\u001B[39;00m:\n\u001B[0;32m    124\u001B[0m     \u001B[38;5;28;01mdel\u001B[39;00m filtered_tb\n",
      "File \u001B[1;32m~\\DataspellProjects\\Image-Classification-and-Recommendation\\venv\\Lib\\site-packages\\keras\\src\\backend\\tensorflow\\nn.py:572\u001B[0m, in \u001B[0;36mcategorical_crossentropy\u001B[1;34m(target, output, from_logits, axis)\u001B[0m\n\u001B[0;32m    566\u001B[0m     \u001B[38;5;28;01mraise\u001B[39;00m \u001B[38;5;167;01mValueError\u001B[39;00m(\n\u001B[0;32m    567\u001B[0m         \u001B[38;5;124m\"\u001B[39m\u001B[38;5;124mArguments `target` and `output` must be at least rank 1. \u001B[39m\u001B[38;5;124m\"\u001B[39m\n\u001B[0;32m    568\u001B[0m         \u001B[38;5;124m\"\u001B[39m\u001B[38;5;124mReceived: \u001B[39m\u001B[38;5;124m\"\u001B[39m\n\u001B[0;32m    569\u001B[0m         \u001B[38;5;124mf\u001B[39m\u001B[38;5;124m\"\u001B[39m\u001B[38;5;124mtarget.shape=\u001B[39m\u001B[38;5;132;01m{\u001B[39;00mtarget\u001B[38;5;241m.\u001B[39mshape\u001B[38;5;132;01m}\u001B[39;00m\u001B[38;5;124m, output.shape=\u001B[39m\u001B[38;5;132;01m{\u001B[39;00moutput\u001B[38;5;241m.\u001B[39mshape\u001B[38;5;132;01m}\u001B[39;00m\u001B[38;5;124m\"\u001B[39m\n\u001B[0;32m    570\u001B[0m     )\n\u001B[0;32m    571\u001B[0m \u001B[38;5;28;01mif\u001B[39;00m \u001B[38;5;28mlen\u001B[39m(target\u001B[38;5;241m.\u001B[39mshape) \u001B[38;5;241m!=\u001B[39m \u001B[38;5;28mlen\u001B[39m(output\u001B[38;5;241m.\u001B[39mshape):\n\u001B[1;32m--> 572\u001B[0m     \u001B[38;5;28;01mraise\u001B[39;00m \u001B[38;5;167;01mValueError\u001B[39;00m(\n\u001B[0;32m    573\u001B[0m         \u001B[38;5;124m\"\u001B[39m\u001B[38;5;124mArguments `target` and `output` must have the same rank \u001B[39m\u001B[38;5;124m\"\u001B[39m\n\u001B[0;32m    574\u001B[0m         \u001B[38;5;124m\"\u001B[39m\u001B[38;5;124m(ndim). Received: \u001B[39m\u001B[38;5;124m\"\u001B[39m\n\u001B[0;32m    575\u001B[0m         \u001B[38;5;124mf\u001B[39m\u001B[38;5;124m\"\u001B[39m\u001B[38;5;124mtarget.shape=\u001B[39m\u001B[38;5;132;01m{\u001B[39;00mtarget\u001B[38;5;241m.\u001B[39mshape\u001B[38;5;132;01m}\u001B[39;00m\u001B[38;5;124m, output.shape=\u001B[39m\u001B[38;5;132;01m{\u001B[39;00moutput\u001B[38;5;241m.\u001B[39mshape\u001B[38;5;132;01m}\u001B[39;00m\u001B[38;5;124m\"\u001B[39m\n\u001B[0;32m    576\u001B[0m     )\n\u001B[0;32m    577\u001B[0m \u001B[38;5;28;01mfor\u001B[39;00m e1, e2 \u001B[38;5;129;01min\u001B[39;00m \u001B[38;5;28mzip\u001B[39m(target\u001B[38;5;241m.\u001B[39mshape, output\u001B[38;5;241m.\u001B[39mshape):\n\u001B[0;32m    578\u001B[0m     \u001B[38;5;28;01mif\u001B[39;00m e1 \u001B[38;5;129;01mis\u001B[39;00m \u001B[38;5;129;01mnot\u001B[39;00m \u001B[38;5;28;01mNone\u001B[39;00m \u001B[38;5;129;01mand\u001B[39;00m e2 \u001B[38;5;129;01mis\u001B[39;00m \u001B[38;5;129;01mnot\u001B[39;00m \u001B[38;5;28;01mNone\u001B[39;00m \u001B[38;5;129;01mand\u001B[39;00m e1 \u001B[38;5;241m!=\u001B[39m e2:\n",
      "\u001B[1;31mValueError\u001B[0m: Arguments `target` and `output` must have the same rank (ndim). Received: target.shape=(None,), output.shape=(None, 256, 256, 6)"
     ]
    }
   ],
   "execution_count": 26
  },
  {
   "metadata": {},
   "cell_type": "code",
   "outputs": [],
   "execution_count": null,
   "source": "",
   "id": "1bb3d455e9da7c35"
  }
 ],
 "metadata": {
  "kernelspec": {
   "display_name": "Python 3",
   "language": "python",
   "name": "python3"
  },
  "language_info": {
   "codemirror_mode": {
    "name": "ipython",
    "version": 3
   },
   "file_extension": ".py",
   "mimetype": "text/x-python",
   "name": "python",
   "nbconvert_exporter": "python",
   "pygments_lexer": "ipython3",
   "version": "3.11.6"
  }
 },
 "nbformat": 4,
 "nbformat_minor": 5
}
