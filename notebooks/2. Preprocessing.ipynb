{
 "cells": [
  {
   "cell_type": "markdown",
   "id": "7356d0bb0c37110e",
   "metadata": {
    "collapsed": false
   },
   "source": [
    "# Preprocessing"
   ]
  },
  {
   "cell_type": "markdown",
   "id": "cb3a56b58498b093",
   "metadata": {
    "collapsed": false
   },
   "source": [
    "---\n",
    "## Imports"
   ]
  },
  {
   "cell_type": "code",
   "id": "f4fffc68a871f22b",
   "metadata": {
    "collapsed": false,
    "ExecuteTime": {
     "end_time": "2024-05-12T09:56:50.459177Z",
     "start_time": "2024-05-12T09:56:50.457207Z"
    }
   },
   "source": [
    "import sys\n",
    "\n",
    "import pandas as pd\n",
    "from sklearn.model_selection import train_test_split\n",
    "\n",
    "sys.path.append('../')\n",
    "\n",
    "from utils.duplicates import remove_rows, get_duplicates_to_delete"
   ],
   "outputs": [],
   "execution_count": 58
  },
  {
   "cell_type": "code",
   "id": "e9e697dc13cb950a",
   "metadata": {
    "collapsed": false,
    "ExecuteTime": {
     "end_time": "2024-05-12T09:56:50.608200Z",
     "start_time": "2024-05-12T09:56:50.506969Z"
    }
   },
   "source": [
    "df = pd.read_csv('../data/processed/csv/df.csv')\n",
    "duplicates = pd.read_csv('../data/processed/csv/duplicates.csv')"
   ],
   "outputs": [],
   "execution_count": 59
  },
  {
   "cell_type": "markdown",
   "id": "28c210a295f7959f",
   "metadata": {
    "collapsed": false
   },
   "source": [
    "--- \n",
    "## Remove duplicates"
   ]
  },
  {
   "cell_type": "markdown",
   "id": "79ab2d075ab9b619",
   "metadata": {
    "collapsed": false
   },
   "source": [
    "### Automatically delete:\n",
    "- For each duplicate group, delete all but one rows marked as \"Duplicate\" for each \"Style\".\n",
    "- Outputs \"df_no_dup\"."
   ]
  },
  {
   "cell_type": "code",
   "id": "initial_id",
   "metadata": {
    "collapsed": true,
    "ExecuteTime": {
     "end_time": "2024-05-12T09:56:53.652072Z",
     "start_time": "2024-05-12T09:56:50.609623Z"
    }
   },
   "source": [
    "duplicates_to_delete = get_duplicates_to_delete(duplicates)\n",
    "df_no_dup = remove_rows(df, duplicates_to_delete)\n",
    "df_no_dup"
   ],
   "outputs": [
    {
     "name": "stdout",
     "output_type": "stream",
     "text": [
      "Identifying rows to delete...\n"
     ]
    },
    {
     "name": "stderr",
     "output_type": "stream",
     "text": [
      "100%|██████████| 5684/5684 [00:03<00:00, 1876.99it/s]"
     ]
    },
    {
     "name": "stdout",
     "output_type": "stream",
     "text": [
      "Removing rows...\n"
     ]
    },
    {
     "name": "stderr",
     "output_type": "stream",
     "text": [
      "\n"
     ]
    },
    {
     "data": {
      "text/plain": "                                                    Path Type  Width  Height  \\\n0      tables/Eclectic/4029eclectic-side-tables-and-e...  jpg    350     350   \n1      tables/Eclectic/4107eclectic-nightstands-and-b...  jpg    350     350   \n2      tables/Eclectic/3885eclectic-side-tables-and-e...  jpg    350     350   \n3      tables/Eclectic/4040eclectic-side-tables-and-e...  jpg    350     350   \n4         tables/Eclectic/4171eclectic-coffee-tables.jpg  jpg    350     350   \n...                                                  ...  ...    ...     ...   \n84791                   beds/Asian/3166asian-daybeds.jpg  jpg    224     224   \n84792                beds/Asian/7733asian-panel-beds.jpg  jpg    224     224   \n84793            beds/Asian/20802asian-platform-beds.jpg  jpg    350     350   \n84794             beds/Asian/7850asian-platform-beds.jpg  jpg    224     224   \n84795               beds/Asian/8103asian-canopy-beds.jpg  jpg    224     224   \n\n       Ratio Mode   Class     Style  \n0        1.0  RGB  tables  Eclectic  \n1        1.0  RGB  tables  Eclectic  \n2        1.0  RGB  tables  Eclectic  \n3        1.0  RGB  tables  Eclectic  \n4        1.0  RGB  tables  Eclectic  \n...      ...  ...     ...       ...  \n84791    1.0  RGB    beds     Asian  \n84792    1.0  RGB    beds     Asian  \n84793    1.0  RGB    beds     Asian  \n84794    1.0  RGB    beds     Asian  \n84795    1.0  RGB    beds     Asian  \n\n[84796 rows x 8 columns]",
      "text/html": "<div>\n<style scoped>\n    .dataframe tbody tr th:only-of-type {\n        vertical-align: middle;\n    }\n\n    .dataframe tbody tr th {\n        vertical-align: top;\n    }\n\n    .dataframe thead th {\n        text-align: right;\n    }\n</style>\n<table border=\"1\" class=\"dataframe\">\n  <thead>\n    <tr style=\"text-align: right;\">\n      <th></th>\n      <th>Path</th>\n      <th>Type</th>\n      <th>Width</th>\n      <th>Height</th>\n      <th>Ratio</th>\n      <th>Mode</th>\n      <th>Class</th>\n      <th>Style</th>\n    </tr>\n  </thead>\n  <tbody>\n    <tr>\n      <th>0</th>\n      <td>tables/Eclectic/4029eclectic-side-tables-and-e...</td>\n      <td>jpg</td>\n      <td>350</td>\n      <td>350</td>\n      <td>1.0</td>\n      <td>RGB</td>\n      <td>tables</td>\n      <td>Eclectic</td>\n    </tr>\n    <tr>\n      <th>1</th>\n      <td>tables/Eclectic/4107eclectic-nightstands-and-b...</td>\n      <td>jpg</td>\n      <td>350</td>\n      <td>350</td>\n      <td>1.0</td>\n      <td>RGB</td>\n      <td>tables</td>\n      <td>Eclectic</td>\n    </tr>\n    <tr>\n      <th>2</th>\n      <td>tables/Eclectic/3885eclectic-side-tables-and-e...</td>\n      <td>jpg</td>\n      <td>350</td>\n      <td>350</td>\n      <td>1.0</td>\n      <td>RGB</td>\n      <td>tables</td>\n      <td>Eclectic</td>\n    </tr>\n    <tr>\n      <th>3</th>\n      <td>tables/Eclectic/4040eclectic-side-tables-and-e...</td>\n      <td>jpg</td>\n      <td>350</td>\n      <td>350</td>\n      <td>1.0</td>\n      <td>RGB</td>\n      <td>tables</td>\n      <td>Eclectic</td>\n    </tr>\n    <tr>\n      <th>4</th>\n      <td>tables/Eclectic/4171eclectic-coffee-tables.jpg</td>\n      <td>jpg</td>\n      <td>350</td>\n      <td>350</td>\n      <td>1.0</td>\n      <td>RGB</td>\n      <td>tables</td>\n      <td>Eclectic</td>\n    </tr>\n    <tr>\n      <th>...</th>\n      <td>...</td>\n      <td>...</td>\n      <td>...</td>\n      <td>...</td>\n      <td>...</td>\n      <td>...</td>\n      <td>...</td>\n      <td>...</td>\n    </tr>\n    <tr>\n      <th>84791</th>\n      <td>beds/Asian/3166asian-daybeds.jpg</td>\n      <td>jpg</td>\n      <td>224</td>\n      <td>224</td>\n      <td>1.0</td>\n      <td>RGB</td>\n      <td>beds</td>\n      <td>Asian</td>\n    </tr>\n    <tr>\n      <th>84792</th>\n      <td>beds/Asian/7733asian-panel-beds.jpg</td>\n      <td>jpg</td>\n      <td>224</td>\n      <td>224</td>\n      <td>1.0</td>\n      <td>RGB</td>\n      <td>beds</td>\n      <td>Asian</td>\n    </tr>\n    <tr>\n      <th>84793</th>\n      <td>beds/Asian/20802asian-platform-beds.jpg</td>\n      <td>jpg</td>\n      <td>350</td>\n      <td>350</td>\n      <td>1.0</td>\n      <td>RGB</td>\n      <td>beds</td>\n      <td>Asian</td>\n    </tr>\n    <tr>\n      <th>84794</th>\n      <td>beds/Asian/7850asian-platform-beds.jpg</td>\n      <td>jpg</td>\n      <td>224</td>\n      <td>224</td>\n      <td>1.0</td>\n      <td>RGB</td>\n      <td>beds</td>\n      <td>Asian</td>\n    </tr>\n    <tr>\n      <th>84795</th>\n      <td>beds/Asian/8103asian-canopy-beds.jpg</td>\n      <td>jpg</td>\n      <td>224</td>\n      <td>224</td>\n      <td>1.0</td>\n      <td>RGB</td>\n      <td>beds</td>\n      <td>Asian</td>\n    </tr>\n  </tbody>\n</table>\n<p>84796 rows × 8 columns</p>\n</div>"
     },
     "execution_count": 60,
     "metadata": {},
     "output_type": "execute_result"
    }
   ],
   "execution_count": 60
  },
  {
   "cell_type": "markdown",
   "id": "641504cce48ca671",
   "metadata": {
    "collapsed": false
   },
   "source": [
    "### Manually delete:\n",
    "- Any rows marked as \"Inspect\" that belongs in the wrong \"Class\".\n",
    "- Overwrite \"df\", as this DataFrame will continue to be used for further preprocessing."
   ]
  },
  {
   "cell_type": "code",
   "id": "3f84b719dd865b99",
   "metadata": {
    "collapsed": false,
    "ExecuteTime": {
     "end_time": "2024-05-12T09:56:53.661612Z",
     "start_time": "2024-05-12T09:56:53.653080Z"
    }
   },
   "source": [
    "inspects = duplicates[duplicates['Duplicate_Type'] == 'Inspect']\n",
    "inspects"
   ],
   "outputs": [
    {
     "data": {
      "text/plain": "     Group Duplicate_Type                                               Path  \\\n90      41        Inspect       tables/Craftsman/28467craftsman-dressers.jpg   \n91      41        Inspect               beds/Craftsman/4866craftsman-bed.jpg   \n153     72        Inspect  tables/Industrial/37555industrial-entertainmen...   \n154     72        Inspect             dressers/Industrial/dresser3452345.jpg   \n205     98        Inspect  dressers/Farmhouse/34120farmhouse-buffets-and-...   \n206     98        Inspect  tables/Farmhouse/28763farmhouse-console-tables...   \n227    109        Inspect  tables/Modern/10363modern-nightstands-and-beds...   \n228    109        Inspect  lamps/Contemporary/4023contemporary-table-lamp...   \n235    113        Inspect            dressers/Modern/2146modern-dressers.jpg   \n236    113        Inspect             tables/Modern/11484modern-dressers.jpg   \n277    134        Inspect  chairs/Midcentury/20530midcentury-armchairs-an...   \n278    134        Inspect          sofas/Midcentury/1848midcentury-sofas.jpg   \n279    135        Inspect          sofas/Midcentury/1520midcentury-sofas.jpg   \n280    135        Inspect  chairs/Midcentury/17445midcentury-armchairs-an...   \n281    136        Inspect  chairs/Midcentury/17520midcentury-armchairs-an...   \n282    136        Inspect          sofas/Midcentury/1402midcentury-sofas.jpg   \n287    139        Inspect  chairs/Midcentury/21475midcentury-armchairs-an...   \n288    139        Inspect          sofas/Midcentury/2876midcentury-sofas.jpg   \n289    140        Inspect            sofas/Victorian/4858victorian-sofas.jpg   \n290    140        Inspect  chairs/Traditional/9087traditional-indoor-chai...   \n299    145        Inspect  chairs/Eclectic/5037eclectic-armchairs-and-acc...   \n300    145        Inspect      sofas/Transitional/4509transitional-sofas.jpg   \n309    150        Inspect      sofas/Contemporary/2852contemporary-sofas.jpg   \n310    150        Inspect  chairs/Contemporary/1181contemporary-indoor-ch...   \n317    154        Inspect      sofas/Contemporary/2895contemporary-sofas.jpg   \n318    154        Inspect  chairs/Modern/7432modern-armchairs-and-accent-...   \n323    157        Inspect  chairs/Contemporary/1446contemporary-indoor-ch...   \n324    157        Inspect       sofas/Contemporary/409contemporary-sofas.jpg   \n325    158        Inspect  chairs/Contemporary/870contemporary-indoor-cha...   \n326    158        Inspect      sofas/Contemporary/1293contemporary-sofas.jpg   \n\n    Type  Width  Height  Ratio Mode     Class         Style  \\\n90   jpg    350     350    1.0  RGB    tables     Craftsman   \n91   jpg    350     350    1.0  RGB      beds     Craftsman   \n153  jpg    350     350    1.0  RGB    tables    Industrial   \n154  jpg    350     350    1.0  RGB  dressers    Industrial   \n205  jpg    350     350    1.0  RGB  dressers     Farmhouse   \n206  jpg    350     350    1.0  RGB    tables     Farmhouse   \n227  jpg    350     350    1.0  RGB    tables        Modern   \n228  jpg    350     350    1.0  RGB     lamps  Contemporary   \n235  jpg    350     350    1.0  RGB  dressers        Modern   \n236  jpg    350     350    1.0  RGB    tables        Modern   \n277  jpg    350     350    1.0  RGB    chairs    Midcentury   \n278  jpg    350     350    1.0  RGB     sofas    Midcentury   \n279  jpg    350     350    1.0  RGB     sofas    Midcentury   \n280  jpg    350     350    1.0  RGB    chairs    Midcentury   \n281  jpg    350     350    1.0  RGB    chairs    Midcentury   \n282  jpg    350     350    1.0  RGB     sofas    Midcentury   \n287  jpg    350     350    1.0  RGB    chairs    Midcentury   \n288  jpg    350     350    1.0  RGB     sofas    Midcentury   \n289  jpg    350     350    1.0  RGB     sofas     Victorian   \n290  jpg    350     350    1.0  RGB    chairs   Traditional   \n299  jpg    350     350    1.0  RGB    chairs      Eclectic   \n300  jpg    350     350    1.0  RGB     sofas  Transitional   \n309  jpg    350     350    1.0  RGB     sofas  Contemporary   \n310  jpg    350     350    1.0  RGB    chairs  Contemporary   \n317  jpg    350     350    1.0  RGB     sofas  Contemporary   \n318  jpg    350     350    1.0  RGB    chairs        Modern   \n323  jpg    350     350    1.0  RGB    chairs  Contemporary   \n324  jpg    350     350    1.0  RGB     sofas  Contemporary   \n325  jpg    350     350    1.0  RGB    chairs  Contemporary   \n326  jpg    350     350    1.0  RGB     sofas  Contemporary   \n\n                                                  Hash  \n90   fbea6ebbd105a451cd78b1ccae23cb8492f195ae1d2312...  \n91   fbea6ebbd105a451cd78b1ccae23cb8492f195ae1d2312...  \n153  d6aa7d5a82ad6a0068540af5ad5596af9055d02b93f41f...  \n154  d6aa7d5a82ad6a0068540af5ad5596af9055d02b93f41f...  \n205  8bfa4afe3c256aadd100341fc042955a70b5cb41947de6...  \n206  8bfa4afe3c256aadd100341fc042955a70b5cb41947de6...  \n227  b3980ddb3c66d39bd098f3a70c182c66c39ff068c99734...  \n228  b3980ddb3c66d39bd098f3a70c182c66c39ff068c99734...  \n235  f3bbad52dccc13b9cc659725921158ce2dd594a5931146...  \n236  f3bbad52dccc13b9cc659725921158ce2dd594a5931146...  \n277  bffef807c0403f5fc156c2a83457d7e8e81785a81e8090...  \n278  bffef807c0403f5fc156c2a83457d7e8e81785a81e8090...  \n279  baae7817f0542a5fc55a87e847abc7e8bac1d5a0c2852c...  \n280  baae7817f0542a5fc55a87e847abc7e8bac1d5a0c2852c...  \n281  eaaa2d56b1556aaad50297bd17fb96a04abec0559fc441...  \n282  eaaa2d56b1556aaad50297bd17fb96a04abec0559fc441...  \n287  ffff3a01a8003d5f856a95fe157e81ea8554c02aaec454...  \n288  ffff3a01a8003d5f856a95fe157e81ea8554c02aaec454...  \n289  faba3f2bb540f09ae845da1cc0f7e03d22ff93f081e8e1...  \n290  faba3f2bb540f09ae845da1cc0f7e03d22ff93f081e8e1...  \n299  ebfa3fb59050e02fc047c84a64adcdc8e48c92ff8f20c3...  \n300  ebfa3fb59050e02fc047c84a64adcdc8e48c92ff8f20c3...  \n309  eaef9014e0503bfd81510ba385fa3f419faae0429ea4c7...  \n310  eaef9014e0503bfd81510ba385fa3f419faae0429ea4c7...  \n317  9beeb2bfd590296ce015cd4a680de352c4bf9bd0c9b60e...  \n318  9beeb2bfd590296ce015cd4a680de352c4bf9bd0c9b60e...  \n323  aabf7f10b544686ec442c1bb390b906f42fe6a7e913d90...  \n324  aabf7f10b544686ec442c1bb390b906f42fe6a7e913d90...  \n325  eafeb034e0503af5815123e195eb27439faac54ade84c7...  \n326  eafeb034e0503af5815123e195eb27439faac54ade84c7...  ",
      "text/html": "<div>\n<style scoped>\n    .dataframe tbody tr th:only-of-type {\n        vertical-align: middle;\n    }\n\n    .dataframe tbody tr th {\n        vertical-align: top;\n    }\n\n    .dataframe thead th {\n        text-align: right;\n    }\n</style>\n<table border=\"1\" class=\"dataframe\">\n  <thead>\n    <tr style=\"text-align: right;\">\n      <th></th>\n      <th>Group</th>\n      <th>Duplicate_Type</th>\n      <th>Path</th>\n      <th>Type</th>\n      <th>Width</th>\n      <th>Height</th>\n      <th>Ratio</th>\n      <th>Mode</th>\n      <th>Class</th>\n      <th>Style</th>\n      <th>Hash</th>\n    </tr>\n  </thead>\n  <tbody>\n    <tr>\n      <th>90</th>\n      <td>41</td>\n      <td>Inspect</td>\n      <td>tables/Craftsman/28467craftsman-dressers.jpg</td>\n      <td>jpg</td>\n      <td>350</td>\n      <td>350</td>\n      <td>1.0</td>\n      <td>RGB</td>\n      <td>tables</td>\n      <td>Craftsman</td>\n      <td>fbea6ebbd105a451cd78b1ccae23cb8492f195ae1d2312...</td>\n    </tr>\n    <tr>\n      <th>91</th>\n      <td>41</td>\n      <td>Inspect</td>\n      <td>beds/Craftsman/4866craftsman-bed.jpg</td>\n      <td>jpg</td>\n      <td>350</td>\n      <td>350</td>\n      <td>1.0</td>\n      <td>RGB</td>\n      <td>beds</td>\n      <td>Craftsman</td>\n      <td>fbea6ebbd105a451cd78b1ccae23cb8492f195ae1d2312...</td>\n    </tr>\n    <tr>\n      <th>153</th>\n      <td>72</td>\n      <td>Inspect</td>\n      <td>tables/Industrial/37555industrial-entertainmen...</td>\n      <td>jpg</td>\n      <td>350</td>\n      <td>350</td>\n      <td>1.0</td>\n      <td>RGB</td>\n      <td>tables</td>\n      <td>Industrial</td>\n      <td>d6aa7d5a82ad6a0068540af5ad5596af9055d02b93f41f...</td>\n    </tr>\n    <tr>\n      <th>154</th>\n      <td>72</td>\n      <td>Inspect</td>\n      <td>dressers/Industrial/dresser3452345.jpg</td>\n      <td>jpg</td>\n      <td>350</td>\n      <td>350</td>\n      <td>1.0</td>\n      <td>RGB</td>\n      <td>dressers</td>\n      <td>Industrial</td>\n      <td>d6aa7d5a82ad6a0068540af5ad5596af9055d02b93f41f...</td>\n    </tr>\n    <tr>\n      <th>205</th>\n      <td>98</td>\n      <td>Inspect</td>\n      <td>dressers/Farmhouse/34120farmhouse-buffets-and-...</td>\n      <td>jpg</td>\n      <td>350</td>\n      <td>350</td>\n      <td>1.0</td>\n      <td>RGB</td>\n      <td>dressers</td>\n      <td>Farmhouse</td>\n      <td>8bfa4afe3c256aadd100341fc042955a70b5cb41947de6...</td>\n    </tr>\n    <tr>\n      <th>206</th>\n      <td>98</td>\n      <td>Inspect</td>\n      <td>tables/Farmhouse/28763farmhouse-console-tables...</td>\n      <td>jpg</td>\n      <td>350</td>\n      <td>350</td>\n      <td>1.0</td>\n      <td>RGB</td>\n      <td>tables</td>\n      <td>Farmhouse</td>\n      <td>8bfa4afe3c256aadd100341fc042955a70b5cb41947de6...</td>\n    </tr>\n    <tr>\n      <th>227</th>\n      <td>109</td>\n      <td>Inspect</td>\n      <td>tables/Modern/10363modern-nightstands-and-beds...</td>\n      <td>jpg</td>\n      <td>350</td>\n      <td>350</td>\n      <td>1.0</td>\n      <td>RGB</td>\n      <td>tables</td>\n      <td>Modern</td>\n      <td>b3980ddb3c66d39bd098f3a70c182c66c39ff068c99734...</td>\n    </tr>\n    <tr>\n      <th>228</th>\n      <td>109</td>\n      <td>Inspect</td>\n      <td>lamps/Contemporary/4023contemporary-table-lamp...</td>\n      <td>jpg</td>\n      <td>350</td>\n      <td>350</td>\n      <td>1.0</td>\n      <td>RGB</td>\n      <td>lamps</td>\n      <td>Contemporary</td>\n      <td>b3980ddb3c66d39bd098f3a70c182c66c39ff068c99734...</td>\n    </tr>\n    <tr>\n      <th>235</th>\n      <td>113</td>\n      <td>Inspect</td>\n      <td>dressers/Modern/2146modern-dressers.jpg</td>\n      <td>jpg</td>\n      <td>350</td>\n      <td>350</td>\n      <td>1.0</td>\n      <td>RGB</td>\n      <td>dressers</td>\n      <td>Modern</td>\n      <td>f3bbad52dccc13b9cc659725921158ce2dd594a5931146...</td>\n    </tr>\n    <tr>\n      <th>236</th>\n      <td>113</td>\n      <td>Inspect</td>\n      <td>tables/Modern/11484modern-dressers.jpg</td>\n      <td>jpg</td>\n      <td>350</td>\n      <td>350</td>\n      <td>1.0</td>\n      <td>RGB</td>\n      <td>tables</td>\n      <td>Modern</td>\n      <td>f3bbad52dccc13b9cc659725921158ce2dd594a5931146...</td>\n    </tr>\n    <tr>\n      <th>277</th>\n      <td>134</td>\n      <td>Inspect</td>\n      <td>chairs/Midcentury/20530midcentury-armchairs-an...</td>\n      <td>jpg</td>\n      <td>350</td>\n      <td>350</td>\n      <td>1.0</td>\n      <td>RGB</td>\n      <td>chairs</td>\n      <td>Midcentury</td>\n      <td>bffef807c0403f5fc156c2a83457d7e8e81785a81e8090...</td>\n    </tr>\n    <tr>\n      <th>278</th>\n      <td>134</td>\n      <td>Inspect</td>\n      <td>sofas/Midcentury/1848midcentury-sofas.jpg</td>\n      <td>jpg</td>\n      <td>350</td>\n      <td>350</td>\n      <td>1.0</td>\n      <td>RGB</td>\n      <td>sofas</td>\n      <td>Midcentury</td>\n      <td>bffef807c0403f5fc156c2a83457d7e8e81785a81e8090...</td>\n    </tr>\n    <tr>\n      <th>279</th>\n      <td>135</td>\n      <td>Inspect</td>\n      <td>sofas/Midcentury/1520midcentury-sofas.jpg</td>\n      <td>jpg</td>\n      <td>350</td>\n      <td>350</td>\n      <td>1.0</td>\n      <td>RGB</td>\n      <td>sofas</td>\n      <td>Midcentury</td>\n      <td>baae7817f0542a5fc55a87e847abc7e8bac1d5a0c2852c...</td>\n    </tr>\n    <tr>\n      <th>280</th>\n      <td>135</td>\n      <td>Inspect</td>\n      <td>chairs/Midcentury/17445midcentury-armchairs-an...</td>\n      <td>jpg</td>\n      <td>350</td>\n      <td>350</td>\n      <td>1.0</td>\n      <td>RGB</td>\n      <td>chairs</td>\n      <td>Midcentury</td>\n      <td>baae7817f0542a5fc55a87e847abc7e8bac1d5a0c2852c...</td>\n    </tr>\n    <tr>\n      <th>281</th>\n      <td>136</td>\n      <td>Inspect</td>\n      <td>chairs/Midcentury/17520midcentury-armchairs-an...</td>\n      <td>jpg</td>\n      <td>350</td>\n      <td>350</td>\n      <td>1.0</td>\n      <td>RGB</td>\n      <td>chairs</td>\n      <td>Midcentury</td>\n      <td>eaaa2d56b1556aaad50297bd17fb96a04abec0559fc441...</td>\n    </tr>\n    <tr>\n      <th>282</th>\n      <td>136</td>\n      <td>Inspect</td>\n      <td>sofas/Midcentury/1402midcentury-sofas.jpg</td>\n      <td>jpg</td>\n      <td>350</td>\n      <td>350</td>\n      <td>1.0</td>\n      <td>RGB</td>\n      <td>sofas</td>\n      <td>Midcentury</td>\n      <td>eaaa2d56b1556aaad50297bd17fb96a04abec0559fc441...</td>\n    </tr>\n    <tr>\n      <th>287</th>\n      <td>139</td>\n      <td>Inspect</td>\n      <td>chairs/Midcentury/21475midcentury-armchairs-an...</td>\n      <td>jpg</td>\n      <td>350</td>\n      <td>350</td>\n      <td>1.0</td>\n      <td>RGB</td>\n      <td>chairs</td>\n      <td>Midcentury</td>\n      <td>ffff3a01a8003d5f856a95fe157e81ea8554c02aaec454...</td>\n    </tr>\n    <tr>\n      <th>288</th>\n      <td>139</td>\n      <td>Inspect</td>\n      <td>sofas/Midcentury/2876midcentury-sofas.jpg</td>\n      <td>jpg</td>\n      <td>350</td>\n      <td>350</td>\n      <td>1.0</td>\n      <td>RGB</td>\n      <td>sofas</td>\n      <td>Midcentury</td>\n      <td>ffff3a01a8003d5f856a95fe157e81ea8554c02aaec454...</td>\n    </tr>\n    <tr>\n      <th>289</th>\n      <td>140</td>\n      <td>Inspect</td>\n      <td>sofas/Victorian/4858victorian-sofas.jpg</td>\n      <td>jpg</td>\n      <td>350</td>\n      <td>350</td>\n      <td>1.0</td>\n      <td>RGB</td>\n      <td>sofas</td>\n      <td>Victorian</td>\n      <td>faba3f2bb540f09ae845da1cc0f7e03d22ff93f081e8e1...</td>\n    </tr>\n    <tr>\n      <th>290</th>\n      <td>140</td>\n      <td>Inspect</td>\n      <td>chairs/Traditional/9087traditional-indoor-chai...</td>\n      <td>jpg</td>\n      <td>350</td>\n      <td>350</td>\n      <td>1.0</td>\n      <td>RGB</td>\n      <td>chairs</td>\n      <td>Traditional</td>\n      <td>faba3f2bb540f09ae845da1cc0f7e03d22ff93f081e8e1...</td>\n    </tr>\n    <tr>\n      <th>299</th>\n      <td>145</td>\n      <td>Inspect</td>\n      <td>chairs/Eclectic/5037eclectic-armchairs-and-acc...</td>\n      <td>jpg</td>\n      <td>350</td>\n      <td>350</td>\n      <td>1.0</td>\n      <td>RGB</td>\n      <td>chairs</td>\n      <td>Eclectic</td>\n      <td>ebfa3fb59050e02fc047c84a64adcdc8e48c92ff8f20c3...</td>\n    </tr>\n    <tr>\n      <th>300</th>\n      <td>145</td>\n      <td>Inspect</td>\n      <td>sofas/Transitional/4509transitional-sofas.jpg</td>\n      <td>jpg</td>\n      <td>350</td>\n      <td>350</td>\n      <td>1.0</td>\n      <td>RGB</td>\n      <td>sofas</td>\n      <td>Transitional</td>\n      <td>ebfa3fb59050e02fc047c84a64adcdc8e48c92ff8f20c3...</td>\n    </tr>\n    <tr>\n      <th>309</th>\n      <td>150</td>\n      <td>Inspect</td>\n      <td>sofas/Contemporary/2852contemporary-sofas.jpg</td>\n      <td>jpg</td>\n      <td>350</td>\n      <td>350</td>\n      <td>1.0</td>\n      <td>RGB</td>\n      <td>sofas</td>\n      <td>Contemporary</td>\n      <td>eaef9014e0503bfd81510ba385fa3f419faae0429ea4c7...</td>\n    </tr>\n    <tr>\n      <th>310</th>\n      <td>150</td>\n      <td>Inspect</td>\n      <td>chairs/Contemporary/1181contemporary-indoor-ch...</td>\n      <td>jpg</td>\n      <td>350</td>\n      <td>350</td>\n      <td>1.0</td>\n      <td>RGB</td>\n      <td>chairs</td>\n      <td>Contemporary</td>\n      <td>eaef9014e0503bfd81510ba385fa3f419faae0429ea4c7...</td>\n    </tr>\n    <tr>\n      <th>317</th>\n      <td>154</td>\n      <td>Inspect</td>\n      <td>sofas/Contemporary/2895contemporary-sofas.jpg</td>\n      <td>jpg</td>\n      <td>350</td>\n      <td>350</td>\n      <td>1.0</td>\n      <td>RGB</td>\n      <td>sofas</td>\n      <td>Contemporary</td>\n      <td>9beeb2bfd590296ce015cd4a680de352c4bf9bd0c9b60e...</td>\n    </tr>\n    <tr>\n      <th>318</th>\n      <td>154</td>\n      <td>Inspect</td>\n      <td>chairs/Modern/7432modern-armchairs-and-accent-...</td>\n      <td>jpg</td>\n      <td>350</td>\n      <td>350</td>\n      <td>1.0</td>\n      <td>RGB</td>\n      <td>chairs</td>\n      <td>Modern</td>\n      <td>9beeb2bfd590296ce015cd4a680de352c4bf9bd0c9b60e...</td>\n    </tr>\n    <tr>\n      <th>323</th>\n      <td>157</td>\n      <td>Inspect</td>\n      <td>chairs/Contemporary/1446contemporary-indoor-ch...</td>\n      <td>jpg</td>\n      <td>350</td>\n      <td>350</td>\n      <td>1.0</td>\n      <td>RGB</td>\n      <td>chairs</td>\n      <td>Contemporary</td>\n      <td>aabf7f10b544686ec442c1bb390b906f42fe6a7e913d90...</td>\n    </tr>\n    <tr>\n      <th>324</th>\n      <td>157</td>\n      <td>Inspect</td>\n      <td>sofas/Contemporary/409contemporary-sofas.jpg</td>\n      <td>jpg</td>\n      <td>350</td>\n      <td>350</td>\n      <td>1.0</td>\n      <td>RGB</td>\n      <td>sofas</td>\n      <td>Contemporary</td>\n      <td>aabf7f10b544686ec442c1bb390b906f42fe6a7e913d90...</td>\n    </tr>\n    <tr>\n      <th>325</th>\n      <td>158</td>\n      <td>Inspect</td>\n      <td>chairs/Contemporary/870contemporary-indoor-cha...</td>\n      <td>jpg</td>\n      <td>350</td>\n      <td>350</td>\n      <td>1.0</td>\n      <td>RGB</td>\n      <td>chairs</td>\n      <td>Contemporary</td>\n      <td>eafeb034e0503af5815123e195eb27439faac54ade84c7...</td>\n    </tr>\n    <tr>\n      <th>326</th>\n      <td>158</td>\n      <td>Inspect</td>\n      <td>sofas/Contemporary/1293contemporary-sofas.jpg</td>\n      <td>jpg</td>\n      <td>350</td>\n      <td>350</td>\n      <td>1.0</td>\n      <td>RGB</td>\n      <td>sofas</td>\n      <td>Contemporary</td>\n      <td>eafeb034e0503af5815123e195eb27439faac54ade84c7...</td>\n    </tr>\n  </tbody>\n</table>\n</div>"
     },
     "execution_count": 61,
     "metadata": {},
     "output_type": "execute_result"
    }
   ],
   "execution_count": 61
  },
  {
   "cell_type": "code",
   "id": "aa9ef12d5f793a6f",
   "metadata": {
    "collapsed": false,
    "ExecuteTime": {
     "end_time": "2024-05-12T09:56:53.665024Z",
     "start_time": "2024-05-12T09:56:53.663097Z"
    }
   },
   "source": [
    "total_inspect_groups = inspects[\"Group\"].nunique(dropna=False)"
   ],
   "outputs": [],
   "execution_count": 62
  },
  {
   "cell_type": "code",
   "id": "e612349a811d1925",
   "metadata": {
    "collapsed": false,
    "ExecuteTime": {
     "end_time": "2024-05-12T09:56:53.667979Z",
     "start_time": "2024-05-12T09:56:53.666005Z"
    }
   },
   "source": [
    "# inspects_rows_to_delete = [91, 154, 205, 227, 235, 277, 280, 281, 287, 290, 299, 310, 318, 323, 325] # Delete one of each pair\n",
    "inspects_rows_to_delete = [91,\n",
    "                           205]  # Only delete very different class (\"tables\" and \"beds\"). Similar classes are kept (\"chairs\" and \"sofas\")"
   ],
   "outputs": [],
   "execution_count": 63
  },
  {
   "cell_type": "code",
   "id": "15f28861eeb1cb8e",
   "metadata": {
    "collapsed": false,
    "ExecuteTime": {
     "end_time": "2024-05-12T09:56:53.671002Z",
     "start_time": "2024-05-12T09:56:53.668718Z"
    }
   },
   "source": [
    "inspect_review = inspects.copy()\n",
    "inspect_review[\"Duplicate_Type\"] = \"Keep\"\n",
    "inspect_review.loc[inspects_rows_to_delete, \"Duplicate_Type\"] = \"DELETE\""
   ],
   "outputs": [],
   "execution_count": 64
  },
  {
   "cell_type": "code",
   "outputs": [],
   "source": [
    "# visualize_duplicates(inspect_review, total_inspect_groups)"
   ],
   "metadata": {
    "collapsed": false,
    "ExecuteTime": {
     "end_time": "2024-05-12T09:56:53.673465Z",
     "start_time": "2024-05-12T09:56:53.671599Z"
    }
   },
   "id": "a2776d5e64dbd086",
   "execution_count": 65
  },
  {
   "cell_type": "code",
   "id": "3e7350bc71b9e306",
   "metadata": {
    "collapsed": false,
    "ExecuteTime": {
     "end_time": "2024-05-12T09:56:53.679645Z",
     "start_time": "2024-05-12T09:56:53.674346Z"
    }
   },
   "source": [
    "inspects_to_delete = inspect_review[inspect_review[\"Duplicate_Type\"] == \"DELETE\"]\n",
    "inspects_to_delete"
   ],
   "outputs": [
    {
     "data": {
      "text/plain": "     Group Duplicate_Type                                               Path  \\\n91      41         DELETE               beds/Craftsman/4866craftsman-bed.jpg   \n205     98         DELETE  dressers/Farmhouse/34120farmhouse-buffets-and-...   \n\n    Type  Width  Height  Ratio Mode     Class      Style  \\\n91   jpg    350     350    1.0  RGB      beds  Craftsman   \n205  jpg    350     350    1.0  RGB  dressers  Farmhouse   \n\n                                                  Hash  \n91   fbea6ebbd105a451cd78b1ccae23cb8492f195ae1d2312...  \n205  8bfa4afe3c256aadd100341fc042955a70b5cb41947de6...  ",
      "text/html": "<div>\n<style scoped>\n    .dataframe tbody tr th:only-of-type {\n        vertical-align: middle;\n    }\n\n    .dataframe tbody tr th {\n        vertical-align: top;\n    }\n\n    .dataframe thead th {\n        text-align: right;\n    }\n</style>\n<table border=\"1\" class=\"dataframe\">\n  <thead>\n    <tr style=\"text-align: right;\">\n      <th></th>\n      <th>Group</th>\n      <th>Duplicate_Type</th>\n      <th>Path</th>\n      <th>Type</th>\n      <th>Width</th>\n      <th>Height</th>\n      <th>Ratio</th>\n      <th>Mode</th>\n      <th>Class</th>\n      <th>Style</th>\n      <th>Hash</th>\n    </tr>\n  </thead>\n  <tbody>\n    <tr>\n      <th>91</th>\n      <td>41</td>\n      <td>DELETE</td>\n      <td>beds/Craftsman/4866craftsman-bed.jpg</td>\n      <td>jpg</td>\n      <td>350</td>\n      <td>350</td>\n      <td>1.0</td>\n      <td>RGB</td>\n      <td>beds</td>\n      <td>Craftsman</td>\n      <td>fbea6ebbd105a451cd78b1ccae23cb8492f195ae1d2312...</td>\n    </tr>\n    <tr>\n      <th>205</th>\n      <td>98</td>\n      <td>DELETE</td>\n      <td>dressers/Farmhouse/34120farmhouse-buffets-and-...</td>\n      <td>jpg</td>\n      <td>350</td>\n      <td>350</td>\n      <td>1.0</td>\n      <td>RGB</td>\n      <td>dressers</td>\n      <td>Farmhouse</td>\n      <td>8bfa4afe3c256aadd100341fc042955a70b5cb41947de6...</td>\n    </tr>\n  </tbody>\n</table>\n</div>"
     },
     "execution_count": 66,
     "metadata": {},
     "output_type": "execute_result"
    }
   ],
   "execution_count": 66
  },
  {
   "cell_type": "code",
   "id": "d21d02905e3a2966",
   "metadata": {
    "collapsed": false,
    "ExecuteTime": {
     "end_time": "2024-05-12T09:56:53.692839Z",
     "start_time": "2024-05-12T09:56:53.680574Z"
    }
   },
   "source": [
    "df = remove_rows(df, inspects_to_delete)\n",
    "df"
   ],
   "outputs": [
    {
     "name": "stdout",
     "output_type": "stream",
     "text": [
      "Removing rows...\n"
     ]
    },
    {
     "data": {
      "text/plain": "                                                    Path Type  Width  Height  \\\n0      tables/Eclectic/4029eclectic-side-tables-and-e...  jpg    350     350   \n1      tables/Eclectic/4107eclectic-nightstands-and-b...  jpg    350     350   \n2      tables/Eclectic/3885eclectic-side-tables-and-e...  jpg    350     350   \n3      tables/Eclectic/4040eclectic-side-tables-and-e...  jpg    350     350   \n4         tables/Eclectic/4171eclectic-coffee-tables.jpg  jpg    350     350   \n...                                                  ...  ...    ...     ...   \n90077                   beds/Asian/3166asian-daybeds.jpg  jpg    224     224   \n90078                beds/Asian/7733asian-panel-beds.jpg  jpg    224     224   \n90079            beds/Asian/20802asian-platform-beds.jpg  jpg    350     350   \n90080             beds/Asian/7850asian-platform-beds.jpg  jpg    224     224   \n90081               beds/Asian/8103asian-canopy-beds.jpg  jpg    224     224   \n\n       Ratio Mode   Class     Style  \n0        1.0  RGB  tables  Eclectic  \n1        1.0  RGB  tables  Eclectic  \n2        1.0  RGB  tables  Eclectic  \n3        1.0  RGB  tables  Eclectic  \n4        1.0  RGB  tables  Eclectic  \n...      ...  ...     ...       ...  \n90077    1.0  RGB    beds     Asian  \n90078    1.0  RGB    beds     Asian  \n90079    1.0  RGB    beds     Asian  \n90080    1.0  RGB    beds     Asian  \n90081    1.0  RGB    beds     Asian  \n\n[90082 rows x 8 columns]",
      "text/html": "<div>\n<style scoped>\n    .dataframe tbody tr th:only-of-type {\n        vertical-align: middle;\n    }\n\n    .dataframe tbody tr th {\n        vertical-align: top;\n    }\n\n    .dataframe thead th {\n        text-align: right;\n    }\n</style>\n<table border=\"1\" class=\"dataframe\">\n  <thead>\n    <tr style=\"text-align: right;\">\n      <th></th>\n      <th>Path</th>\n      <th>Type</th>\n      <th>Width</th>\n      <th>Height</th>\n      <th>Ratio</th>\n      <th>Mode</th>\n      <th>Class</th>\n      <th>Style</th>\n    </tr>\n  </thead>\n  <tbody>\n    <tr>\n      <th>0</th>\n      <td>tables/Eclectic/4029eclectic-side-tables-and-e...</td>\n      <td>jpg</td>\n      <td>350</td>\n      <td>350</td>\n      <td>1.0</td>\n      <td>RGB</td>\n      <td>tables</td>\n      <td>Eclectic</td>\n    </tr>\n    <tr>\n      <th>1</th>\n      <td>tables/Eclectic/4107eclectic-nightstands-and-b...</td>\n      <td>jpg</td>\n      <td>350</td>\n      <td>350</td>\n      <td>1.0</td>\n      <td>RGB</td>\n      <td>tables</td>\n      <td>Eclectic</td>\n    </tr>\n    <tr>\n      <th>2</th>\n      <td>tables/Eclectic/3885eclectic-side-tables-and-e...</td>\n      <td>jpg</td>\n      <td>350</td>\n      <td>350</td>\n      <td>1.0</td>\n      <td>RGB</td>\n      <td>tables</td>\n      <td>Eclectic</td>\n    </tr>\n    <tr>\n      <th>3</th>\n      <td>tables/Eclectic/4040eclectic-side-tables-and-e...</td>\n      <td>jpg</td>\n      <td>350</td>\n      <td>350</td>\n      <td>1.0</td>\n      <td>RGB</td>\n      <td>tables</td>\n      <td>Eclectic</td>\n    </tr>\n    <tr>\n      <th>4</th>\n      <td>tables/Eclectic/4171eclectic-coffee-tables.jpg</td>\n      <td>jpg</td>\n      <td>350</td>\n      <td>350</td>\n      <td>1.0</td>\n      <td>RGB</td>\n      <td>tables</td>\n      <td>Eclectic</td>\n    </tr>\n    <tr>\n      <th>...</th>\n      <td>...</td>\n      <td>...</td>\n      <td>...</td>\n      <td>...</td>\n      <td>...</td>\n      <td>...</td>\n      <td>...</td>\n      <td>...</td>\n    </tr>\n    <tr>\n      <th>90077</th>\n      <td>beds/Asian/3166asian-daybeds.jpg</td>\n      <td>jpg</td>\n      <td>224</td>\n      <td>224</td>\n      <td>1.0</td>\n      <td>RGB</td>\n      <td>beds</td>\n      <td>Asian</td>\n    </tr>\n    <tr>\n      <th>90078</th>\n      <td>beds/Asian/7733asian-panel-beds.jpg</td>\n      <td>jpg</td>\n      <td>224</td>\n      <td>224</td>\n      <td>1.0</td>\n      <td>RGB</td>\n      <td>beds</td>\n      <td>Asian</td>\n    </tr>\n    <tr>\n      <th>90079</th>\n      <td>beds/Asian/20802asian-platform-beds.jpg</td>\n      <td>jpg</td>\n      <td>350</td>\n      <td>350</td>\n      <td>1.0</td>\n      <td>RGB</td>\n      <td>beds</td>\n      <td>Asian</td>\n    </tr>\n    <tr>\n      <th>90080</th>\n      <td>beds/Asian/7850asian-platform-beds.jpg</td>\n      <td>jpg</td>\n      <td>224</td>\n      <td>224</td>\n      <td>1.0</td>\n      <td>RGB</td>\n      <td>beds</td>\n      <td>Asian</td>\n    </tr>\n    <tr>\n      <th>90081</th>\n      <td>beds/Asian/8103asian-canopy-beds.jpg</td>\n      <td>jpg</td>\n      <td>224</td>\n      <td>224</td>\n      <td>1.0</td>\n      <td>RGB</td>\n      <td>beds</td>\n      <td>Asian</td>\n    </tr>\n  </tbody>\n</table>\n<p>90082 rows × 8 columns</p>\n</div>"
     },
     "execution_count": 67,
     "metadata": {},
     "output_type": "execute_result"
    }
   ],
   "execution_count": 67
  },
  {
   "cell_type": "markdown",
   "source": [
    "---\n",
    "## Prepare DataFrame"
   ],
   "metadata": {
    "collapsed": false
   },
   "id": "5d88eec96c715462"
  },
  {
   "cell_type": "code",
   "outputs": [],
   "source": [
    "import pandas as pd\n",
    "\n",
    "# Assuming you have the original \"df\" and \"duplicates_to_delete\" DataFrames\n",
    "\n",
    "# Merge the two DataFrames based on the \"Path\" column\n",
    "merged_df = pd.merge(df, duplicates_to_delete[['Path']], on='Path', how='left', indicator=True)\n",
    "\n",
    "# Create the \"Duplicate_Type\" column based on the merge indicator\n",
    "merged_df['Duplicate_Type'] = merged_df['_merge'].map({'both': \"Duplicate\", 'left_only': \"Unique\"})\n",
    "\n",
    "# Drop the merge indicator column\n",
    "merged_df = merged_df.drop('_merge', axis=1)\n",
    "\n",
    "# Update the original \"df\" with the new \"Duplicate_Type\" column\n",
    "df = merged_df"
   ],
   "metadata": {
    "collapsed": false,
    "ExecuteTime": {
     "end_time": "2024-05-12T09:56:53.737291Z",
     "start_time": "2024-05-12T09:56:53.695500Z"
    }
   },
   "id": "199b918f6bdeec2f",
   "execution_count": 68
  },
  {
   "cell_type": "code",
   "outputs": [
    {
     "data": {
      "text/plain": "                                                    Path Type  Width  Height  \\\n0      tables/Eclectic/4029eclectic-side-tables-and-e...  jpg    350     350   \n1      tables/Eclectic/4107eclectic-nightstands-and-b...  jpg    350     350   \n2      tables/Eclectic/3885eclectic-side-tables-and-e...  jpg    350     350   \n3      tables/Eclectic/4040eclectic-side-tables-and-e...  jpg    350     350   \n4         tables/Eclectic/4171eclectic-coffee-tables.jpg  jpg    350     350   \n...                                                  ...  ...    ...     ...   \n90077                   beds/Asian/3166asian-daybeds.jpg  jpg    224     224   \n90078                beds/Asian/7733asian-panel-beds.jpg  jpg    224     224   \n90079            beds/Asian/20802asian-platform-beds.jpg  jpg    350     350   \n90080             beds/Asian/7850asian-platform-beds.jpg  jpg    224     224   \n90081               beds/Asian/8103asian-canopy-beds.jpg  jpg    224     224   \n\n       Ratio Mode   Class     Style Duplicate_Type  \n0        1.0  RGB  tables  Eclectic         Unique  \n1        1.0  RGB  tables  Eclectic         Unique  \n2        1.0  RGB  tables  Eclectic         Unique  \n3        1.0  RGB  tables  Eclectic         Unique  \n4        1.0  RGB  tables  Eclectic         Unique  \n...      ...  ...     ...       ...            ...  \n90077    1.0  RGB    beds     Asian         Unique  \n90078    1.0  RGB    beds     Asian         Unique  \n90079    1.0  RGB    beds     Asian         Unique  \n90080    1.0  RGB    beds     Asian         Unique  \n90081    1.0  RGB    beds     Asian         Unique  \n\n[90082 rows x 9 columns]",
      "text/html": "<div>\n<style scoped>\n    .dataframe tbody tr th:only-of-type {\n        vertical-align: middle;\n    }\n\n    .dataframe tbody tr th {\n        vertical-align: top;\n    }\n\n    .dataframe thead th {\n        text-align: right;\n    }\n</style>\n<table border=\"1\" class=\"dataframe\">\n  <thead>\n    <tr style=\"text-align: right;\">\n      <th></th>\n      <th>Path</th>\n      <th>Type</th>\n      <th>Width</th>\n      <th>Height</th>\n      <th>Ratio</th>\n      <th>Mode</th>\n      <th>Class</th>\n      <th>Style</th>\n      <th>Duplicate_Type</th>\n    </tr>\n  </thead>\n  <tbody>\n    <tr>\n      <th>0</th>\n      <td>tables/Eclectic/4029eclectic-side-tables-and-e...</td>\n      <td>jpg</td>\n      <td>350</td>\n      <td>350</td>\n      <td>1.0</td>\n      <td>RGB</td>\n      <td>tables</td>\n      <td>Eclectic</td>\n      <td>Unique</td>\n    </tr>\n    <tr>\n      <th>1</th>\n      <td>tables/Eclectic/4107eclectic-nightstands-and-b...</td>\n      <td>jpg</td>\n      <td>350</td>\n      <td>350</td>\n      <td>1.0</td>\n      <td>RGB</td>\n      <td>tables</td>\n      <td>Eclectic</td>\n      <td>Unique</td>\n    </tr>\n    <tr>\n      <th>2</th>\n      <td>tables/Eclectic/3885eclectic-side-tables-and-e...</td>\n      <td>jpg</td>\n      <td>350</td>\n      <td>350</td>\n      <td>1.0</td>\n      <td>RGB</td>\n      <td>tables</td>\n      <td>Eclectic</td>\n      <td>Unique</td>\n    </tr>\n    <tr>\n      <th>3</th>\n      <td>tables/Eclectic/4040eclectic-side-tables-and-e...</td>\n      <td>jpg</td>\n      <td>350</td>\n      <td>350</td>\n      <td>1.0</td>\n      <td>RGB</td>\n      <td>tables</td>\n      <td>Eclectic</td>\n      <td>Unique</td>\n    </tr>\n    <tr>\n      <th>4</th>\n      <td>tables/Eclectic/4171eclectic-coffee-tables.jpg</td>\n      <td>jpg</td>\n      <td>350</td>\n      <td>350</td>\n      <td>1.0</td>\n      <td>RGB</td>\n      <td>tables</td>\n      <td>Eclectic</td>\n      <td>Unique</td>\n    </tr>\n    <tr>\n      <th>...</th>\n      <td>...</td>\n      <td>...</td>\n      <td>...</td>\n      <td>...</td>\n      <td>...</td>\n      <td>...</td>\n      <td>...</td>\n      <td>...</td>\n      <td>...</td>\n    </tr>\n    <tr>\n      <th>90077</th>\n      <td>beds/Asian/3166asian-daybeds.jpg</td>\n      <td>jpg</td>\n      <td>224</td>\n      <td>224</td>\n      <td>1.0</td>\n      <td>RGB</td>\n      <td>beds</td>\n      <td>Asian</td>\n      <td>Unique</td>\n    </tr>\n    <tr>\n      <th>90078</th>\n      <td>beds/Asian/7733asian-panel-beds.jpg</td>\n      <td>jpg</td>\n      <td>224</td>\n      <td>224</td>\n      <td>1.0</td>\n      <td>RGB</td>\n      <td>beds</td>\n      <td>Asian</td>\n      <td>Unique</td>\n    </tr>\n    <tr>\n      <th>90079</th>\n      <td>beds/Asian/20802asian-platform-beds.jpg</td>\n      <td>jpg</td>\n      <td>350</td>\n      <td>350</td>\n      <td>1.0</td>\n      <td>RGB</td>\n      <td>beds</td>\n      <td>Asian</td>\n      <td>Unique</td>\n    </tr>\n    <tr>\n      <th>90080</th>\n      <td>beds/Asian/7850asian-platform-beds.jpg</td>\n      <td>jpg</td>\n      <td>224</td>\n      <td>224</td>\n      <td>1.0</td>\n      <td>RGB</td>\n      <td>beds</td>\n      <td>Asian</td>\n      <td>Unique</td>\n    </tr>\n    <tr>\n      <th>90081</th>\n      <td>beds/Asian/8103asian-canopy-beds.jpg</td>\n      <td>jpg</td>\n      <td>224</td>\n      <td>224</td>\n      <td>1.0</td>\n      <td>RGB</td>\n      <td>beds</td>\n      <td>Asian</td>\n      <td>Unique</td>\n    </tr>\n  </tbody>\n</table>\n<p>90082 rows × 9 columns</p>\n</div>"
     },
     "execution_count": 69,
     "metadata": {},
     "output_type": "execute_result"
    }
   ],
   "source": [
    "df"
   ],
   "metadata": {
    "collapsed": false,
    "ExecuteTime": {
     "end_time": "2024-05-12T09:56:53.744218Z",
     "start_time": "2024-05-12T09:56:53.738141Z"
    }
   },
   "id": "29fe10ac5b2469a2",
   "execution_count": 69
  },
  {
   "cell_type": "markdown",
   "id": "ffad64bb8cc963ba",
   "metadata": {
    "collapsed": false
   },
   "source": [
    "---\n",
    "## Split (train, validation, test)"
   ]
  },
  {
   "cell_type": "markdown",
   "id": "f3392985afc54db7",
   "metadata": {
    "collapsed": false
   },
   "source": [
    "### Prepare target and training"
   ]
  },
  {
   "cell_type": "code",
   "id": "93984caa010157b3",
   "metadata": {
    "collapsed": false,
    "ExecuteTime": {
     "end_time": "2024-05-12T09:56:53.751028Z",
     "start_time": "2024-05-12T09:56:53.744945Z"
    }
   },
   "source": [
    "# df_no_ins\n",
    "target_class = df[[\"Class\"]].copy()\n",
    "target_style = df[[\"Style\"]].copy()"
   ],
   "outputs": [],
   "execution_count": 70
  },
  {
   "cell_type": "code",
   "id": "2b8460c92b529354",
   "metadata": {
    "collapsed": false,
    "ExecuteTime": {
     "end_time": "2024-05-12T09:56:53.764535Z",
     "start_time": "2024-05-12T09:56:53.751871Z"
    }
   },
   "source": [
    "# Dropping all but \"Path\", since the values of all the other columns (\"Type\", \"Width\", \"Height\"...) is the same\n",
    "# columns_to_keep = [\"Path\", \"Duplicate_Type\"]  # Change if needed\n",
    "# columns_to_drop = [col for col in df.columns if col not in columns_to_keep]\n",
    "\n",
    "# train_data = df.drop(columns=columns_to_drop, axis=1)\n",
    "train_data = df.copy()"
   ],
   "outputs": [],
   "execution_count": 71
  },
  {
   "cell_type": "markdown",
   "id": "aa755dbeb940c4e5",
   "metadata": {
    "collapsed": false
   },
   "source": [
    "### Splitting"
   ]
  },
  {
   "cell_type": "code",
   "id": "d3c9b3b367651993",
   "metadata": {
    "collapsed": false,
    "ExecuteTime": {
     "end_time": "2024-05-12T09:56:53.787739Z",
     "start_time": "2024-05-12T09:56:53.765466Z"
    }
   },
   "source": [
    "train_X, test_X, train_Y_class, test_Y_class, train_Y_style, test_Y_style = train_test_split(\n",
    "    train_data,\n",
    "    target_class,\n",
    "    target_style,\n",
    "    test_size=0.2,\n",
    "    random_state=42\n",
    ")\n",
    "train_X, val_X, train_Y_class, val_Y_class, train_Y_style, val_Y_style = train_test_split(\n",
    "    train_X,\n",
    "    train_Y_class,\n",
    "    train_Y_style,\n",
    "    test_size=0.25,\n",
    "    random_state=42\n",
    ")"
   ],
   "outputs": [],
   "execution_count": 72
  },
  {
   "cell_type": "code",
   "outputs": [
    {
     "data": {
      "text/plain": "                                                    Path Type  Width  Height  \\\n86444    beds/Traditional/7201traditional-panel-beds.jpg  jpg    224     224   \n84797  beds/Transitional/7754transitional-panel-beds.jpg  jpg    224     224   \n54483  chairs/Midcentury/17154midcentury-dining-chair...  jpg    350     350   \n58208  chairs/Transitional/23150transitional-dining-c...  jpg    350     350   \n19937      sofas/Contemporary/1307contemporary-sofas.jpg  jpg    350     350   \n...                                                  ...  ...    ...     ...   \n42959       lamps/Beach/16149beach-style-table-lamps.jpg  jpg    350     350   \n26202     lamps/Victorian/14916victorian-floor-lamps.jpg  jpg    350     350   \n76462  dressers/Transitional/6673transitional-dresser...  jpg    350     350   \n10575   tables/Beach/22391beach-style-console-tables.jpg  jpg    350     350   \n25751     lamps/Victorian/28481victorian-table-lamps.jpg  jpg    350     350   \n\n       Ratio Mode     Class         Style Duplicate_Type  \n86444    1.0  RGB      beds   Traditional         Unique  \n84797    1.0  RGB      beds  Transitional         Unique  \n54483    1.0  RGB    chairs    Midcentury         Unique  \n58208    1.0  RGB    chairs  Transitional         Unique  \n19937    1.0  RGB     sofas  Contemporary         Unique  \n...      ...  ...       ...           ...            ...  \n42959    1.0  RGB     lamps         Beach         Unique  \n26202    1.0  RGB     lamps     Victorian         Unique  \n76462    1.0  RGB  dressers  Transitional         Unique  \n10575    1.0  RGB    tables         Beach         Unique  \n25751    1.0  RGB     lamps     Victorian         Unique  \n\n[54048 rows x 9 columns]",
      "text/html": "<div>\n<style scoped>\n    .dataframe tbody tr th:only-of-type {\n        vertical-align: middle;\n    }\n\n    .dataframe tbody tr th {\n        vertical-align: top;\n    }\n\n    .dataframe thead th {\n        text-align: right;\n    }\n</style>\n<table border=\"1\" class=\"dataframe\">\n  <thead>\n    <tr style=\"text-align: right;\">\n      <th></th>\n      <th>Path</th>\n      <th>Type</th>\n      <th>Width</th>\n      <th>Height</th>\n      <th>Ratio</th>\n      <th>Mode</th>\n      <th>Class</th>\n      <th>Style</th>\n      <th>Duplicate_Type</th>\n    </tr>\n  </thead>\n  <tbody>\n    <tr>\n      <th>86444</th>\n      <td>beds/Traditional/7201traditional-panel-beds.jpg</td>\n      <td>jpg</td>\n      <td>224</td>\n      <td>224</td>\n      <td>1.0</td>\n      <td>RGB</td>\n      <td>beds</td>\n      <td>Traditional</td>\n      <td>Unique</td>\n    </tr>\n    <tr>\n      <th>84797</th>\n      <td>beds/Transitional/7754transitional-panel-beds.jpg</td>\n      <td>jpg</td>\n      <td>224</td>\n      <td>224</td>\n      <td>1.0</td>\n      <td>RGB</td>\n      <td>beds</td>\n      <td>Transitional</td>\n      <td>Unique</td>\n    </tr>\n    <tr>\n      <th>54483</th>\n      <td>chairs/Midcentury/17154midcentury-dining-chair...</td>\n      <td>jpg</td>\n      <td>350</td>\n      <td>350</td>\n      <td>1.0</td>\n      <td>RGB</td>\n      <td>chairs</td>\n      <td>Midcentury</td>\n      <td>Unique</td>\n    </tr>\n    <tr>\n      <th>58208</th>\n      <td>chairs/Transitional/23150transitional-dining-c...</td>\n      <td>jpg</td>\n      <td>350</td>\n      <td>350</td>\n      <td>1.0</td>\n      <td>RGB</td>\n      <td>chairs</td>\n      <td>Transitional</td>\n      <td>Unique</td>\n    </tr>\n    <tr>\n      <th>19937</th>\n      <td>sofas/Contemporary/1307contemporary-sofas.jpg</td>\n      <td>jpg</td>\n      <td>350</td>\n      <td>350</td>\n      <td>1.0</td>\n      <td>RGB</td>\n      <td>sofas</td>\n      <td>Contemporary</td>\n      <td>Unique</td>\n    </tr>\n    <tr>\n      <th>...</th>\n      <td>...</td>\n      <td>...</td>\n      <td>...</td>\n      <td>...</td>\n      <td>...</td>\n      <td>...</td>\n      <td>...</td>\n      <td>...</td>\n      <td>...</td>\n    </tr>\n    <tr>\n      <th>42959</th>\n      <td>lamps/Beach/16149beach-style-table-lamps.jpg</td>\n      <td>jpg</td>\n      <td>350</td>\n      <td>350</td>\n      <td>1.0</td>\n      <td>RGB</td>\n      <td>lamps</td>\n      <td>Beach</td>\n      <td>Unique</td>\n    </tr>\n    <tr>\n      <th>26202</th>\n      <td>lamps/Victorian/14916victorian-floor-lamps.jpg</td>\n      <td>jpg</td>\n      <td>350</td>\n      <td>350</td>\n      <td>1.0</td>\n      <td>RGB</td>\n      <td>lamps</td>\n      <td>Victorian</td>\n      <td>Unique</td>\n    </tr>\n    <tr>\n      <th>76462</th>\n      <td>dressers/Transitional/6673transitional-dresser...</td>\n      <td>jpg</td>\n      <td>350</td>\n      <td>350</td>\n      <td>1.0</td>\n      <td>RGB</td>\n      <td>dressers</td>\n      <td>Transitional</td>\n      <td>Unique</td>\n    </tr>\n    <tr>\n      <th>10575</th>\n      <td>tables/Beach/22391beach-style-console-tables.jpg</td>\n      <td>jpg</td>\n      <td>350</td>\n      <td>350</td>\n      <td>1.0</td>\n      <td>RGB</td>\n      <td>tables</td>\n      <td>Beach</td>\n      <td>Unique</td>\n    </tr>\n    <tr>\n      <th>25751</th>\n      <td>lamps/Victorian/28481victorian-table-lamps.jpg</td>\n      <td>jpg</td>\n      <td>350</td>\n      <td>350</td>\n      <td>1.0</td>\n      <td>RGB</td>\n      <td>lamps</td>\n      <td>Victorian</td>\n      <td>Unique</td>\n    </tr>\n  </tbody>\n</table>\n<p>54048 rows × 9 columns</p>\n</div>"
     },
     "execution_count": 73,
     "metadata": {},
     "output_type": "execute_result"
    }
   ],
   "source": [
    "train_X"
   ],
   "metadata": {
    "collapsed": false,
    "ExecuteTime": {
     "end_time": "2024-05-12T09:56:53.794253Z",
     "start_time": "2024-05-12T09:56:53.788477Z"
    }
   },
   "id": "c8aa3c1b898624eb",
   "execution_count": 73
  },
  {
   "cell_type": "markdown",
   "id": "0e9d12c1",
   "metadata": {},
   "source": [
    "---\n",
    "## Rescaling & Normalization\n",
    "Note: Using Tensorflow for quick normalization and rescaling. In 'utils/tensorflow_preprocessing.py' file, there is a functions to normalize and rescale the each image in the dataset."
   ]
  },
  {
   "cell_type": "code",
   "id": "492c0bcd",
   "metadata": {
    "ExecuteTime": {
     "end_time": "2024-05-12T09:56:53.797244Z",
     "start_time": "2024-05-12T09:56:53.795274Z"
    }
   },
   "source": [
    "import tensorflow as tf\n",
    "\n",
    "AUTOTUNE = tf.data.experimental.AUTOTUNE"
   ],
   "outputs": [],
   "execution_count": 74
  },
  {
   "cell_type": "code",
   "outputs": [],
   "source": [
    "import tensorflow as tf\n",
    "\n",
    "\n",
    "def process_image_from_path(image_path, img_height, img_width, to_augment):\n",
    "    # Read image\n",
    "    img = tf.io.read_file(image_path)\n",
    "\n",
    "    # Decode to RGB\n",
    "    img = tf.io.decode_jpeg(img, channels=3)\n",
    "\n",
    "    # Resize\n",
    "    img = tf.image.resize(img, [img_height, img_width])\n",
    "\n",
    "    # Augment\n",
    "    is_duplicate = tf.equal(to_augment, \"Duplicate\")\n",
    "\n",
    "    def augment_image_tf(img):\n",
    "        # Flip horizontally\n",
    "        img = tf.image.random_flip_left_right(img)\n",
    "        # Adjust brightness\n",
    "        img = tf.image.random_brightness(img, max_delta=0.2)\n",
    "        # Adjust contrast\n",
    "        img = tf.image.random_contrast(img, lower=0.8, upper=1.2)\n",
    "\n",
    "        return img\n",
    "\n",
    "    img = tf.cond(is_duplicate, lambda: augment_image_tf(img), lambda: img)\n",
    "\n",
    "    # Rescale\n",
    "    rescaling_layer = tf.keras.layers.Rescaling(scale=1. / 255)\n",
    "    img = rescaling_layer(img)\n",
    "\n",
    "    return img"
   ],
   "metadata": {
    "collapsed": false,
    "ExecuteTime": {
     "end_time": "2024-05-12T09:56:53.801118Z",
     "start_time": "2024-05-12T09:56:53.797976Z"
    }
   },
   "id": "21073bbfdb5d44af",
   "execution_count": 75
  },
  {
   "cell_type": "code",
   "outputs": [],
   "source": [
    "def prepare_image_dataset_2(dataframe, img_height, img_width, batch_size, base_path='../data/raw/Furniture_Data'):\n",
    "    df_array = [(base_path + '/' + path, is_duplicate, class_label) for path, is_duplicate, class_label in\n",
    "                dataframe[['Path', 'Duplicate_Type', 'Class']].values.tolist()]\n",
    "\n",
    "    df_ds = tf.data.Dataset.from_tensor_slices(df_array)\n",
    "\n",
    "    image_ds = df_ds.map(lambda x: (\n",
    "        process_image_from_path(image_path=x[0], img_height=img_height, img_width=img_width, to_augment=x[1]),\n",
    "        x[2]\n",
    "    ),\n",
    "                         num_parallel_calls=tf.data.AUTOTUNE\n",
    "                         )\n",
    "\n",
    "    image_ds = image_ds.batch(batch_size)\n",
    "\n",
    "    return image_ds"
   ],
   "metadata": {
    "collapsed": false,
    "ExecuteTime": {
     "end_time": "2024-05-12T09:56:53.805224Z",
     "start_time": "2024-05-12T09:56:53.802187Z"
    }
   },
   "id": "6fdebfce5147a7ae",
   "execution_count": 76
  },
  {
   "cell_type": "code",
   "id": "d6db3115",
   "metadata": {
    "ExecuteTime": {
     "end_time": "2024-05-12T09:56:53.992328Z",
     "start_time": "2024-05-12T09:56:53.806077Z"
    }
   },
   "source": [
    "train_dataset = prepare_image_dataset_2(train_X, img_height=256, img_width=256, batch_size=32)"
   ],
   "outputs": [],
   "execution_count": 77
  },
  {
   "cell_type": "code",
   "outputs": [],
   "source": [
    "val_dataset = prepare_image_dataset_2(val_X, img_height=256, img_width=256, batch_size=32)"
   ],
   "metadata": {
    "collapsed": false,
    "ExecuteTime": {
     "end_time": "2024-05-12T09:56:54.148584Z",
     "start_time": "2024-05-12T09:56:53.993125Z"
    }
   },
   "id": "004d0c46",
   "execution_count": 78
  },
  {
   "cell_type": "code",
   "outputs": [],
   "source": [
    "test_dataset = prepare_image_dataset_2(test_X, img_height=256, img_width=256, batch_size=32)"
   ],
   "metadata": {
    "collapsed": false,
    "ExecuteTime": {
     "end_time": "2024-05-12T09:56:54.209312Z",
     "start_time": "2024-05-12T09:56:54.149355Z"
    }
   },
   "id": "a36642e3",
   "execution_count": 79
  },
  {
   "cell_type": "markdown",
   "source": [
    "---\n",
    "---\n",
    "## Test"
   ],
   "metadata": {
    "collapsed": false
   },
   "id": "42868d318c348080"
  },
  {
   "cell_type": "code",
   "outputs": [
    {
     "name": "stdout",
     "output_type": "stream",
     "text": [
      "(32, 256, 256, 3) tf.Tensor(\n",
      "[b'beds' b'beds' b'chairs' b'chairs' b'sofas' b'chairs' b'lamps' b'lamps'\n",
      " b'chairs' b'lamps' b'tables' b'tables' b'tables' b'lamps' b'lamps'\n",
      " b'dressers' b'tables' b'chairs' b'lamps' b'dressers' b'tables'\n",
      " b'dressers' b'lamps' b'lamps' b'sofas' b'tables' b'lamps' b'dressers'\n",
      " b'lamps' b'lamps' b'tables' b'beds'], shape=(32,), dtype=string)\n"
     ]
    },
    {
     "name": "stderr",
     "output_type": "stream",
     "text": [
      "2024-05-12 16:56:54.238347: W tensorflow/core/framework/local_rendezvous.cc:404] Local rendezvous is aborting with status: OUT_OF_RANGE: End of sequence\n"
     ]
    }
   ],
   "source": [
    "for x, y in train_dataset.take(1):\n",
    "    print(x.shape, y)"
   ],
   "metadata": {
    "collapsed": false,
    "ExecuteTime": {
     "end_time": "2024-05-12T09:56:54.240175Z",
     "start_time": "2024-05-12T09:56:54.210045Z"
    }
   },
   "id": "28cbfad021c18d5f",
   "execution_count": 80
  },
  {
   "cell_type": "markdown",
   "id": "ac6e5be3efc62955",
   "metadata": {
    "collapsed": false
   },
   "source": [
    "---\n",
    "## Encoding"
   ]
  },
  {
   "cell_type": "code",
   "id": "e8cb8ff7f814914a",
   "metadata": {
    "collapsed": false,
    "ExecuteTime": {
     "end_time": "2024-05-12T09:56:54.242611Z",
     "start_time": "2024-05-12T09:56:54.241004Z"
    }
   },
   "source": [
    "# # One-Hot Encoding\n",
    "# train_Y_style = one_hot_encode(train_Y_style, 'Style')\n",
    "# test_Y_style = one_hot_encode(test_Y_style, 'Style')\n",
    "# val_Y_style = one_hot_encode(val_Y_style, 'Style')\n",
    "# \n",
    "# # Label Encoding\n",
    "# train_Y_class = label_encode(train_Y_class, 'Class')\n",
    "# test_Y_class = label_encode(test_Y_class, 'Class')\n",
    "# val_Y_class = label_encode(val_Y_class, 'Class')"
   ],
   "outputs": [],
   "execution_count": 81
  },
  {
   "cell_type": "code",
   "id": "c1f90cd1",
   "metadata": {
    "ExecuteTime": {
     "end_time": "2024-05-12T09:56:54.245168Z",
     "start_time": "2024-05-12T09:56:54.243440Z"
    }
   },
   "source": [
    "# train_Y_style.head()"
   ],
   "outputs": [],
   "execution_count": 82
  },
  {
   "cell_type": "code",
   "id": "6802bff0",
   "metadata": {
    "ExecuteTime": {
     "end_time": "2024-05-12T09:56:54.247556Z",
     "start_time": "2024-05-12T09:56:54.245972Z"
    }
   },
   "source": [
    "# train_Y_class.head()"
   ],
   "outputs": [],
   "execution_count": 83
  },
  {
   "cell_type": "markdown",
   "id": "f6a16b78",
   "metadata": {},
   "source": [
    "---\n",
    "## Saving the images"
   ]
  },
  {
   "cell_type": "markdown",
   "source": [],
   "metadata": {
    "collapsed": false
   },
   "id": "71033035"
  },
  {
   "cell_type": "code",
   "outputs": [],
   "source": [],
   "metadata": {
    "collapsed": false,
    "ExecuteTime": {
     "end_time": "2024-05-12T09:56:54.249617Z",
     "start_time": "2024-05-12T09:56:54.248154Z"
    }
   },
   "id": "421ee3faa54d634c",
   "execution_count": 83
  }
 ],
 "metadata": {
  "kernelspec": {
   "display_name": "Python 3",
   "language": "python",
   "name": "python3"
  },
  "language_info": {
   "codemirror_mode": {
    "name": "ipython",
    "version": 3
   },
   "file_extension": ".py",
   "mimetype": "text/x-python",
   "name": "python",
   "nbconvert_exporter": "python",
   "pygments_lexer": "ipython3",
   "version": "3.11.6"
  }
 },
 "nbformat": 4,
 "nbformat_minor": 5
}
