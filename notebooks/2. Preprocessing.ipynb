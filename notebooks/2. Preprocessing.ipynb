{
 "cells": [
  {
   "cell_type": "markdown",
   "id": "7356d0bb0c37110e",
   "metadata": {
    "collapsed": false
   },
   "source": [
    "# Preprocessing"
   ]
  },
  {
   "cell_type": "markdown",
   "id": "cb3a56b58498b093",
   "metadata": {
    "collapsed": false
   },
   "source": [
    "---\n",
    "## Imports"
   ]
  },
  {
   "cell_type": "code",
   "id": "f4fffc68a871f22b",
   "metadata": {
    "collapsed": false
   },
   "source": [
    "import pandas as pd\n",
    "import numpy as np\n",
    "from sklearn.model_selection import train_test_split\n",
    "\n",
    "import sys\n",
    "sys.path.append('../')\n",
    "\n",
    "from utils.duplicates import remove_rows, get_duplicates_to_delete, visualize_duplicates\n",
    "from utils.rescale_image import resize_images_in_dataframe, display_random_images\n",
    "from utils.normalization import process_images, insert_normalized_images\n",
    "from utils.encoding import one_hot_encode, label_encode\n",
    "import pandas as pd\n",
    "import numpy as np"
   ],
   "outputs": [],
   "execution_count": null
  },
  {
   "cell_type": "code",
   "id": "e9e697dc13cb950a",
   "metadata": {
    "collapsed": false
   },
   "source": [
    "df = pd.read_csv('../data/processed/csv/df.csv')\n",
    "duplicates = pd.read_csv('../data/processed/csv/duplicates.csv')"
   ],
   "outputs": [],
   "execution_count": null
  },
  {
   "cell_type": "markdown",
   "id": "28c210a295f7959f",
   "metadata": {
    "collapsed": false
   },
   "source": [
    "--- \n",
    "## Remove duplicates\n",
    "\n",
    "2 DataFrames will be outputted:\n",
    "\n",
    "| Variables   | Description                                                       |\n",
    "|-------------|-------------------------------------------------------------------|\n",
    "| `df_no_dup` | DataFrame with all but one duplicates of each style removed       |\n",
    "| `df_no_ins` | DataFrame with misclassified images manually reviewed and removed |"
   ]
  },
  {
   "cell_type": "markdown",
   "id": "79ab2d075ab9b619",
   "metadata": {
    "collapsed": false
   },
   "source": [
    "### Automatically delete:\n",
    "- For each duplicate group, delete all but one rows marked as \"Duplicate\" for each \"Style\".\n",
    "- Outputs \"df_no_dup\"."
   ]
  },
  {
   "cell_type": "code",
   "id": "initial_id",
   "metadata": {
    "collapsed": true
   },
   "source": [
    "duplicates_to_delete = get_duplicates_to_delete(duplicates)\n",
    "df_no_dup = remove_rows(df, duplicates_to_delete)\n",
    "df_no_dup"
   ],
   "outputs": [],
   "execution_count": null
  },
  {
   "cell_type": "markdown",
   "id": "641504cce48ca671",
   "metadata": {
    "collapsed": false
   },
   "source": [
    "### Manually delete:\n",
    "- Any rows marked as \"Inspect\" that belongs in the wrong \"Class\".\n",
    "- Outputs \"df_no_ins\""
   ]
  },
  {
   "cell_type": "code",
   "id": "3f84b719dd865b99",
   "metadata": {
    "collapsed": false
   },
   "source": [
    "inspects = duplicates[duplicates['Duplicate_Type'] == 'Inspect']\n",
    "inspects"
   ],
   "outputs": [],
   "execution_count": null
  },
  {
   "cell_type": "code",
   "id": "aa9ef12d5f793a6f",
   "metadata": {
    "collapsed": false
   },
   "source": [
    "total_inspect_groups = inspects[\"Group\"].nunique(dropna=False)"
   ],
   "outputs": [],
   "execution_count": null
  },
  {
   "cell_type": "code",
   "id": "e612349a811d1925",
   "metadata": {
    "collapsed": false
   },
   "source": [
    "inspects_rows_to_delete = [91, 154, 205, 227, 235, 277, 280, 281, 287, 290, 299, 310, 318, 323, 325]"
   ],
   "outputs": [],
   "execution_count": null
  },
  {
   "cell_type": "code",
   "id": "15f28861eeb1cb8e",
   "metadata": {
    "collapsed": false
   },
   "source": [
    "inspect_review = inspects.copy()\n",
    "inspect_review[\"Duplicate_Type\"] = \"Keep\"\n",
    "inspect_review.loc[inspects_rows_to_delete, \"Duplicate_Type\"] = \"DELETE\""
   ],
   "outputs": [],
   "execution_count": null
  },
  {
   "cell_type": "code",
   "id": "a2776d5e64dbd086",
   "metadata": {
    "collapsed": false
   },
   "source": [
    "visualize_duplicates(inspect_review, total_inspect_groups)"
   ],
   "outputs": [],
   "execution_count": null
  },
  {
   "cell_type": "code",
   "id": "3e7350bc71b9e306",
   "metadata": {
    "collapsed": false
   },
   "source": [
    "inspects_to_delete = inspect_review[inspect_review[\"Duplicate_Type\"] == \"DELETE\"]\n",
    "inspects_to_delete"
   ],
   "outputs": [],
   "execution_count": null
  },
  {
   "cell_type": "code",
   "id": "d21d02905e3a2966",
   "metadata": {
    "collapsed": false
   },
   "source": [
    "df_no_ins = remove_rows(df, inspects_to_delete)\n",
    "df_no_ins"
   ],
   "outputs": [],
   "execution_count": null
  },
  {
   "cell_type": "markdown",
   "id": "ffad64bb8cc963ba",
   "metadata": {
    "collapsed": false
   },
   "source": [
    "---\n",
    "## Split (train, validation, test)\n",
    "\n",
    "This part is complicated since there are 2 starting DataFrames (duplicates cleaned / inspects cleaned), and 2 target classes (Class / Style). \n",
    "Please refer to this table for the variables after splitting.\n",
    "\n",
    "#### Duplicates cleaned\n",
    "| Train                  | Validation           | Test                  | Description   |\n",
    "|------------------------|----------------------|-----------------------|---------------|\n",
    "| `no_dup_train_X`       | `no_dup_val_X`       | `no_dup_test_X`       | Data features |\n",
    "| `no_dup_train_Y_class` | `no_dup_val_Y_class` | `no_dup_test_Y_class` | Target class  |\n",
    "| `no_dup_train_Y_style` | `no_dup_val_Y_style` | `no_dup_test_Y_style` | Target style  |\n",
    "\n",
    "#### Manual inspection cleaned\n",
    "| Train                  | Validation           | Test                  | Description   |\n",
    "|------------------------|----------------------|-----------------------|---------------|\n",
    "| `no_ins_train_X`       | `no_ins_val_X`       | `no_ins_test_X`       | Data features |\n",
    "| `no_ins_train_Y_class` | `no_ins_val_Y_class` | `no_ins_test_Y_class` | Target class  |\n",
    "| `no_ins_train_Y_style` | `no_ins_val_Y_style` | `no_ins_test_Y_style` | Target style  |\n"
   ]
  },
  {
   "cell_type": "markdown",
   "id": "f3392985afc54db7",
   "metadata": {
    "collapsed": false
   },
   "source": [
    "### Prepare target and training"
   ]
  },
  {
   "cell_type": "code",
   "id": "93984caa010157b3",
   "metadata": {
    "collapsed": false
   },
   "source": [
    "# df_no_dup\n",
    "df_no_dup_target_class = df_no_dup[[\"Class\"]].copy()\n",
    "df_no_dup_target_style = df_no_dup[[\"Style\"]].copy()\n",
    "\n",
    "# df_no_ins\n",
    "df_no_ins_target_class = df_no_ins[[\"Class\"]].copy()\n",
    "df_no_ins_target_style = df_no_ins[[\"Style\"]].copy()"
   ],
   "outputs": [],
   "execution_count": null
  },
  {
   "cell_type": "code",
   "id": "2b8460c92b529354",
   "metadata": {
    "collapsed": false
   },
   "source": [
    "# Currently dropping all but \"Path\", since the values of all the other columns (\"Type\", \"Width\", \"Height\"...) is the same\n",
    "columns_to_keep = [\"Path\"] # Change later if needed\n",
    "columns_to_drop = [col for col in df.columns if col not in columns_to_keep]\n",
    "\n",
    "df_no_dup_train = df_no_dup.drop(columns=columns_to_drop, axis=1)\n",
    "df_no_ins_train = df_no_ins.drop(columns=columns_to_drop, axis=1)"
   ],
   "outputs": [],
   "execution_count": null
  },
  {
   "cell_type": "markdown",
   "id": "aa755dbeb940c4e5",
   "metadata": {
    "collapsed": false
   },
   "source": [
    "### Splitting"
   ]
  },
  {
   "cell_type": "code",
   "id": "d3c9b3b367651993",
   "metadata": {
    "collapsed": false
   },
   "source": [
    "# df_no_dup\n",
    "no_dup_train_X, no_dup_test_X, no_dup_train_Y_class, no_dup_test_Y_class, no_dup_train_Y_style, no_dup_test_Y_style = train_test_split(\n",
    "    df_no_dup_train,\n",
    "    df_no_dup_target_class,\n",
    "    df_no_dup_target_style,\n",
    "    test_size=0.2,\n",
    "    random_state=42\n",
    ")\n",
    "no_dup_train_X, no_dup_val_X, no_dup_train_Y_class, no_dup_val_Y_class, no_dup_train_Y_style, no_dup_val_Y_style = train_test_split(\n",
    "    no_dup_train_X,\n",
    "    no_dup_train_Y_class,\n",
    "    no_dup_train_Y_style,\n",
    "    test_size=0.25,\n",
    "    random_state=42\n",
    ")\n",
    "\n",
    "# df_no_ins\n",
    "no_ins_train_X, no_ins_test_X, no_ins_train_Y_class, no_ins_test_Y_class, no_ins_train_Y_style, no_ins_test_Y_style = train_test_split(\n",
    "    df_no_ins_train,\n",
    "    df_no_ins_target_class,\n",
    "    df_no_ins_target_style,\n",
    "    test_size=0.2,\n",
    "    random_state=42\n",
    ")\n",
    "no_ins_train_X, no_ins_val_X, no_ins_train_Y_class, no_ins_val_Y_class, no_ins_train_Y_style, no_ins_val_Y_style = train_test_split(\n",
    "    no_ins_train_X,\n",
    "    no_ins_train_Y_class,\n",
    "    no_ins_train_Y_style,\n",
    "    test_size=0.25,\n",
    "    random_state=42\n",
    ")"
   ],
   "outputs": [],
   "execution_count": null
  },
  {
   "cell_type": "markdown",
   "id": "9d742526065dece7",
   "metadata": {
    "collapsed": false
   },
   "source": [
    "Note: please refer to the tables under \"Split (train, validation, test)\" for easier understanding"
   ]
  },
  {
   "cell_type": "markdown",
   "id": "180b396f80fc8cbd",
   "metadata": {
    "collapsed": false
   },
   "source": [
    "---\n",
    "## Rescaling"
   ]
  },
  {
   "cell_type": "markdown",
   "id": "29674bbd",
   "metadata": {},
   "source": [
    "Note: Proceed the rescaling only with data features since the target dataframes don't have 'Path' column."
   ]
  },
  {
   "cell_type": "code",
   "id": "f661df9e",
   "metadata": {},
   "source": [
    "no_dup_train_X.head()"
   ],
   "outputs": [],
   "execution_count": null
  },
  {
   "cell_type": "code",
   "id": "c49953ec",
   "metadata": {
    "jupyter": {
     "is_executing": true
    }
   },
   "source": [
    "base_path = '../data/raw/Furniture_Data'\n",
    "\n",
    "no_dup_train_X = resize_images_in_dataframe(no_dup_train_X, base_path)\n",
    "no_dup_test_X = resize_images_in_dataframe(no_dup_test_X, base_path)\n",
    "no_dup_val_X = resize_images_in_dataframe(no_dup_val_X, base_path)\n",
    "\n",
    "no_ins_train_X = resize_images_in_dataframe(no_ins_train_X, base_path)\n",
    "no_ins_test_X = resize_images_in_dataframe(no_ins_test_X, base_path)\n",
    "no_ins_val_X = resize_images_in_dataframe(no_ins_val_X, base_path)"
   ],
   "outputs": [],
   "execution_count": null
  },
  {
   "cell_type": "code",
   "id": "84630556",
   "metadata": {
    "jupyter": {
     "is_executing": true
    }
   },
   "source": [
    "no_dup_train_X.head()"
   ],
   "outputs": [],
   "execution_count": null
  },
  {
   "cell_type": "code",
   "id": "cdf3e02f",
   "metadata": {
    "jupyter": {
     "is_executing": true
    }
   },
   "source": [
    "display_random_images(no_dup_train_X)"
   ],
   "outputs": [],
   "execution_count": null
  },
  {
   "cell_type": "code",
   "id": "428acb48",
   "metadata": {
    "jupyter": {
     "is_executing": true
    }
   },
   "source": "display_random_images(no_ins_train_X)",
   "outputs": [],
   "execution_count": null
  },
  {
   "cell_type": "markdown",
   "id": "33a7a592abbf2396",
   "metadata": {
    "collapsed": false
   },
   "source": [
    "---\n",
    "## Normalization (pixel)"
   ]
  },
  {
   "cell_type": "code",
   "id": "197c4ba7",
   "metadata": {},
   "source": [
    "no_dup_train_X['NormalizedImage'] = pd.Series([np.nan] * len(no_dup_train_X))\n",
    "no_dup_test_X['NormalizedImage'] = pd.Series([np.nan] * len(no_dup_test_X))\n",
    "no_dup_val_X['NormalizedImage'] = pd.Series([np.nan] * len(no_dup_val_X))\n",
    "no_ins_train_X['NormalizedImage'] = pd.Series([np.nan] * len(no_ins_train_X))\n",
    "no_ins_test_X['NormalizedImage'] = pd.Series([np.nan] * len(no_ins_test_X))\n",
    "no_ins_val_X['NormalizedImage'] = pd.Series([np.nan] * len(no_ins_val_X))"
   ],
   "outputs": [],
   "execution_count": null
  },
  {
   "cell_type": "code",
   "id": "f86e055d",
   "metadata": {},
   "source": [
    "chunk_size = 10000\n",
    "save_path = '../data/processed/csv'\n",
    "\n",
    "process_images('no_dup_train_X', no_dup_train_X, chunk_size, save_path)\n",
    "process_images('no_dup_test_X', no_dup_test_X, chunk_size, save_path)\n",
    "process_images('no_dup_val_X', no_dup_val_X, chunk_size, save_path)"
   ],
   "outputs": [],
   "execution_count": null
  },
  {
   "cell_type": "code",
   "id": "d8bf8f29",
   "metadata": {},
   "source": [
    "process_images('no_ins_train_X', no_ins_train_X, chunk_size, save_path)\n",
    "process_images('no_ins_test_X', no_ins_test_X, chunk_size, save_path)\n",
    "process_images('no_ins_val_X', no_ins_val_X, chunk_size, save_path)"
   ],
   "outputs": [],
   "execution_count": null
  },
  {
   "cell_type": "code",
   "id": "4f02c8d2",
   "metadata": {},
   "source": [
    "no_dup_train_X = insert_normalized_images('no_dup_train_X', no_dup_train_X, save_path)\n",
    "no_dup_test_X = insert_normalized_images('no_dup_test_X', no_dup_test_X, save_path)\n",
    "no_dup_val_X = insert_normalized_images('no_dup_val_X', no_dup_val_X, save_path)"
   ],
   "outputs": [],
   "execution_count": null
  },
  {
   "cell_type": "code",
   "id": "c836a646",
   "metadata": {},
   "source": [
    "no_ins_train_X = insert_normalized_images('no_ins_train_X', no_ins_train_X, save_path)\n",
    "no_ins_test_X = insert_normalized_images('no_ins_test_X', no_ins_test_X, save_path)\n",
    "no_ins_val_X = insert_normalized_images('no_ins_val_X', no_ins_val_X, save_path)"
   ],
   "outputs": [],
   "execution_count": null
  },
  {
   "cell_type": "code",
   "id": "aee44224",
   "metadata": {},
   "source": [
    "no_dup_train_X.head()"
   ],
   "outputs": [],
   "execution_count": null
  },
  {
   "cell_type": "code",
   "id": "00d63656",
   "metadata": {},
   "source": [
    "no_dup_test_X.head()"
   ],
   "outputs": [],
   "execution_count": null
  },
  {
   "cell_type": "code",
   "id": "93ee195d",
   "metadata": {},
   "source": [
    "no_dup_val_X.head()"
   ],
   "outputs": [],
   "execution_count": null
  },
  {
   "cell_type": "code",
   "id": "b2cd5137",
   "metadata": {},
   "source": [
    "no_ins_train_X.head()"
   ],
   "outputs": [],
   "execution_count": null
  },
  {
   "cell_type": "code",
   "id": "4050e411",
   "metadata": {},
   "source": [
    "no_ins_test_X.head()"
   ],
   "outputs": [],
   "execution_count": null
  },
  {
   "cell_type": "code",
   "id": "f32a0b89",
   "metadata": {},
   "source": [
    "no_ins_val_X.head()"
   ],
   "outputs": [],
   "execution_count": null
  },
  {
   "cell_type": "markdown",
   "id": "afbeb68370ba77b2",
   "metadata": {
    "collapsed": false
   },
   "source": [
    "---\n",
    "## Augmentation"
   ]
  },
  {
   "cell_type": "code",
   "id": "4eba7b4ebd0788fd",
   "metadata": {
    "collapsed": false
   },
   "source": "",
   "outputs": [],
   "execution_count": null
  },
  {
   "cell_type": "markdown",
   "id": "ac6e5be3efc62955",
   "metadata": {
    "collapsed": false
   },
   "source": [
    "---\n",
    "## Encoding"
   ]
  },
  {
   "cell_type": "code",
   "id": "e8cb8ff7f814914a",
   "metadata": {
    "collapsed": false
   },
   "source": [
    "# One-Hot Encoding\n",
    "no_dup_train_Y_style = one_hot_encode(no_dup_train_Y_style, 'Style')\n",
    "no_dup_test_Y_style = one_hot_encode(no_dup_test_Y_style, 'Style')\n",
    "no_dup_val_Y_style = one_hot_encode(no_dup_val_Y_style, 'Style')\n",
    "\n",
    "no_ins_train_Y_style = one_hot_encode(no_ins_train_Y_style, 'Style')\n",
    "no_ins_test_Y_style = one_hot_encode(no_ins_test_Y_style, 'Style')\n",
    "no_ins_val_Y_style = one_hot_encode(no_ins_val_Y_style, 'Style')\n",
    "\n",
    "# Label Encoding\n",
    "no_dup_train_Y_class = label_encode(no_dup_train_Y_class, 'Class')\n",
    "no_dup_test_Y_class = label_encode(no_dup_test_Y_class, 'Class')\n",
    "no_dup_val_Y_class = label_encode(no_dup_val_Y_class, 'Class')\n",
    "\n",
    "no_ins_train_Y_class = label_encode(no_ins_train_Y_class, 'Class')\n",
    "no_ins_test_Y_class = label_encode(no_ins_test_Y_class, 'Class')\n",
    "no_ins_val_Y_class = label_encode(no_ins_val_Y_class, 'Class')"
   ],
   "outputs": [],
   "execution_count": null
  },
  {
   "cell_type": "code",
   "id": "c1f90cd1",
   "metadata": {},
   "source": [
    "no_dup_train_Y_style.head()"
   ],
   "outputs": [],
   "execution_count": null
  },
  {
   "cell_type": "code",
   "id": "6802bff0",
   "metadata": {},
   "source": [
    "no_dup_train_Y_class.head()"
   ],
   "outputs": [],
   "execution_count": null
  },
  {
   "cell_type": "code",
   "id": "268f130e",
   "metadata": {},
   "source": [],
   "outputs": [],
   "execution_count": null
  }
 ],
 "metadata": {
  "kernelspec": {
   "display_name": "Python 3",
   "language": "python",
   "name": "python3"
  },
  "language_info": {
   "codemirror_mode": {
    "name": "ipython",
    "version": 3
   },
   "file_extension": ".py",
   "mimetype": "text/x-python",
   "name": "python",
   "nbconvert_exporter": "python",
   "pygments_lexer": "ipython3",
   "version": "3.11.6"
  }
 },
 "nbformat": 4,
 "nbformat_minor": 5
}
