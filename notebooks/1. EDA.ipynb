{
 "cells": [
  {
   "cell_type": "code",
   "source": [
    "import os, sys\n",
    "\n",
    "sys.path.append(os.path.abspath(os.path.join('..')))\n",
    "\n",
    "import matplotlib.pyplot as plt\n",
    "\n",
    "from utils.visualization import data_count_plot\n",
    "from utils.visualization import plot_histogram\n",
    "from utils.duplicates import prepare_duplicates, visualize_duplicates\n",
    "from utils.augmentation import augment_image\n",
    "\n",
    "from utils import data"
   ],
   "metadata": {
    "collapsed": false
   },
   "outputs": [],
   "execution_count": null
  },
  {
   "cell_type": "markdown",
   "source": [
    "### Loading Dataframe"
   ],
   "metadata": {
    "collapsed": false
   }
  },
  {
   "cell_type": "code",
   "source": [
    "base_path = '../data/raw/Furniture_Data'\n",
    "df = data.load(base_path)"
   ],
   "metadata": {
    "collapsed": false
   },
   "outputs": [],
   "execution_count": null
  },
  {
   "cell_type": "code",
   "source": [
    "df.describe()"
   ],
   "metadata": {
    "collapsed": false
   },
   "outputs": [],
   "execution_count": null
  },
  {
   "cell_type": "code",
   "source": [
    "df.head()"
   ],
   "metadata": {
    "collapsed": false
   },
   "outputs": [],
   "execution_count": null
  },
  {
   "cell_type": "markdown",
   "source": [
    "### Histogram Plot"
   ],
   "metadata": {
    "collapsed": false
   }
  },
  {
   "cell_type": "code",
   "source": [
    "# Plot histograms for numerical columns\n",
    "plot_histogram(df, 'Width', title='Histogram of Image Widths')\n",
    "plot_histogram(df, 'Height', title='Histogram of Image Heights')\n",
    "plot_histogram(df, 'Ratio', title='Histogram of Image Ratios')"
   ],
   "metadata": {
    "collapsed": false
   },
   "outputs": [],
   "execution_count": null
  },
  {
   "cell_type": "markdown",
   "source": [
    "### Countplot"
   ],
   "metadata": {
    "collapsed": false
   }
  },
  {
   "cell_type": "code",
   "source": [
    "     # Display all in 1 plot\n",
    "\n",
    "fig, ax = plt.subplots(2, 2, figsize=(10, 10))\n",
    "fig.subplots_adjust(hspace=0.3, wspace=0.7)\n",
    "\n",
    "data_count_plot(df, 'Type', ax=ax[0][0], title='File Types', palette='Set1')\n",
    "data_count_plot(df, 'Mode', ax=ax[0][1], title='Image Modes', palette='pastel')\n",
    "data_count_plot(df, 'Class', ax=ax[1][0], horizontal=True, title='Classes', palette='crest')\n",
    "data_count_plot(df, 'Style', ax=ax[1][1], horizontal=True, title='Styles', palette='flare')\n",
    "\n",
    "fig.suptitle('Raw Dataset Statistics', fontsize=20, fontweight='bold', y=1.0)\n",
    "fig.tight_layout()\n",
    "\n",
    "    # Display individually\n",
    "\n",
    "# cols = ['Type', 'Mode', 'Class']\n",
    "\n",
    "# for col in cols:data_count_plot(df, col, title=col)\n",
    "# data_count_plot(df, 'Style', rotation=45)"
   ],
   "metadata": {
    "collapsed": false
   },
   "outputs": [],
   "execution_count": null
  },
  {
   "cell_type": "code",
   "source": [
    "classes = df['Class'].unique()\n",
    "\n",
    "    # Display all in 1 plot\n",
    "\n",
    "fig, ax = plt.subplots(3, 2, figsize=(10, 15))\n",
    "fig.subplots_adjust(hspace=0.3, wspace=0.7)\n",
    "ax = ax.flatten()\n",
    "\n",
    "for i, class_name in enumerate(classes):\n",
    "    data_count_plot(df[df['Class'] == class_name], col='Style', ax=ax[i], horizontal=True, title=class_name + '_styles_count', palette='crest')\n",
    "\n",
    "    # Display individually\n",
    "\n",
    "# for class_name in classes:\n",
    "#     data_count_plot(df[df['Class'] == class_name], col='Style', horizontal=True, title=class_name + '_styles_count')\""
   ],
   "metadata": {
    "collapsed": false
   },
   "outputs": [],
   "execution_count": null
  },
  {
   "cell_type": "markdown",
   "source": [
    "---\n",
    "## Duplicate identifying"
   ],
   "metadata": {
    "collapsed": false
   }
  },
  {
   "cell_type": "code",
   "source": [
    "duplicates = prepare_duplicates(df)"
   ],
   "metadata": {
    "collapsed": false
   },
   "outputs": [],
   "execution_count": null
  },
  {
   "cell_type": "code",
   "source": [
    "duplicates"
   ],
   "metadata": {
    "collapsed": false
   },
   "outputs": [],
   "execution_count": null
  },
  {
   "cell_type": "code",
   "source": [
    "visualize_duplicates(duplicates[duplicates[\"Duplicate_Type\"] == \"Duplicate\"], title=\"Duplicate images (same Class and same Style)\")"
   ],
   "metadata": {
    "collapsed": false
   },
   "outputs": [],
   "execution_count": null
  },
  {
   "cell_type": "code",
   "source": [
    "visualize_duplicates(duplicates[duplicates[\"Duplicate_Type\"] == \"Similar\"], title=\"Similar images (same Class but different Style)\")"
   ],
   "metadata": {
    "collapsed": false
   },
   "outputs": [],
   "execution_count": null
  },
  {
   "cell_type": "code",
   "source": [
    "visualize_duplicates(duplicates[duplicates[\"Duplicate_Type\"] == \"Inspect\"], title=\"Manual inspection needed (different Class)\")"
   ],
   "metadata": {
    "collapsed": false
   },
   "outputs": [],
   "execution_count": null
  },
  {
   "cell_type": "code",
   "source": [
    "multiple_duplicates = duplicates[duplicates.groupby('Group')['Group'].transform('count') > 3]\n",
    "visualize_duplicates(multiple_duplicates)"
   ],
   "metadata": {
    "collapsed": false
   },
   "outputs": [],
   "execution_count": null
  },
  {
   "cell_type": "markdown",
   "source": [
    "---\n",
    "## Augment"
   ],
   "metadata": {
    "collapsed": false
   }
  },
  {
   "cell_type": "code",
   "source": [
    "augmented = augment_image('../data/raw/Furniture_Data/beds/Asian/19726asian-daybeds.jpg')\n",
    "augmented.show()"
   ],
   "metadata": {
    "collapsed": false
   },
   "outputs": [],
   "execution_count": null
  },
  {
   "cell_type": "markdown",
   "source": [
    "---\n",
    "## Store data"
   ],
   "metadata": {
    "collapsed": false
   }
  },
  {
   "cell_type": "code",
   "source": [
    "# Save to file"
   ],
   "metadata": {
    "collapsed": false
   },
   "outputs": [],
   "execution_count": null
  }
 ],
 "metadata": {
  "kernelspec": {
   "name": "python3",
   "language": "python",
   "display_name": "Python 3 (ipykernel)"
  },
  "language_info": {
   "codemirror_mode": {
    "name": "ipython",
    "version": 3
   },
   "file_extension": ".py",
   "mimetype": "text/x-python",
   "name": "python",
   "nbconvert_exporter": "python",
   "pygments_lexer": "ipython3",
   "version": "3.12.0"
  }
 },
 "nbformat": 4,
 "nbformat_minor": 2
}
