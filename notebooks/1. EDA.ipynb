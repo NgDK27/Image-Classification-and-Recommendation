{
 "cells": [
  {
   "cell_type": "code",
   "execution_count": 1,
   "metadata": {
    "ExecuteTime": {
     "end_time": "2024-04-26T13:38:55.930793Z",
     "start_time": "2024-04-26T13:38:54.897581Z"
    }
   },
   "outputs": [],
   "source": [
    "import os, sys\n",
    "\n",
    "sys.path.append(os.path.abspath(os.path.join('..')))\n",
    "\n",
    "import matplotlib.pyplot as plt\n",
    "\n",
    "from utils.visualization import data_count_plot\n",
    "from utils.duplicates import find_near_duplicates, visualize_duplicates, get_duplicates_to_delete\n",
    "\n",
    "from utils import data"
   ]
  },
  {
   "cell_type": "markdown",
   "metadata": {},
   "source": [
    "### Loading Dataframe"
   ]
  },
  {
   "cell_type": "code",
   "execution_count": 2,
   "metadata": {
    "ExecuteTime": {
     "end_time": "2024-04-26T13:39:19.110207Z",
     "start_time": "2024-04-26T13:38:59.087841Z"
    }
   },
   "outputs": [
    {
     "name": "stdout",
     "output_type": "stream",
     "text": [
      "Loading tables...\n",
      "Loading tables/Eclectic...\n",
      "Loading tables/Midcentury...\n",
      "Loading tables/Craftsman...\n",
      "Loading tables/Victorian...\n",
      "Loading tables/Transitional...\n",
      "Loading tables/Mediterranean...\n",
      "Loading tables/Traditional...\n",
      "Loading tables/Industrial...\n",
      "Loading tables/Farmhouse...\n",
      "Loading tables/Tropical...\n",
      "Loading tables/Southwestern...\n",
      "Loading tables/Beach...\n",
      "Loading tables/Modern...\n",
      "Loading tables/Contemporary...\n",
      "Loading tables/Rustic...\n",
      "Loading tables/Scandinavian...\n",
      "Loading tables/Asian...\n",
      "Loading sofas...\n",
      "Loading sofas/Eclectic...\n",
      "Loading sofas/Midcentury...\n",
      "Loading sofas/Craftsman...\n",
      "Loading sofas/Victorian...\n",
      "Loading sofas/Transitional...\n",
      "Loading sofas/Mediterranean...\n",
      "Loading sofas/Traditional...\n",
      "Loading sofas/Industrial...\n",
      "Loading sofas/Farmhouse...\n",
      "Loading sofas/Tropical...\n",
      "Loading sofas/Southwestern...\n",
      "Loading sofas/Beach...\n",
      "Loading sofas/Modern...\n",
      "Loading sofas/Contemporary...\n",
      "Loading sofas/Rustic...\n",
      "Loading sofas/Scandinavian...\n",
      "Loading sofas/Asian...\n",
      "Loading lamps...\n",
      "Loading lamps/Eclectic...\n",
      "Loading lamps/Midcentury...\n",
      "Loading lamps/Craftsman...\n",
      "Loading lamps/Victorian...\n",
      "Loading lamps/Transitional...\n",
      "Loading lamps/Mediterranean...\n",
      "Loading lamps/Traditional...\n",
      "Loading lamps/Industrial...\n",
      "Loading lamps/Farmhouse...\n",
      "Loading lamps/Tropical...\n",
      "Loading lamps/Southwestern...\n",
      "Loading lamps/Beach...\n",
      "Loading lamps/Modern...\n",
      "Loading lamps/Contemporary...\n",
      "Loading lamps/Rustic...\n",
      "Loading lamps/Scandinavian...\n",
      "Loading lamps/Asian...\n",
      "Loading chairs...\n",
      "Loading chairs/Eclectic...\n",
      "Loading chairs/Midcentury...\n",
      "Loading chairs/Craftsman...\n",
      "Loading chairs/Victorian...\n",
      "Loading chairs/Transitional...\n",
      "Loading chairs/Mediterranean...\n",
      "Loading chairs/Traditional...\n",
      "Loading chairs/Industrial...\n",
      "Loading chairs/Farmhouse...\n",
      "Loading chairs/Tropical...\n",
      "Loading chairs/Southwestern...\n",
      "Loading chairs/Beach...\n",
      "Loading chairs/Modern...\n",
      "Loading chairs/Contemporary...\n",
      "Loading chairs/Rustic...\n",
      "Loading chairs/Scandinavian...\n",
      "Loading chairs/Asian...\n",
      "Loading dressers...\n",
      "Loading dressers/Eclectic...\n",
      "Loading dressers/Midcentury...\n",
      "Loading dressers/Craftsman...\n",
      "Loading dressers/Victorian...\n",
      "Loading dressers/Transitional...\n",
      "Loading dressers/Mediterranean...\n",
      "Loading dressers/Traditional...\n",
      "Loading dressers/Industrial...\n",
      "Loading dressers/Farmhouse...\n",
      "Loading dressers/Tropical...\n",
      "Loading dressers/Southwestern...\n",
      "Loading dressers/Beach...\n",
      "Loading dressers/Modern...\n",
      "Loading dressers/Contemporary...\n",
      "Loading dressers/Rustic...\n",
      "Loading dressers/Scandinavian...\n",
      "Loading dressers/Asian...\n",
      "Loading beds...\n",
      "Loading beds/Eclectic...\n",
      "Loading beds/Midcentury...\n",
      "Loading beds/Craftsman...\n",
      "Loading beds/Victorian...\n",
      "Loading beds/Transitional...\n",
      "Loading beds/Mediterranean...\n",
      "Loading beds/Traditional...\n",
      "Loading beds/Industrial...\n",
      "Loading beds/Farmhouse...\n",
      "Loading beds/Tropical...\n",
      "Loading beds/Southwestern...\n",
      "Loading beds/Beach...\n",
      "Loading beds/Modern...\n",
      "Loading beds/Contemporary...\n",
      "Loading beds/Rustic...\n",
      "Loading beds/Scandinavian...\n",
      "Loading beds/Asian...\n"
     ]
    }
   ],
   "source": [
    "base_path = '../data/raw/Furniture_Data'\n",
    "df = data.load(base_path)"
   ]
  },
  {
   "cell_type": "code",
   "execution_count": null,
   "metadata": {},
   "outputs": [],
   "source": [
    "df.describe()"
   ]
  },
  {
   "cell_type": "code",
   "execution_count": null,
   "metadata": {},
   "outputs": [],
   "source": [
    "df.head()"
   ]
  },
  {
   "cell_type": "markdown",
   "metadata": {},
   "source": [
    "### Histogram Plot"
   ]
  },
  {
   "cell_type": "code",
   "execution_count": null,
   "metadata": {},
   "outputs": [],
   "source": [
    "def plot_histogram(df, column_name, bins=20, title=None):\n",
    "    plt.figure(figsize=(10, 5))\n",
    "    plt.hist(df[column_name], bins=bins, color='skyblue', edgecolor='black')\n",
    "    plt.title(title or f'Distribution of {column_name}')\n",
    "    plt.xlabel(column_name)\n",
    "    plt.ylabel('Frequency')\n",
    "    plt.show()"
   ]
  },
  {
   "cell_type": "code",
   "execution_count": null,
   "metadata": {},
   "outputs": [],
   "source": [
    "# Plot histograms for numerical columns\n",
    "plot_histogram(df, 'Width', title='Histogram of Image Widths')\n",
    "plot_histogram(df, 'Height', title='Histogram of Image Heights')\n",
    "plot_histogram(df, 'Ratio', title='Histogram of Image Ratios')"
   ]
  },
  {
   "cell_type": "code",
   "execution_count": null,
   "metadata": {},
   "outputs": [],
   "source": [
    "fig, ax = plt.subplots(2, 3, figsize=(15, 10))\n",
    "\n",
    "data_count_plot(df, 'Type', ax=ax[0][0], title='File Types', annotate=True, palette='Set2')\n",
    "data_count_plot(df, 'Mode', ax=ax[0][2], title='Image Modes', annotate=True, palette='Accent')\n",
    "data_count_plot(df, 'Class', ax=ax[1][1], horizontal=True, title='Classes', annotate=True, palette='Set1')\n",
    "data_count_plot(df, 'Style', ax=ax[1][2], horizontal=True, title='Styles', annotate=True, palette='Set1')\n",
    "\n",
    "fig.suptitle('Raw Dataset Statistics', fontsize=20, fontweight='bold', y=1.0)\n",
    "fig.tight_layout()"
   ]
  },
  {
   "cell_type": "markdown",
   "source": [
    "---\n",
    "## Duplicate handling"
   ],
   "metadata": {
    "collapsed": false
   }
  },
  {
   "cell_type": "markdown",
   "source": [
    "### Find all duplicates or similar images"
   ],
   "metadata": {
    "collapsed": false
   }
  },
  {
   "cell_type": "code",
   "outputs": [
    {
     "name": "stderr",
     "output_type": "stream",
     "text": [
      "Processing images:  26%|██▌       | 23023/90084 [06:41<36:25, 30.68image/s, Duplicates=1298, Current=../data/raw/Furniture_Data/lamps/Craftsman/26698craftsman-table-lamps.jpg]                              "
     ]
    }
   ],
   "source": [
    "duplicates = find_near_duplicates(df, threshold=1)\n",
    "duplicates"
   ],
   "metadata": {
    "collapsed": false,
    "is_executing": true,
    "ExecuteTime": {
     "start_time": "2024-04-26T13:46:28.741724Z"
    }
   },
   "execution_count": null
  },
  {
   "cell_type": "markdown",
   "source": [
    "### Visualize duplicates images to test"
   ],
   "metadata": {
    "collapsed": false
   }
  },
  {
   "cell_type": "code",
   "outputs": [],
   "source": [
    "visualize_duplicates(duplicates, num_groups=5, start_group=1)"
   ],
   "metadata": {
    "collapsed": false,
    "is_executing": true
   },
   "execution_count": null
  },
  {
   "cell_type": "markdown",
   "source": [
    "### Get duplicates to be deleted \n",
    "\n",
    "- This only includes \"Duplicate\" images (and not \"Similar\" images). \n",
    "- 1 \"Duplicate\" image from a Duplicate Group will be kept (not included in the output of duplicate_to_delete())."
   ],
   "metadata": {
    "collapsed": false
   }
  },
  {
   "cell_type": "code",
   "outputs": [],
   "source": [
    "to_be_deleted = get_duplicates_to_delete(duplicates)\n",
    "to_be_deleted"
   ],
   "metadata": {
    "collapsed": false,
    "is_executing": true
   },
   "execution_count": null
  },
  {
   "cell_type": "markdown",
   "source": [
    "## Delete duplicates"
   ],
   "metadata": {
    "collapsed": false
   }
  },
  {
   "cell_type": "code",
   "outputs": [],
   "source": [
    "# Uncomment below\n",
    "# df = df[~df['Path'].isin(images_to_delete['Path'])]\n"
   ],
   "metadata": {
    "collapsed": false,
    "ExecuteTime": {
     "end_time": "2024-04-26T13:40:26.302672Z",
     "start_time": "2024-04-26T13:40:26.300366Z"
    }
   },
   "execution_count": 8
  }
 ],
 "metadata": {
  "kernelspec": {
   "name": "python3",
   "language": "python",
   "display_name": "Python 3 (ipykernel)"
  },
  "language_info": {
   "codemirror_mode": {
    "name": "ipython",
    "version": 3
   },
   "file_extension": ".py",
   "mimetype": "text/x-python",
   "name": "python",
   "nbconvert_exporter": "python",
   "pygments_lexer": "ipython3",
   "version": "3.12.0"
  }
 },
 "nbformat": 4,
 "nbformat_minor": 2
}
