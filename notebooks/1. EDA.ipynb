{
 "cells": [
  {
   "cell_type": "code",
   "execution_count": 1,
   "metadata": {},
   "outputs": [],
   "source": [
    "import os\n",
    "from PIL import Image\n",
    "import matplotlib.pyplot as plt\n",
    "import seaborn as sns\n",
    "import numpy as np\n",
    "import pandas as pd"
   ]
  },
  {
   "cell_type": "code",
   "execution_count": 2,
   "metadata": {},
   "outputs": [],
   "source": [
    "def get_image_stats(image_path):\n",
    "    with Image.open(image_path) as img:\n",
    "        return img.size, img.mode\n",
    "\n",
    "base_path = '../data/raw/Furniture_Data'\n",
    "\n",
    "image_stats = []\n",
    "for root, dirs, files in os.walk(base_path):\n",
    "    for file in files:\n",
    "        if file.lower().endswith('.jpg'):\n",
    "            image_path = os.path.join(root, file)\n",
    "            image_stats.append(get_image_stats(image_path))  #So, image_stats is a list of tuples (image_size, image_mode)"
   ]
  },
  {
   "cell_type": "code",
   "execution_count": 3,
   "metadata": {},
   "outputs": [
    {
     "name": "stdout",
     "output_type": "stream",
     "text": [
      "Total images: 90082\n",
      "First 5 image stats: [((350, 350), 'RGB'), ((350, 350), 'RGB'), ((350, 350), 'RGB'), ((350, 350), 'RGB'), ((350, 350), 'RGB')]\n"
     ]
    }
   ],
   "source": [
    "print(f\"Total images: {len(image_stats)}\")\n",
    "print(\"First 5 image stats:\", image_stats[:5])"
   ]
  },
  {
   "cell_type": "markdown",
   "metadata": {},
   "source": [
    "### Image Resolution:"
   ]
  },
  {
   "cell_type": "code",
   "execution_count": 4,
   "metadata": {},
   "outputs": [
    {
     "name": "stdout",
     "output_type": "stream",
     "text": [
      "Average resolution: [340.85819587 340.85759641]\n"
     ]
    }
   ],
   "source": [
    "def check_resolution(image_path):\n",
    "    with Image.open(image_path) as img:\n",
    "        return img.size\n",
    "\n",
    "resolutions = [check_resolution(os.path.join(root, file)) \n",
    "               for root, dirs, files in os.walk(base_path)  # base_path is 'Furniture_Data' Folder\n",
    "               for file in files if file.endswith('.jpg')]  # there is no '.png' image file in the dataset\n",
    "print(\"Average resolution:\", np.mean(resolutions, axis=0))"
   ]
  },
  {
   "cell_type": "code",
   "execution_count": null,
   "metadata": {},
   "outputs": [],
   "source": []
  }
 ],
 "metadata": {
  "kernelspec": {
   "display_name": "venv",
   "language": "python",
   "name": "python3"
  },
  "language_info": {
   "codemirror_mode": {
    "name": "ipython",
    "version": 3
   },
   "file_extension": ".py",
   "mimetype": "text/x-python",
   "name": "python",
   "nbconvert_exporter": "python",
   "pygments_lexer": "ipython3",
   "version": "3.11.6"
  }
 },
 "nbformat": 4,
 "nbformat_minor": 2
}
