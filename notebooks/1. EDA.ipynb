{
 "cells": [
  {
   "cell_type": "code",
   "metadata": {
    "collapsed": false
   },
   "source": [
    "import os, sys\n",
    "\n",
    "sys.path.append(os.path.abspath(os.path.join('..')))\n",
    "\n",
    "import matplotlib.pyplot as plt\n",
    "\n",
    "from utils.visualization import data_count_plot\n",
    "from utils.visualization import plot_histogram\n",
    "from utils.duplicates import prepare_duplicates, visualize_duplicates\n",
    "from utils.visualization import display_image\n",
    "from utils.augmentation import augment_image\n",
    "\n",
    "from utils import data"
   ],
   "outputs": [],
   "execution_count": null
  },
  {
   "cell_type": "markdown",
   "metadata": {
    "collapsed": false
   },
   "source": [
    "### Loading Dataframe"
   ]
  },
  {
   "cell_type": "code",
   "metadata": {
    "collapsed": false
   },
   "source": [
    "base_path = '../data/raw/Furniture_Data'\n",
    "df = data.load(base_path)"
   ],
   "outputs": [],
   "execution_count": null
  },
  {
   "cell_type": "code",
   "metadata": {
    "collapsed": false
   },
   "source": [
    "df.describe()"
   ],
   "outputs": [],
   "execution_count": null
  },
  {
   "cell_type": "code",
   "metadata": {
    "collapsed": false
   },
   "source": [
    "df.head()"
   ],
   "outputs": [],
   "execution_count": null
  },
  {
   "cell_type": "markdown",
   "metadata": {
    "collapsed": false
   },
   "source": [
    "### Histogram Plot"
   ]
  },
  {
   "cell_type": "code",
   "metadata": {
    "collapsed": false
   },
   "source": [
    "# Plot histograms for numerical columns\n",
    "plot_histogram(df, 'Width', title='Histogram of Image Widths')\n",
    "plot_histogram(df, 'Height', title='Histogram of Image Heights')\n",
    "plot_histogram(df, 'Ratio', title='Histogram of Image Ratios')"
   ],
   "outputs": [],
   "execution_count": null
  },
  {
   "cell_type": "code",
   "metadata": {
    "collapsed": false
   },
   "source": [
    "# Display all in 1 plot\n",
    "\n",
    "fig, ax = plt.subplots(2, 2, figsize=(10, 10))\n",
    "fig.subplots_adjust(hspace=0.3, wspace=0.7)\n",
    "\n",
    "data_count_plot(df, 'Type', ax=ax[0][0], title='File Types', palette='Set1')\n",
    "data_count_plot(df, 'Mode', ax=ax[0][1], title='Image Modes', palette='pastel')\n",
    "data_count_plot(df, 'Class', ax=ax[1][0], horizontal=True, title='Classes', palette='crest')\n",
    "data_count_plot(df, 'Style', ax=ax[1][1], horizontal=True, title='Styles', palette='flare')\n",
    "\n",
    "fig.suptitle('Raw Dataset Statistics', fontsize=20, fontweight='bold', y=1.0)\n",
    "fig.tight_layout()\n",
    "\n",
    "# Display individually\n",
    "\n",
    "# cols = ['Type', 'Mode', 'Class']\n",
    "\n",
    "# for col in cols:data_count_plot(df, col, title=col)\n",
    "# data_count_plot(df, 'Style', rotation=45)"
   ],
   "outputs": [],
   "execution_count": null
  },
  {
   "cell_type": "code",
   "metadata": {},
   "source": [
    "classes = df['Class'].unique()\n",
    "\n",
    "# Display all in 1 plot\n",
    "\n",
    "fig, ax = plt.subplots(3, 2, figsize=(10, 15))\n",
    "fig.subplots_adjust(hspace=0.3, wspace=0.7)\n",
    "ax = ax.flatten()\n",
    "\n",
    "for i, class_name in enumerate(classes):\n",
    "    data_count_plot(df[df['Class'] == class_name], col='Style', ax=ax[i], horizontal=True, title=class_name + '_styles_count', palette='crest')\n",
    "\n",
    "    # Display individually\n",
    "\n",
    "# for class_name in classes:\n",
    "#     data_count_plot(df[df['Class'] == class_name], col='Style', horizontal=True, title=class_name + '_styles_count')\""
   ],
   "outputs": [],
   "execution_count": null
  },
  {
   "cell_type": "markdown",
   "metadata": {
    "collapsed": false
   },
   "source": [
    "---\n",
    "## Duplicate identifying"
   ]
  },
  {
   "cell_type": "code",
   "metadata": {
    "collapsed": false
   },
   "source": [
    "df_hashed = df.copy() \n",
    "duplicates = prepare_duplicates(df_hashed)"
   ],
   "outputs": [],
   "execution_count": null
  },
  {
   "cell_type": "code",
   "metadata": {
    "collapsed": false
   },
   "source": [
    "duplicates"
   ],
   "outputs": [],
   "execution_count": null
  },
  {
   "cell_type": "code",
   "metadata": {
    "collapsed": false
   },
   "source": [
    "visualize_duplicates(duplicates[duplicates[\"Duplicate_Type\"] == \"Duplicate\"], title=\"Duplicate images (same Class and same Style)\")"
   ],
   "outputs": [],
   "execution_count": null
  },
  {
   "cell_type": "code",
   "metadata": {
    "collapsed": false
   },
   "source": [
    "visualize_duplicates(duplicates[duplicates[\"Duplicate_Type\"] == \"Similar\"], title=\"Similar images (same Class but different Style)\")"
   ],
   "outputs": [],
   "execution_count": null
  },
  {
   "cell_type": "code",
   "metadata": {
    "collapsed": false
   },
   "source": [
    "visualize_duplicates(duplicates[duplicates[\"Duplicate_Type\"] == \"Inspect\"], title=\"Manual inspection needed (different Class)\")"
   ],
   "outputs": [],
   "execution_count": null
  },
  {
   "cell_type": "code",
   "metadata": {
    "collapsed": false
   },
   "source": [
    "multiple_duplicates = duplicates[duplicates.groupby('Group')['Group'].transform('count') > 3]\n",
    "visualize_duplicates(multiple_duplicates)"
   ],
   "outputs": [],
   "execution_count": null
  },
  {
   "cell_type": "markdown",
   "metadata": {
    "collapsed": false
   },
   "source": [
    "---\n",
    "## Augment"
   ]
  },
  {
   "cell_type": "code",
   "metadata": {
    "collapsed": false
   },
   "source": [
    "display_image('beds/Asian/19726asian-daybeds.jpg', base_path='../')"
   ],
   "outputs": [],
   "execution_count": null
  },
  {
   "cell_type": "code",
   "metadata": {
    "collapsed": false
   },
   "source": [
    "augmented = augment_image('../data/raw/Furniture_Data/beds/Asian/19726asian-daybeds.jpg')\n",
    "augmented.show()"
   ],
   "outputs": [],
   "execution_count": null
  },
  {
   "cell_type": "markdown",
   "metadata": {
    "collapsed": false
   },
   "source": [
    "---\n",
    "## Store data"
   ]
  },
  {
   "cell_type": "code",
   "metadata": {
    "collapsed": false
   },
   "source": [
    "# Save to file"
   ],
   "outputs": [],
   "execution_count": null
  },
  {
   "cell_type": "code",
   "metadata": {
    "collapsed": false
   },
   "source": [
    "from pathlib import Path"
   ],
   "outputs": [],
   "execution_count": null
  },
  {
   "cell_type": "code",
   "metadata": {
    "collapsed": false
   },
   "source": [
    "processed_csv_dir = Path('../data/processed/csv')\n",
    "duplicates_dir.mkdir(parents=True, exist_ok=True)"
   ],
   "outputs": [],
   "execution_count": null
  },
  {
   "cell_type": "code",
   "metadata": {
    "collapsed": false
   },
   "source": [
    "duplicates.to_csv(processed_csv_dir / 'duplicates.csv', index=False)"
   ],
   "outputs": [],
   "execution_count": null
  },
  {
   "cell_type": "code",
   "metadata": {
    "collapsed": false
   },
   "source": [
    "df.to_csv(processed_csv_dir / 'df.csv', index=False) "
   ],
   "outputs": [],
   "execution_count": null
  }
 ],
 "metadata": {
  "kernelspec": {
   "display_name": "Python 3 (ipykernel)",
   "language": "python",
   "name": "python3"
  },
  "language_info": {
   "codemirror_mode": {
    "name": "ipython",
    "version": 3
   },
   "file_extension": ".py",
   "mimetype": "text/x-python",
   "name": "python",
   "nbconvert_exporter": "python",
   "pygments_lexer": "ipython3",
   "version": "3.11.6"
  }
 },
 "nbformat": 4,
 "nbformat_minor": 2
}
