{
 "cells": [
  {
   "cell_type": "code",
   "outputs": [],
   "source": [
    "import os, sys\n",
    "\n",
    "sys.path.append(os.path.abspath(os.path.join('..')))\n",
    "\n",
    "import matplotlib.pyplot as plt\n",
    "import seaborn as sns\n",
    "import numpy as np\n",
    "import pandas as pd\n",
    "import imagehash\n",
    "import matplotlib.image as mpimg\n",
    "from utils.augmentation import augment_image\n",
    "from utils.augmentation import flip_image\n",
    "from utils.augmentation import augment_image\n",
    "\n",
    "from utils.visualization import data_count_plot\n",
    "# from utils.duplicates import prepare_duplicates, visualize_duplicates\n",
    "from utils.visualization import plot_histogram\n",
    "from utils.visualization import display_image\n",
    "\n",
    "from utils import data"
   ],
   "metadata": {
    "collapsed": false
   },
   "execution_count": null
  },
  {
   "cell_type": "markdown",
   "source": [
    "### Loading Dataframe"
   ],
   "metadata": {
    "collapsed": false
   }
  },
  {
   "cell_type": "code",
   "outputs": [],
   "source": [
    "base_path = '../data/raw/Furniture_Data'\n",
    "df = data.load(base_path)"
   ],
   "metadata": {
    "collapsed": false
   },
   "execution_count": null
  },
  {
   "cell_type": "code",
   "outputs": [],
   "source": [
    "df.describe()"
   ],
   "metadata": {
    "collapsed": false
   }
  },
  {
   "cell_type": "code",
   "outputs": [],
   "source": [
    "df.head()"
   ],
   "metadata": {
    "collapsed": false
   },
   "execution_count": null
  },
  {
   "cell_type": "markdown",
   "source": [
    "### Histogram Plot"
   ],
   "metadata": {
    "collapsed": false
   }
  },
  {
   "cell_type": "code",
   "outputs": [],
   "source": [
    "def plot_histogram(df, column_name, bins=20, title=None):\n",
    "    plt.figure(figsize=(10, 5))\n",
    "    plt.hist(df[column_name], bins=bins, color='skyblue', edgecolor='black')\n",
    "    plt.title(title or f'Distribution of {column_name}')\n",
    "    plt.xlabel(column_name)\n",
    "    plt.ylabel('Frequency')\n",
    "    plt.show()"
   ],
   "metadata": {
    "collapsed": false
   },
   "execution_count": null
  },
  {
   "cell_type": "code",
   "outputs": [],
   "source": [
    "# Plot histograms for numerical columns\n",
    "plot_histogram(df, 'Width', title='Histogram of Image Widths')\n",
    "plot_histogram(df, 'Height', title='Histogram of Image Heights')\n",
    "plot_histogram(df, 'Ratio', title='Histogram of Image Ratios')"
   ],
   "metadata": {
    "collapsed": false
   },
   "execution_count": null
  },
  {
   "cell_type": "code",
   "outputs": [],
   "source": [
    "    # Display all in 1 plot\n",
    "\n",
    "fig, ax = plt.subplots(2, 2, figsize=(10, 10))\n",
    "\n",
    "data_count_plot(df, 'Type', ax=ax[0][0], title='File Types')\n",
    "data_count_plot(df, 'Mode', ax=ax[0][1], title='Image Modes')\n",
    "data_count_plot(df, 'Class', ax=ax[1][0], horizontal=True, title='Classes')\n",
    "data_count_plot(df, 'Style', ax=ax[1][1], horizontal=True, title='Styles')\n",
    "\n",
    "fig.suptitle('Raw Dataset Statistics', fontsize=20, fontweight='bold', y=1.0)\n",
    "fig.tight_layout()\n",
    "\n",
    "    # Display individually\n",
    "\n",
    "# cols = ['Type', 'Mode', 'Class']\n",
    "# \n",
    "# for col in cols:data_count_plot(df, col, title=col)\n",
    "# data_count_plot(df, 'Style', rotation=45)"
   ],
   "metadata": {
    "collapsed": false
   },
   "execution_count": null
  },
  {
   "cell_type": "code",
   "outputs": [],
   "source": [
    "classes = df['Class'].unique()\n",
    "\n",
    "    # Display all in 1 plot\n",
    "\n",
    "fig, ax = plt.subplots(3, 2, figsize=(10, 10))\n",
    "ax = ax.flatten()\n",
    "\n",
    "for i, class_name in enumerate(classes):\n",
    "    data_count_plot(df[df['Class'] == class_name], col='Style', ax=ax[i], horizontal=True, title=class_name + '_styles_count')\n",
    "\n",
    "    # Display individually\n",
    "\n",
    "# for class_name in classes:\n",
    "#     data_count_plot(df[df['Class'] == class_name], col='Style', horizontal=True, title=class_name + '_styles_count')"
   ],
   "metadata": {
    "collapsed": false
   },
   "execution_count": null
  },
  {
   "cell_type": "code",
   "outputs": [],
   "source": [
    "duplicates = prepare_duplicates(df)"
   ],
   "metadata": {
    "collapsed": false
   }
  },
  {
   "cell_type": "code",
   "outputs": [],
   "source": [
    "duplicates"
   ],
   "metadata": {
    "collapsed": false
   }
  },
  {
   "cell_type": "code",
   "outputs": [],
   "source": [
    "visualize_duplicates(duplicates[duplicates[\"Duplicate_Type\"] == \"Duplicate\"], title=\"Duplicate images (same Class and same Style)\")"
   ],
   "metadata": {
    "collapsed": false
   }
  },
  {
   "cell_type": "code",
   "outputs": [],
   "source": [
    "visualize_duplicates(duplicates[duplicates[\"Duplicate_Type\"] == \"Similar\"], title=\"Similar images (same Class but different Style)\")"
   ],
   "metadata": {
    "collapsed": false
   }
  },
  {
   "cell_type": "code",
   "outputs": [],
   "source": [
    "visualize_duplicates(duplicates[duplicates[\"Duplicate_Type\"] == \"Inspect\"], title=\"Manual inspection needed (different Class)\")"
   ],
   "metadata": {
    "collapsed": false
   }
  },
  {
   "cell_type": "code",
   "outputs": [],
   "source": [
    "multiple_duplicates = duplicates[duplicates.groupby('Group')['Group'].transform('count') > 3]\n",
    "visualize_duplicates(multiple_duplicates)"
   ],
   "metadata": {
    "collapsed": false
   }
  },
  {
   "cell_type": "code",
   "outputs": [],
   "source": [
    "\n",
    "duplicates = find_near_duplicates(df, 1)"
   ],
   "metadata": {
    "collapsed": false
   }
  },
  {
   "cell_type": "code",
   "outputs": [],
   "source": [
    "display_image('beds/Asian/19726asian-daybeds.jpg', base_path='../')"
   ],
   "metadata": {
    "collapsed": false
   }
  },
  {
   "cell_type": "code",
   "outputs": [],
   "source": [
    "augmented = augment_image('../data/raw/Furniture_Data/beds/Asian/19726asian-daybeds.jpg')\n",
    "augmented.show()"
   ],
   "metadata": {
    "collapsed": false
   },
   "execution_count": null
  }
 ],
 "metadata": {
  "kernelspec": {
   "name": "python3",
   "language": "python",
   "display_name": "Python 3 (ipykernel)"
  },
  "language_info": {
   "codemirror_mode": {
    "name": "ipython",
    "version": 3
   },
   "file_extension": ".py",
   "mimetype": "text/x-python",
   "name": "python",
   "nbconvert_exporter": "python",
   "pygments_lexer": "ipython3",
   "version": "3.12.0"
  }
 },
 "nbformat": 4,
 "nbformat_minor": 2
}
