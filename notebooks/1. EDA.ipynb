{
 "cells": [
  {
   "cell_type": "code",
   "outputs": [],
   "source": [
    "import os, sys\n",
    "sys.path.append(os.path.abspath(os.path.join('..')))\n",
    "    \n",
    "from PIL import Image\n",
    "import matplotlib.pyplot as plt\n",
    "import seaborn as sns\n",
    "import numpy as np\n",
    "import pandas as pd\n",
    "import imagehash\n",
    "\n",
    "\n",
    "from utils.visualization import data_count_plot\n",
    "\n",
    "from utils import data"
   ],
   "metadata": {
    "collapsed": false
   }
  },
  {
   "cell_type": "markdown",
   "source": [
    "### Loading Dataframe"
   ],
   "metadata": {
    "collapsed": false
   }
  },
  {
   "cell_type": "code",
   "outputs": [],
   "source": [
    "base_path = '../data/raw/Furniture_Data'\n",
    "df = data.load(base_path)"
   ],
   "metadata": {
    "collapsed": false
   }
  },
  {
   "cell_type": "code",
   "outputs": [],
   "source": [
    "df.describe()"
   ],
   "metadata": {
    "collapsed": false
   }
  },
  {
   "cell_type": "code",
   "outputs": [],
   "source": [
    "df.head()"
   ],
   "metadata": {
    "collapsed": false
   }
  },
  {
   "cell_type": "markdown",
   "source": [
    "### Histogram Plot"
   ],
   "metadata": {
    "collapsed": false
   }
  },
  {
   "cell_type": "code",
   "outputs": [],
   "source": [
    "def plot_histogram(df, column_name, bins=20, title=None):\n",
    "    plt.figure(figsize=(10, 5))\n",
    "    plt.hist(df[column_name], bins=bins, color='skyblue', edgecolor='black')\n",
    "    plt.title(title or f'Distribution of {column_name}')\n",
    "    plt.xlabel(column_name)\n",
    "    plt.ylabel('Frequency')\n",
    "    plt.show()"
   ],
   "metadata": {
    "collapsed": false
   }
  },
  {
   "cell_type": "code",
   "outputs": [],
   "source": [
    "# Plot histograms for numerical columns\n",
    "plot_histogram(df, 'Width', title='Histogram of Image Widths')\n",
    "plot_histogram(df, 'Height', title='Histogram of Image Heights')\n",
    "plot_histogram(df, 'Ratio', title='Histogram of Image Ratios')"
   ],
   "metadata": {
    "collapsed": false
   }
  },
  {
   "cell_type": "code",
   "outputs": [],
   "source": [
    "fig, ax = plt.subplots(2, 2, figsize=(10, 10))\n",
    "\n",
    "data_count_plot(df, 'Type', ax=ax[0][0], title='File Types')\n",
    "data_count_plot(df, 'Mode', ax=ax[0][1], title='Image Modes')\n",
    "data_count_plot(df, 'Class', ax=ax[1][0], horizontal=True, title='Classes')\n",
    "data_count_plot(df, 'Style', ax=ax[1][1], horizontal=True, title='Styles')\n",
    "\n",
    "fig.suptitle('Raw Dataset Statistics', fontsize=20, fontweight='bold', y=1.0)\n",
    "fig.tight_layout()"
   ],
   "metadata": {
    "collapsed": false
   }
  },
  {
   "cell_type": "code",
   "outputs": [],
   "source": [
    "# Alternative count plots\n",
    "\n",
    "# plt.figure(figsize=(10, 10))\n",
    "# data_count_plot(df, 'Type', title='File Types')\n",
    "# plt.show()\n",
    "#\n",
    "# plt.figure(figsize=(10, 10))\n",
    "# data_count_plot(df, 'Mode', title='Image Modes')\n",
    "# plt.show()\n",
    "#\n",
    "# plt.figure(figsize=(10, 10))\n",
    "# data_count_plot(df, 'Class', horizontal=True, title='Classes')\n",
    "# plt.show()\n",
    "#\n",
    "# plt.figure(figsize=(10, 10))\n",
    "# data_count_plot(df, 'Style', horizontal=True, title='Styles')\n",
    "# plt.show()"
   ],
   "metadata": {
    "collapsed": false
   }
  },
  {
   "cell_type": "code",
   "outputs": [],
   "source": [
    "def find_near_duplicates(df, threshold=5):\n",
    "    image_hashes = {}\n",
    "    duplicates = []\n",
    "  \n",
    "    for row in df:\n",
    "        # Calculate perceptual hash of the image\n",
    "        image = Image.open(base_path + '/' + row['Path'])\n",
    "        image_hash = imagehash.phash(image)\n",
    "\n",
    "        print(image_hash)\n",
    "\n",
    "        # Check if a similar hash already exists\n",
    "        # is_duplicate = False\n",
    "        # for existing_hash, paths in image_hashes.items():\n",
    "        #     if image_hash - existing_hash <= threshold:\n",
    "        #         paths.append(file_path)\n",
    "        #         duplicates.append(paths)\n",
    "        #         is_duplicate = True\n",
    "        #         break\n",
    "\n",
    "        # If the image is not a duplicate, add its hash to the dictionary\n",
    "    #     if not is_duplicate:\n",
    "    #         image_hashes[image_hash] = [file_path]\n",
    "\n",
    "    # print(f\"Duplicates found so far: {len(duplicates)}\")\n",
    "    # print(\"------------------------------------\")\n",
    "\n",
    "    return duplicates\n",
    "\n",
    "duplicates = find_near_duplicates(df, 1)"
   ],
   "metadata": {
    "collapsed": false
   }
  }
 ],
 "metadata": {
  "kernelspec": {
   "display_name": "myenv",
   "language": "python",
   "name": "myenv"
  },
  "language_info": {
   "codemirror_mode": {
    "name": "ipython",
    "version": 3
   },
   "file_extension": ".py",
   "mimetype": "text/x-python",
   "name": "python",
   "nbconvert_exporter": "python",
   "pygments_lexer": "ipython3",
   "version": "3.12.0"
  }
 },
 "nbformat": 4,
 "nbformat_minor": 2
}
