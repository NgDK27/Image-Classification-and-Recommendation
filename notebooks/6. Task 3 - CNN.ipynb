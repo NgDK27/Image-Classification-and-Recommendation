{
 "cells": [
  {
   "cell_type": "markdown",
   "id": "77892239db565a9",
   "metadata": {
    "collapsed": false
   },
   "source": [
    "# Task 1 - CNN Model"
   ]
  },
  {
   "cell_type": "markdown",
   "id": "370e79b2072ea917",
   "metadata": {
    "collapsed": false
   },
   "source": [
    "---\n",
    "## Import"
   ]
  },
  {
   "cell_type": "code",
   "id": "65ea48191370c26d",
   "metadata": {
    "collapsed": false,
    "ExecuteTime": {
     "end_time": "2024-05-14T22:02:19.047701Z",
     "start_time": "2024-05-14T22:02:12.444258Z"
    }
   },
   "source": [
    "import pandas as pd\n",
    "import tensorflow as tf\n",
    "from tensorflow.keras import models, layers, losses, Input\n",
    "from keras_tuner import RandomSearch, Objective\n",
    "import matplotlib.pyplot as plt\n",
    "from sklearn.metrics import confusion_matrix\n",
    "import seaborn as sns\n",
    "import numpy as np\n",
    "import sys\n",
    "sys.path.append('../')\n",
    "\n",
    "from utils.tensorflow_preprocessing import prepare_image_target_dataset\n",
    "from keras.callbacks import EarlyStopping, ProgbarLogger"
   ],
   "outputs": [
    {
     "name": "stdout",
     "output_type": "stream",
     "text": [
      "WARNING:tensorflow:From C:\\Users\\Kiet\\DataspellProjects\\Image-Classification-and-Recommendation\\.venv\\Lib\\site-packages\\keras\\src\\losses.py:2976: The name tf.losses.sparse_softmax_cross_entropy is deprecated. Please use tf.compat.v1.losses.sparse_softmax_cross_entropy instead.\n",
      "\n"
     ]
    }
   ],
   "execution_count": 1
  },
  {
   "cell_type": "code",
   "id": "1fc69ca9c55ba0cd",
   "metadata": {
    "collapsed": false,
    "ExecuteTime": {
     "end_time": "2024-05-14T22:02:19.051077Z",
     "start_time": "2024-05-14T22:02:19.048710Z"
    }
   },
   "source": [
    "# %store -r train_X\n",
    "# %store -r val_X\n",
    "# %store -r test_X"
   ],
   "outputs": [],
   "execution_count": 2
  },
  {
   "cell_type": "markdown",
   "id": "305dca1996c5115f",
   "metadata": {
    "collapsed": false
   },
   "source": [
    "---\n",
    "## Prepare dataset"
   ]
  },
  {
   "cell_type": "code",
   "id": "b269aff981dde42c",
   "metadata": {
    "collapsed": false,
    "ExecuteTime": {
     "end_time": "2024-05-14T22:02:19.256325Z",
     "start_time": "2024-05-14T22:02:19.052081Z"
    }
   },
   "source": [
    "save_path = \"../data/processed/csv/\"\n",
    "\n",
    "train_X = pd.read_csv(save_path + 'train_X.csv')\n",
    "val_X = pd.read_csv(save_path + 'val_X.csv')\n",
    "test_X = pd.read_csv(save_path + 'test_X.csv')"
   ],
   "outputs": [],
   "execution_count": 3
  },
  {
   "cell_type": "code",
   "id": "879dbc5d57725e2b",
   "metadata": {
    "collapsed": false,
    "ExecuteTime": {
     "end_time": "2024-05-14T22:02:19.903773Z",
     "start_time": "2024-05-14T22:02:19.257198Z"
    }
   },
   "source": [
    "train_class_ds, class_encoder = prepare_image_target_dataset(train_X, target_name=\"Style\")\n",
    "val_class_ds, _ = prepare_image_target_dataset(val_X, target_name=\"Style\", label_encoder=class_encoder)\n",
    "test_class_ds, _ = prepare_image_target_dataset(test_X, target_name=\"Style\", label_encoder=class_encoder)"
   ],
   "outputs": [
    {
     "name": "stdout",
     "output_type": "stream",
     "text": [
      "WARNING:tensorflow:From C:\\Users\\Kiet\\DataspellProjects\\Image-Classification-and-Recommendation\\.venv\\Lib\\site-packages\\keras\\src\\utils\\version_utils.py:76: The name tf.executing_eagerly_outside_functions is deprecated. Please use tf.compat.v1.executing_eagerly_outside_functions instead.\n",
      "\n"
     ]
    }
   ],
   "execution_count": 4
  },
  {
   "cell_type": "code",
   "id": "3b805d40f3685150",
   "metadata": {
    "collapsed": false,
    "ExecuteTime": {
     "end_time": "2024-05-14T22:02:19.924928Z",
     "start_time": "2024-05-14T22:02:19.904778Z"
    }
   },
   "source": [
    "AUTOTUNE = tf.data.AUTOTUNE\n",
    "\n",
    "train_class_ds = train_class_ds.cache().shuffle(1000).prefetch(buffer_size=AUTOTUNE)\n",
    "val_class_ds = val_class_ds.cache().prefetch(buffer_size=AUTOTUNE)\n",
    "test_class_ds = test_class_ds.cache().prefetch(buffer_size=AUTOTUNE)"
   ],
   "outputs": [],
   "execution_count": 5
  },
  {
   "cell_type": "markdown",
   "id": "d2c4fbd8525dbb14",
   "metadata": {
    "collapsed": false
   },
   "source": [
    "---\n",
    "## Model training"
   ]
  },
  {
   "cell_type": "code",
   "id": "90f84270fb5fc1f6",
   "metadata": {
    "collapsed": false,
    "ExecuteTime": {
     "end_time": "2024-05-14T22:02:19.932007Z",
     "start_time": "2024-05-14T22:02:19.925933Z"
    }
   },
   "source": [
    "# Basic Model Training\n",
    "def create_model():\n",
    "    model = models.Sequential([\n",
    "        Input(shape=(256, 256, 3)),\n",
    "        layers.Conv2D(4, (3, 3), activation='relu'),\n",
    "        layers.MaxPooling2D((2, 2)),\n",
    "        layers.Conv2D(8, (3, 3), activation='relu'),\n",
    "        layers.MaxPooling2D((2, 2)),\n",
    "        layers.Conv2D(16, (3, 3), activation='relu'),\n",
    "        layers.MaxPooling2D((2, 2)),\n",
    "        layers.Conv2D(32, (4, 4), activation='relu'),\n",
    "        layers.MaxPooling2D((2, 2)),\n",
    "        layers.Conv2D(64, (4, 4), activation='relu'),\n",
    "        layers.GlobalMaxPooling2D(),\n",
    "        layers.Dense(64, activation='relu'),\n",
    "        layers.Dropout(0.5, seed=21),\n",
    "        layers.Dense(64, activation='relu'),\n",
    "        layers.Dropout(0.5, seed=21),\n",
    "        layers.Dense(128, activation='relu'),\n",
    "        layers.Dropout(0.5, seed=42),\n",
    "        layers.Dense(128, activation='relu'),\n",
    "        layers.Dense(17, activation='sigmoid')\n",
    "    ])\n",
    "\n",
    "    model.compile(optimizer='adam',\n",
    "                  loss=losses.CategoricalCrossentropy(from_logits=False),\n",
    "                  metrics=['accuracy'])\n",
    "\n",
    "    return model\n"
   ],
   "outputs": [],
   "execution_count": 6
  },
  {
   "cell_type": "code",
   "id": "initial_id",
   "metadata": {
    "collapsed": true,
    "jupyter": {
     "is_executing": true
    },
    "ExecuteTime": {
     "start_time": "2024-05-14T22:02:19.933013Z"
    }
   },
   "source": [
    "# Train the model\n",
    "early_stopping = EarlyStopping(monitor='accuracy', patience=5, restore_best_weights=True)\n",
    "CNN_model = create_model()\n",
    "epochs = 50\n",
    "history = CNN_model.fit(train_class_ds, epochs=epochs, batch_size=32, validation_data=val_class_ds, callbacks=[early_stopping, ProgbarLogger()])"
   ],
   "outputs": [
    {
     "name": "stdout",
     "output_type": "stream",
     "text": [
      "WARNING:tensorflow:From C:\\Users\\Kiet\\DataspellProjects\\Image-Classification-and-Recommendation\\.venv\\Lib\\site-packages\\keras\\src\\layers\\pooling\\max_pooling2d.py:161: The name tf.nn.max_pool is deprecated. Please use tf.nn.max_pool2d instead.\n",
      "\n",
      "WARNING:tensorflow:From C:\\Users\\Kiet\\DataspellProjects\\Image-Classification-and-Recommendation\\.venv\\Lib\\site-packages\\keras\\src\\optimizers\\__init__.py:309: The name tf.train.Optimizer is deprecated. Please use tf.compat.v1.train.Optimizer instead.\n",
      "\n",
      "Epoch 1/50\n",
      "WARNING:tensorflow:From C:\\Users\\Kiet\\DataspellProjects\\Image-Classification-and-Recommendation\\.venv\\Lib\\site-packages\\keras\\src\\utils\\tf_utils.py:492: The name tf.ragged.RaggedTensorValue is deprecated. Please use tf.compat.v1.ragged.RaggedTensorValue instead.\n",
      "\n",
      "WARNING:tensorflow:From C:\\Users\\Kiet\\DataspellProjects\\Image-Classification-and-Recommendation\\.venv\\Lib\\site-packages\\keras\\src\\engine\\base_layer_utils.py:384: The name tf.executing_eagerly_outside_functions is deprecated. Please use tf.compat.v1.executing_eagerly_outside_functions instead.\n",
      "\n"
     ]
    }
   ],
   "execution_count": null
  },
  {
   "cell_type": "code",
   "id": "457665835372a28b",
   "metadata": {
    "collapsed": false,
    "jupyter": {
     "is_executing": true
    }
   },
   "source": [
    "# Evaluate the model\n",
    "test_loss, test_accuracy = CNN_model.evaluate(test_class_ds)\n",
    "print(f'Test Loss: {test_loss:.4f}')\n",
    "print(f'Test Accuracy: {test_accuracy:.4f}')"
   ],
   "outputs": [],
   "execution_count": null
  },
  {
   "cell_type": "code",
   "id": "e5beaab2444f9017",
   "metadata": {
    "collapsed": false,
    "jupyter": {
     "is_executing": true
    }
   },
   "source": [
    "# Visualize the training history of the basic model\n",
    "def plot_training_history(history):\n",
    "    plt.figure(figsize=(10, 6))\n",
    "    plt.plot(history.history['accuracy'], label='Training Accuracy')\n",
    "    plt.plot(history.history['val_accuracy'], label='Validation Accuracy')\n",
    "    plt.xlabel('Epoch')\n",
    "    plt.ylabel('Accuracy')\n",
    "    plt.legend()\n",
    "    plt.title('Training History')\n",
    "    plt.show()\n",
    "\n",
    "plot_training_history(history)"
   ],
   "outputs": [],
   "execution_count": null
  },
  {
   "cell_type": "markdown",
   "id": "9b7befa984677970",
   "metadata": {
    "collapsed": false
   },
   "source": [
    "---\n",
    "## Optimization"
   ]
  },
  {
   "cell_type": "code",
   "id": "dd71f1d1d9f3148a",
   "metadata": {
    "collapsed": false,
    "jupyter": {
     "is_executing": true
    }
   },
   "source": [
    "# Hyperparameter Tuning\n",
    "def build_model(hp):\n",
    "    model = models.Sequential([\n",
    "        Input(shape=(256, 256, 3)),\n",
    "        layers.Conv2D(4, (3, 3), activation='relu'),\n",
    "        layers.MaxPooling2D((2, 2)),\n",
    "        layers.Conv2D(8, (3, 3), activation='relu'),\n",
    "        layers.MaxPooling2D((2, 2)),\n",
    "        layers.Conv2D(16, (3, 3), activation='relu'),\n",
    "        layers.MaxPooling2D((2, 2)),\n",
    "        layers.Conv2D(32, (4, 4), activation='relu'),\n",
    "        layers.MaxPooling2D((2, 2)),\n",
    "        layers.Conv2D(64, (4, 4), activation='relu'),\n",
    "        layers.GlobalMaxPooling2D(),\n",
    "        layers.Dense(hp.Choice('dense1_units', [128, 256]), activation='relu'),\n",
    "        layers.Dropout(hp.Choice('dropout1_rate', [0.3, 0.5])),\n",
    "        layers.Dense(hp.Choice('dense1_units', [64, 128]), activation='relu'),\n",
    "        layers.Dropout(hp.Choice('dropout1_rate', [0.3, 0.5])),\n",
    "        layers.Dense(hp.Choice('dense2_units', [32, 64, 128]), activation='relu'),\n",
    "        layers.Dropout(hp.Choice('dropout2_rate', [0.3, 0.5])),\n",
    "        layers.Dense(128, activation='relu'),\n",
    "        layers.Dense(17, activation='sigmoid')\n",
    "    ])\n",
    "\n",
    "    model.compile(optimizer=hp.Choice('optimizer', ['adam', 'rmsprop']),\n",
    "                  loss=losses.CategoricalCrossentropy(from_logits=False),\n",
    "                  metrics=['accuracy'])\n",
    "\n",
    "    return model"
   ],
   "outputs": [],
   "execution_count": null
  },
  {
   "metadata": {
    "jupyter": {
     "is_executing": true
    }
   },
   "cell_type": "code",
   "source": "",
   "id": "ed1144eb1f6133a3",
   "outputs": [],
   "execution_count": null
  },
  {
   "cell_type": "code",
   "id": "e50c5f784bcb7a57",
   "metadata": {
    "collapsed": false,
    "jupyter": {
     "is_executing": true
    }
   },
   "source": [
    "tuner = RandomSearch(\n",
    "    build_model,\n",
    "    objective=Objective('val_accuracy', direction='max'),\n",
    "    max_trials=4,\n",
    "    executions_per_trial=1,\n",
    "    directory='tuner_results',\n",
    "    project_name='basic_tuning'\n",
    ")"
   ],
   "outputs": [],
   "execution_count": null
  },
  {
   "cell_type": "code",
   "id": "a0f6c164b834c487",
   "metadata": {
    "collapsed": false,
    "jupyter": {
     "is_executing": true
    }
   },
   "source": [
    "tuner.search_space_summary()"
   ],
   "outputs": [],
   "execution_count": null
  },
  {
   "cell_type": "code",
   "id": "a44467a05e80fcbb",
   "metadata": {
    "collapsed": false,
    "jupyter": {
     "is_executing": true
    }
   },
   "source": [
    "tuner.search(train_class_ds,\n",
    "             epochs=10,\n",
    "             validation_data=val_class_ds)\n",
    "\n",
    "best_model = tuner.get_best_models(num_models=1)[0]\n",
    "best_hyperparameters = tuner.get_best_hyperparameters(num_trials=1)[0]"
   ],
   "outputs": [],
   "execution_count": null
  },
  {
   "cell_type": "code",
   "id": "f6073dbbf4f43eb7",
   "metadata": {
    "collapsed": false,
    "jupyter": {
     "is_executing": true
    }
   },
   "source": [
    "# Evaluate the best model\n",
    "test_loss, test_accuracy = best_model.evaluate(test_class_ds)\n",
    "print(f'Best Model Test Loss: {test_loss:.4f}')\n",
    "print(f'Best Model Test Accuracy: {test_accuracy:.4f}')"
   ],
   "outputs": [],
   "execution_count": null
  },
  {
   "cell_type": "code",
   "id": "dbf8732992c1e949",
   "metadata": {
    "collapsed": false,
    "jupyter": {
     "is_executing": true
    }
   },
   "source": [
    "# Compare the performance of the basic model and the best model\n",
    "models = ['Basic Model', 'Tuned Model']\n",
    "accuracies = [test_accuracy, test_accuracy]\n",
    "\n",
    "plt.figure(figsize=(8, 6))\n",
    "plt.bar(models, accuracies)\n",
    "plt.xlabel('Model')\n",
    "plt.ylabel('Accuracy')\n",
    "plt.title('Model Performance Comparison')\n",
    "plt.show()\n",
    "\n",
    "# Visualize the confusion matrix\n",
    "def plot_confusion_matrix(model, test_data, label_encoder):\n",
    "    y_true = []\n",
    "    y_pred = []\n",
    "    for images, labels in test_data:\n",
    "        y_true.extend(labels.numpy())\n",
    "        predictions = model.predict(images)\n",
    "        y_pred.extend(np.argmax(predictions, axis=1))\n",
    "\n",
    "    cm = confusion_matrix(y_true, y_pred)\n",
    "\n",
    "    # Get the decoded class labels\n",
    "    class_labels = label_encoder.inverse_transform(np.unique(y_true))\n",
    "\n",
    "    plt.figure(figsize=(8, 6))\n",
    "    sns.heatmap(cm, annot=True, fmt='d', cmap='Blues', xticklabels=class_labels, yticklabels=class_labels)\n",
    "    plt.xlabel('Predicted Label')\n",
    "    plt.ylabel('True Label')\n",
    "    plt.title('Confusion Matrix')\n",
    "    plt.show()\n",
    "    \n",
    "plot_confusion_matrix(best_model, test_class_ds,class_encoder)"
   ],
   "outputs": [],
   "execution_count": null
  },
  {
   "cell_type": "markdown",
   "id": "85c82873769761d4",
   "metadata": {
    "collapsed": false
   },
   "source": [
    "---\n",
    "## Testing"
   ]
  },
  {
   "cell_type": "code",
   "id": "19191caf1bb49f67",
   "metadata": {
    "collapsed": false,
    "jupyter": {
     "is_executing": true
    }
   },
   "source": [
    "def visualize_predictions(model, test_data, label_encoder, num_samples=5):\n",
    "    for images, labels in test_data.take(1):\n",
    "        predictions = model.predict(images)\n",
    "        predicted_labels = np.argmax(predictions, axis=1)\n",
    "\n",
    "        plt.figure(figsize=(15, 12))\n",
    "        for i in range(num_samples):\n",
    "            plt.subplot(1, num_samples, i+1)\n",
    "            plt.imshow((images[i].numpy() * 255).astype('uint8'))\n",
    "            true_label = label_encoder.inverse_transform([labels[i]])[0]\n",
    "            pred_label = label_encoder.inverse_transform([predicted_labels[i]])[0]\n",
    "            plt.title(f\"True: {true_label}, Pred: {pred_label}\")\n",
    "            plt.axis('off')\n",
    "        plt.tight_layout()\n",
    "        plt.show()\n",
    "\n",
    "visualize_predictions(best_model, test_class_ds, class_encoder)"
   ],
   "outputs": [],
   "execution_count": null
  },
  {
   "cell_type": "markdown",
   "id": "fccf00de18d5fce5",
   "metadata": {
    "collapsed": false
   },
   "source": [
    "---\n",
    "## Save model"
   ]
  },
  {
   "cell_type": "code",
   "id": "a6d9c214cb902bb3",
   "metadata": {
    "collapsed": false,
    "jupyter": {
     "is_executing": true
    }
   },
   "source": [
    "from pathlib import Path\n",
    "\n",
    "# Create paths\n",
    "path = '../data/models'\n",
    "processed_model_dir = Path(path)\n",
    "processed_model_dir.mkdir(parents=True, exist_ok=True)\n",
    "\n",
    "best_model.save(path + '/' + 'task-3-CNN.keras')"
   ],
   "outputs": [],
   "execution_count": null
  }
 ],
 "metadata": {
  "kernelspec": {
   "display_name": "Python 3",
   "language": "python",
   "name": "python3"
  },
  "language_info": {
   "codemirror_mode": {
    "name": "ipython",
    "version": 2
   },
   "file_extension": ".py",
   "mimetype": "text/x-python",
   "name": "python",
   "nbconvert_exporter": "python",
   "pygments_lexer": "ipython2",
   "version": "2.7.6"
  }
 },
 "nbformat": 4,
 "nbformat_minor": 5
}
