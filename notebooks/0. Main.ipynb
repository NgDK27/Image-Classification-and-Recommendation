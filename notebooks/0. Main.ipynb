{
 "cells": [
  {
   "cell_type": "markdown",
   "source": [
    "# Conveniently run all notebooks in order\n"
   ],
   "metadata": {
    "collapsed": false
   },
   "id": "5fc0688e9c512e49"
  },
  {
   "cell_type": "code",
   "execution_count": null,
   "id": "initial_id",
   "metadata": {
    "collapsed": true
   },
   "outputs": [],
   "source": [
    "%run \"1. EDA.ipynb\""
   ]
  },
  {
   "cell_type": "code",
   "outputs": [],
   "source": [
    "%run \"2. Preprocessing.ipynb\""
   ],
   "metadata": {
    "collapsed": false
   },
   "id": "19d296e45edf944c",
   "execution_count": null
  },
  {
   "cell_type": "code",
   "outputs": [],
   "source": [
    "%run \"3. Task 1 - ANN.ipynb\""
   ],
   "metadata": {
    "collapsed": false
   },
   "id": "a79d3a0bcb2e9a86",
   "execution_count": null
  },
  {
   "cell_type": "code",
   "outputs": [],
   "source": [
    "%run \"4. Task 1 - CNN.ipynb\""
   ],
   "metadata": {
    "collapsed": false
   },
   "id": "6b40460de675dcff",
   "execution_count": null
  },
  {
   "cell_type": "code",
   "outputs": [],
   "source": [
    "%run \"5. Recommend - Class.ipynb\""
   ],
   "metadata": {
    "collapsed": false
   },
   "id": "4bcad0ce8f4cf403"
  },
  {
   "cell_type": "code",
   "outputs": [],
   "source": [
    "%run \"6. Task 3 - CNN.ipynb\""
   ],
   "metadata": {
    "collapsed": false
   },
   "id": "ff9f6ab9edeaf77c"
  },
  {
   "cell_type": "code",
   "outputs": [],
   "source": [
    "%run \"7. Recommend - Class & Style.ipynb\""
   ],
   "metadata": {
    "collapsed": false
   },
   "id": "72cf640ddb53e078"
  },
  {
   "cell_type": "code",
   "outputs": [],
   "source": [],
   "metadata": {
    "collapsed": false
   },
   "id": "82f560ed989d8275"
  }
 ],
 "metadata": {
  "kernelspec": {
   "display_name": "Python 3",
   "language": "python",
   "name": "python3"
  },
  "language_info": {
   "codemirror_mode": {
    "name": "ipython",
    "version": 2
   },
   "file_extension": ".py",
   "mimetype": "text/x-python",
   "name": "python",
   "nbconvert_exporter": "python",
   "pygments_lexer": "ipython2",
   "version": "2.7.6"
  }
 },
 "nbformat": 4,
 "nbformat_minor": 5
}
