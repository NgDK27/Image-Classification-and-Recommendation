{
 "cells": [
  {
   "cell_type": "code",
   "id": "initial_id",
   "metadata": {
    "collapsed": true,
    "ExecuteTime": {
     "end_time": "2024-05-12T21:40:08.446190Z",
     "start_time": "2024-05-12T21:40:08.441565Z"
    }
   },
   "source": [
    "import keras\n",
    "import numpy as np\n",
    "import tensorflow as tf\n",
    "from keras.src.optimizers import Adam\n",
    "from keras.src.layers import Dense\n",
    "from keras.src.layers import Flatten\n",
    "from keras.src.optimizers import RMSprop\n",
    "from keras import Sequential\n",
    "from scikeras.wrappers import KerasClassifier\n",
    "from sklearn.model_selection import GridSearchCV\n",
    "from keras.src.layers import Dropout\n",
    "from keras.src.layers import BatchNormalization\n",
    "import pandas as pd\n",
    "from utils.tensorflow_preprocessing import prepare_image_dataset\n",
    "from keras.src.callbacks import ProgbarLogger"
   ],
   "outputs": [],
   "execution_count": 30
  },
  {
   "metadata": {
    "ExecuteTime": {
     "end_time": "2024-05-12T19:51:00.439005Z",
     "start_time": "2024-05-12T19:51:00.288312Z"
    }
   },
   "cell_type": "code",
   "source": [
    "# Load dataset\n",
    "train_df = pd.read_csv('../data/processed/csv/train_df.csv')\n",
    "val_df = pd.read_csv('../data/processed/csv/val_df.csv')\n",
    "test_df = pd.read_csv('../data/processed/csv/test_df.csv')"
   ],
   "id": "e101b837a206486a",
   "outputs": [],
   "execution_count": 3
  },
  {
   "metadata": {
    "ExecuteTime": {
     "end_time": "2024-05-12T19:51:01.968535Z",
     "start_time": "2024-05-12T19:51:01.529879Z"
    }
   },
   "cell_type": "code",
   "source": [
    "train_dataset, label_encoder = prepare_image_dataset(train_df, img_height=256, img_width=256, batch_size=32)\n",
    "val_dataset, _ = prepare_image_dataset(val_df, img_height=256, img_width=256, batch_size=32, label_encoder=label_encoder)\n",
    "test_dataset, _ = prepare_image_dataset(test_df, img_height=256, img_width=256, batch_size=32, label_encoder=label_encoder)"
   ],
   "id": "6e46417b462490f0",
   "outputs": [],
   "execution_count": 4
  },
  {
   "metadata": {
    "ExecuteTime": {
     "end_time": "2024-05-12T19:51:03.066498Z",
     "start_time": "2024-05-12T19:51:03.063619Z"
    }
   },
   "cell_type": "code",
   "source": [
    "# Define input shape and number of classes\n",
    "INPUT_SHAPE = (256, 256, 3)  # Example input shape (image dimensions and channels)\n",
    "NUM_CLASSES = 6  # Number of output classes (furniture types)"
   ],
   "id": "a7aeacb511d2aade",
   "outputs": [],
   "execution_count": 5
  },
  {
   "metadata": {
    "ExecuteTime": {
     "end_time": "2024-05-12T19:15:10.277409Z",
     "start_time": "2024-05-12T19:15:10.273314Z"
    }
   },
   "cell_type": "code",
   "source": [
    "# Define hyperparameter grid\n",
    "param_grid = {\n",
    "    'epochs': [10, 20],\n",
    "    'batch_size': [32, 64],\n",
    "    'optimizer': [Adam(0.001), Adam(0.01)]\n",
    "}"
   ],
   "id": "3b39e9570db0d245",
   "outputs": [],
   "execution_count": 5
  },
  {
   "metadata": {
    "ExecuteTime": {
     "end_time": "2024-05-12T21:40:22.796462Z",
     "start_time": "2024-05-12T21:40:22.788698Z"
    }
   },
   "cell_type": "code",
   "source": [
    "from keras import Input\n",
    "\n",
    "\n",
    "# Define base model\n",
    "def create_model(num_hidden_layers=2, num_neuron_first_layer=256, num_hidden_neurons=64, optimizer=Adam(0.001)):\n",
    "    model = Sequential()\n",
    "    model.add(Input(shape=INPUT_SHAPE))\n",
    "    model.add(Flatten()),\n",
    "    model.add(Dense(num_neuron_first_layer, activation='relu'))\n",
    "    model.add(BatchNormalization())\n",
    "    model.add(Dropout(rate=0.3))\n",
    "    for _ in range(num_hidden_layers):\n",
    "        model.add(Dense(num_hidden_neurons, activation='relu'))\n",
    "        model.add(BatchNormalization())\n",
    "        model.add(Dropout(rate=0.2))\n",
    "    model.add(Dense(NUM_CLASSES, activation='softmax'))\n",
    "    model.compile(optimizer, loss='sparse_categorical_crossentropy', metrics=['accuracy'])\n",
    "    return model"
   ],
   "id": "badd37905195b611",
   "outputs": [],
   "execution_count": 32
  },
  {
   "metadata": {
    "ExecuteTime": {
     "end_time": "2024-05-12T21:40:24.528027Z",
     "start_time": "2024-05-12T21:40:23.146679Z"
    }
   },
   "cell_type": "code",
   "source": [
    "model1 = create_model(num_hidden_layers=2, num_neuron_first_layer=128, num_hidden_neurons=32, optimizer=Adam(0.001))\n",
    "model2 = create_model(num_hidden_layers=2, num_neuron_first_layer=256, num_hidden_neurons=128, optimizer=Adam(0.001))\n",
    "model3 = create_model(num_hidden_layers=2, num_neuron_first_layer=256, num_hidden_neurons=128, optimizer=RMSprop(0.001))\n",
    "model4 = create_model(num_hidden_layers=3, num_neuron_first_layer=128, num_hidden_neurons=32, optimizer=Adam(0.001))\n",
    "model5 = create_model(num_hidden_layers=3, num_neuron_first_layer=256, num_hidden_neurons=64, optimizer=Adam(0.001))\n",
    "model6 = create_model(num_hidden_layers=3, num_neuron_first_layer=256, num_hidden_neurons=64, optimizer=RMSprop(0.001))"
   ],
   "id": "d618609965fafd6d",
   "outputs": [],
   "execution_count": 33
  },
  {
   "metadata": {},
   "cell_type": "code",
   "outputs": [],
   "execution_count": null,
   "source": [
    "history1 = model1.fit(train_dataset, epochs=10, batch_size=32, callbacks=[ProgbarLogger()])\n",
    "history2 = model1.fit(train_dataset, epochs=10, batch_size=32, callbacks=[ProgbarLogger()])\n",
    "history3 = model1.fit(train_dataset, epochs=10, batch_size=32, callbacks=[ProgbarLogger()])\n",
    "history4 = model1.fit(train_dataset, epochs=10, batch_size=32, callbacks=[ProgbarLogger()])\n",
    "history5 = model1.fit(train_dataset, epochs=10, batch_size=32, callbacks=[ProgbarLogger()])\n",
    "history6 = model1.fit(train_dataset, epochs=10, batch_size=32, callbacks=[ProgbarLogger()])"
   ],
   "id": "3aa0b403342ff558"
  },
  {
   "metadata": {
    "ExecuteTime": {
     "end_time": "2024-05-12T21:40:12.252021Z",
     "start_time": "2024-05-12T21:40:12.157508Z"
    }
   },
   "cell_type": "code",
   "source": [
    "model = keras.Sequential([\n",
    "    Flatten(input_shape=INPUT_SHAPE),\n",
    "    Dense(128, activation='relu'),\n",
    "    BatchNormalization(),\n",
    "    Dropout(rate=0.2),\n",
    "    Dense(64, activation='relu'),\n",
    "    BatchNormalization(),\n",
    "    Dropout(rate=0.2),\n",
    "    Dense(64, activation='relu'),\n",
    "    BatchNormalization(),\n",
    "    Dropout(rate=0.2),\n",
    "    Dense(6, activation='softmax') \n",
    "])\n",
    "model.compile(optimizer=Adam(0.001), loss='sparse_categorical_crossentropy', metrics=['accuracy'])"
   ],
   "id": "2f855d46e938f96f",
   "outputs": [
    {
     "name": "stderr",
     "output_type": "stream",
     "text": [
      "C:\\Users\\Kiet\\DataspellProjects\\Image-Classification-and-Recommendation\\venv\\Lib\\site-packages\\keras\\src\\layers\\reshaping\\flatten.py:37: UserWarning: Do not pass an `input_shape`/`input_dim` argument to a layer. When using Sequential models, prefer using an `Input(shape)` object as the first layer in the model instead.\n",
      "  super().__init__(**kwargs)\n"
     ]
    }
   ],
   "execution_count": 31
  },
  {
   "metadata": {
    "ExecuteTime": {
     "end_time": "2024-05-12T21:33:33.894051Z",
     "start_time": "2024-05-12T20:05:27.695853Z"
    }
   },
   "cell_type": "code",
   "source": "history = model.fit(train_dataset, epochs=10, batch_size=32, callbacks=[ProgbarLogger()])",
   "id": "4fae6fc5f56249bc",
   "outputs": [
    {
     "name": "stdout",
     "output_type": "stream",
     "text": [
      "Epoch 1/10\n",
      "\u001B[1m1690/1690\u001B[0m \u001B[32m━━━━━━━━━━━━━━━━━━━━\u001B[0m\u001B[37m\u001B[0m \u001B[1m550s\u001B[0m 325ms/step - accuracy: 0.6508 - loss: 1.0177\n",
      "Epoch 2/10\n",
      "\u001B[1m1690/1690\u001B[0m \u001B[32m━━━━━━━━━━━━━━━━━━━━\u001B[0m\u001B[37m\u001B[0m \u001B[1m530s\u001B[0m 313ms/step - accuracy: 0.7791 - loss: 0.6315\n",
      "Epoch 3/10\n",
      "\u001B[1m1690/1690\u001B[0m \u001B[32m━━━━━━━━━━━━━━━━━━━━\u001B[0m\u001B[37m\u001B[0m \u001B[1m545s\u001B[0m 322ms/step - accuracy: 0.8012 - loss: 0.5759\n",
      "Epoch 4/10\n",
      "\u001B[1m1690/1690\u001B[0m \u001B[32m━━━━━━━━━━━━━━━━━━━━\u001B[0m\u001B[37m\u001B[0m \u001B[1m554s\u001B[0m 328ms/step - accuracy: 0.8098 - loss: 0.5512\n",
      "Epoch 5/10\n",
      "\u001B[1m1690/1690\u001B[0m \u001B[32m━━━━━━━━━━━━━━━━━━━━\u001B[0m\u001B[37m\u001B[0m \u001B[1m497s\u001B[0m 294ms/step - accuracy: 0.8201 - loss: 0.5252\n",
      "Epoch 6/10\n",
      "\u001B[1m1690/1690\u001B[0m \u001B[32m━━━━━━━━━━━━━━━━━━━━\u001B[0m\u001B[37m\u001B[0m \u001B[1m495s\u001B[0m 293ms/step - accuracy: 0.8236 - loss: 0.5158\n",
      "Epoch 7/10\n",
      "\u001B[1m1690/1690\u001B[0m \u001B[32m━━━━━━━━━━━━━━━━━━━━\u001B[0m\u001B[37m\u001B[0m \u001B[1m556s\u001B[0m 329ms/step - accuracy: 0.8350 - loss: 0.4930\n",
      "Epoch 8/10\n",
      "\u001B[1m1690/1690\u001B[0m \u001B[32m━━━━━━━━━━━━━━━━━━━━\u001B[0m\u001B[37m\u001B[0m \u001B[1m574s\u001B[0m 340ms/step - accuracy: 0.8411 - loss: 0.4717\n",
      "Epoch 9/10\n",
      "\u001B[1m1690/1690\u001B[0m \u001B[32m━━━━━━━━━━━━━━━━━━━━\u001B[0m\u001B[37m\u001B[0m \u001B[1m506s\u001B[0m 299ms/step - accuracy: 0.8403 - loss: 0.4694\n",
      "Epoch 10/10\n",
      "\u001B[1m1690/1690\u001B[0m \u001B[32m━━━━━━━━━━━━━━━━━━━━\u001B[0m\u001B[37m\u001B[0m \u001B[1m478s\u001B[0m 283ms/step - accuracy: 0.8469 - loss: 0.4552\n"
     ]
    }
   ],
   "execution_count": 23
  },
  {
   "metadata": {
    "ExecuteTime": {
     "end_time": "2024-05-12T19:20:04.461083Z",
     "start_time": "2024-05-12T19:20:04.457450Z"
    }
   },
   "cell_type": "code",
   "source": [
    "# Create model estimator\n",
    "model_estimator = KerasClassifier(build_fn=create_model, verbose=0)"
   ],
   "id": "1bf59bad62fa35a5",
   "outputs": [],
   "execution_count": 12
  },
  {
   "metadata": {
    "ExecuteTime": {
     "end_time": "2024-05-12T19:20:05.159694Z",
     "start_time": "2024-05-12T19:20:05.154542Z"
    }
   },
   "cell_type": "code",
   "source": [
    "# Perform randomized search using the estimator\n",
    "grid_search = GridSearchCV(estimator=model_estimator, param_grid=param_grid, cv=3, scoring='accuracy', verbose=2, n_jobs=6)"
   ],
   "id": "609e39fc80e88352",
   "outputs": [],
   "execution_count": 13
  },
  {
   "metadata": {
    "ExecuteTime": {
     "end_time": "2024-05-12T19:15:12.174272Z",
     "start_time": "2024-05-12T19:15:10.288695Z"
    }
   },
   "cell_type": "code",
   "source": [
    "def extract_features_labels(dataset):\n",
    "    X_batches = []\n",
    "    Y_batches = []\n",
    "\n",
    "    # Iterate over batches in the dataset\n",
    "    for batch in dataset:\n",
    "        X_batch = batch[0].numpy()  # Extract features (X) from the batch\n",
    "        Y_batch = batch[1].numpy()  # Extract labels (Y) from the batch\n",
    "\n",
    "        X_batches.append(X_batch)\n",
    "        Y_batches.append(Y_batch)\n",
    "\n",
    "    # Concatenate batches to form the complete arrays\n",
    "    X = np.concatenate(X_batches, axis=0)\n",
    "    Y = np.concatenate(Y_batches, axis=0)\n",
    "\n",
    "    return X, Y\n",
    "\n",
    "# Extract features (X) and labels (y) for train, val, and test datasets\n",
    "train_X, train_Y = extract_features_labels(train_dataset)"
   ],
   "id": "1fe6e76ac211aacd",
   "outputs": [],
   "execution_count": 9
  },
  {
   "metadata": {
    "ExecuteTime": {
     "end_time": "2024-05-12T19:22:17.930071Z",
     "start_time": "2024-05-12T19:20:11.314282Z"
    }
   },
   "cell_type": "code",
   "source": "grid_result = grid_search.fit(train_X, train_Y, verbose=2)",
   "id": "d3ea52a6a3db07e7",
   "outputs": [
    {
     "name": "stdout",
     "output_type": "stream",
     "text": [
      "Fitting 3 folds for each of 4 candidates, totalling 12 fits\n"
     ]
    },
    {
     "ename": "ValueError",
     "evalue": "\nAll the 12 fits failed.\nIt is very likely that your model is misconfigured.\nYou can try to debug the error by setting error_score='raise'.\n\nBelow are more details about the failures:\n--------------------------------------------------------------------------------\n12 fits failed with the following error:\nTraceback (most recent call last):\n  File \"C:\\Users\\Kiet\\DataspellProjects\\Image-Classification-and-Recommendation\\venv\\Lib\\site-packages\\sklearn\\model_selection\\_validation.py\", line 895, in _fit_and_score\n    estimator.fit(X_train, y_train, **fit_params)\n  File \"C:\\Users\\Kiet\\DataspellProjects\\Image-Classification-and-Recommendation\\venv\\Lib\\site-packages\\scikeras\\wrappers.py\", line 1501, in fit\n    super().fit(X=X, y=y, sample_weight=sample_weight, **kwargs)\n  File \"C:\\Users\\Kiet\\DataspellProjects\\Image-Classification-and-Recommendation\\venv\\Lib\\site-packages\\scikeras\\wrappers.py\", line 770, in fit\n    self._fit(\n  File \"C:\\Users\\Kiet\\DataspellProjects\\Image-Classification-and-Recommendation\\venv\\Lib\\site-packages\\scikeras\\wrappers.py\", line 925, in _fit\n    X, y = self._initialize(X, y)\n           ^^^^^^^^^^^^^^^^^^^^^^\n  File \"C:\\Users\\Kiet\\DataspellProjects\\Image-Classification-and-Recommendation\\venv\\Lib\\site-packages\\scikeras\\wrappers.py\", line 862, in _initialize\n    self.model_ = self._build_keras_model()\n                  ^^^^^^^^^^^^^^^^^^^^^^^^^\n  File \"C:\\Users\\Kiet\\DataspellProjects\\Image-Classification-and-Recommendation\\venv\\Lib\\site-packages\\scikeras\\wrappers.py\", line 433, in _build_keras_model\n    model = final_build_fn(**build_params)\n            ^^^^^^^^^^^^^^^^^^^^^^^^^^^^^^\n  File \"C:\\Users\\Kiet\\AppData\\Local\\Temp\\ipykernel_13544\\837700726.py\", line 6, in create_model\n  File \"C:\\Users\\Kiet\\DataspellProjects\\Image-Classification-and-Recommendation\\venv\\Lib\\site-packages\\keras\\src\\models\\sequential.py\", line 120, in add\n    self._maybe_rebuild()\n  File \"C:\\Users\\Kiet\\DataspellProjects\\Image-Classification-and-Recommendation\\venv\\Lib\\site-packages\\keras\\src\\models\\sequential.py\", line 139, in _maybe_rebuild\n    self.build(input_shape)\n  File \"C:\\Users\\Kiet\\DataspellProjects\\Image-Classification-and-Recommendation\\venv\\Lib\\site-packages\\keras\\src\\layers\\layer.py\", line 222, in build_wrapper\n    original_build_method(*args, **kwargs)\n  File \"C:\\Users\\Kiet\\DataspellProjects\\Image-Classification-and-Recommendation\\venv\\Lib\\site-packages\\keras\\src\\models\\sequential.py\", line 199, in build\n    raise e\n  File \"C:\\Users\\Kiet\\DataspellProjects\\Image-Classification-and-Recommendation\\venv\\Lib\\site-packages\\keras\\src\\models\\sequential.py\", line 180, in build\n    x = layer(x)\n        ^^^^^^^^\n  File \"C:\\Users\\Kiet\\DataspellProjects\\Image-Classification-and-Recommendation\\venv\\Lib\\site-packages\\keras\\src\\utils\\traceback_utils.py\", line 122, in error_handler\n    raise e.with_traceback(filtered_tb) from None\n  File \"C:\\Users\\Kiet\\DataspellProjects\\Image-Classification-and-Recommendation\\venv\\Lib\\site-packages\\keras\\src\\backend\\common\\variables.py\", line 162, in __init__\n    value = initializer(shape, dtype=dtype)\n            ^^^^^^^^^^^^^^^^^^^^^^^^^^^^^^^\nTypeError: L1.__call__() got an unexpected keyword argument 'dtype'\n",
     "output_type": "error",
     "traceback": [
      "\u001B[1;31m---------------------------------------------------------------------------\u001B[0m",
      "\u001B[1;31mValueError\u001B[0m                                Traceback (most recent call last)",
      "Cell \u001B[1;32mIn[14], line 1\u001B[0m\n\u001B[1;32m----> 1\u001B[0m grid_result \u001B[38;5;241m=\u001B[39m \u001B[43mgrid_search\u001B[49m\u001B[38;5;241;43m.\u001B[39;49m\u001B[43mfit\u001B[49m\u001B[43m(\u001B[49m\u001B[43mtrain_X\u001B[49m\u001B[43m,\u001B[49m\u001B[43m \u001B[49m\u001B[43mtrain_Y\u001B[49m\u001B[43m,\u001B[49m\u001B[43m \u001B[49m\u001B[43mverbose\u001B[49m\u001B[38;5;241;43m=\u001B[39;49m\u001B[38;5;241;43m2\u001B[39;49m\u001B[43m)\u001B[49m\n",
      "File \u001B[1;32m~\\DataspellProjects\\Image-Classification-and-Recommendation\\venv\\Lib\\site-packages\\sklearn\\base.py:1474\u001B[0m, in \u001B[0;36m_fit_context.<locals>.decorator.<locals>.wrapper\u001B[1;34m(estimator, *args, **kwargs)\u001B[0m\n\u001B[0;32m   1467\u001B[0m     estimator\u001B[38;5;241m.\u001B[39m_validate_params()\n\u001B[0;32m   1469\u001B[0m \u001B[38;5;28;01mwith\u001B[39;00m config_context(\n\u001B[0;32m   1470\u001B[0m     skip_parameter_validation\u001B[38;5;241m=\u001B[39m(\n\u001B[0;32m   1471\u001B[0m         prefer_skip_nested_validation \u001B[38;5;129;01mor\u001B[39;00m global_skip_validation\n\u001B[0;32m   1472\u001B[0m     )\n\u001B[0;32m   1473\u001B[0m ):\n\u001B[1;32m-> 1474\u001B[0m     \u001B[38;5;28;01mreturn\u001B[39;00m \u001B[43mfit_method\u001B[49m\u001B[43m(\u001B[49m\u001B[43mestimator\u001B[49m\u001B[43m,\u001B[49m\u001B[43m \u001B[49m\u001B[38;5;241;43m*\u001B[39;49m\u001B[43margs\u001B[49m\u001B[43m,\u001B[49m\u001B[43m \u001B[49m\u001B[38;5;241;43m*\u001B[39;49m\u001B[38;5;241;43m*\u001B[39;49m\u001B[43mkwargs\u001B[49m\u001B[43m)\u001B[49m\n",
      "File \u001B[1;32m~\\DataspellProjects\\Image-Classification-and-Recommendation\\venv\\Lib\\site-packages\\sklearn\\model_selection\\_search.py:970\u001B[0m, in \u001B[0;36mBaseSearchCV.fit\u001B[1;34m(self, X, y, **params)\u001B[0m\n\u001B[0;32m    964\u001B[0m     results \u001B[38;5;241m=\u001B[39m \u001B[38;5;28mself\u001B[39m\u001B[38;5;241m.\u001B[39m_format_results(\n\u001B[0;32m    965\u001B[0m         all_candidate_params, n_splits, all_out, all_more_results\n\u001B[0;32m    966\u001B[0m     )\n\u001B[0;32m    968\u001B[0m     \u001B[38;5;28;01mreturn\u001B[39;00m results\n\u001B[1;32m--> 970\u001B[0m \u001B[38;5;28;43mself\u001B[39;49m\u001B[38;5;241;43m.\u001B[39;49m\u001B[43m_run_search\u001B[49m\u001B[43m(\u001B[49m\u001B[43mevaluate_candidates\u001B[49m\u001B[43m)\u001B[49m\n\u001B[0;32m    972\u001B[0m \u001B[38;5;66;03m# multimetric is determined here because in the case of a callable\u001B[39;00m\n\u001B[0;32m    973\u001B[0m \u001B[38;5;66;03m# self.scoring the return type is only known after calling\u001B[39;00m\n\u001B[0;32m    974\u001B[0m first_test_score \u001B[38;5;241m=\u001B[39m all_out[\u001B[38;5;241m0\u001B[39m][\u001B[38;5;124m\"\u001B[39m\u001B[38;5;124mtest_scores\u001B[39m\u001B[38;5;124m\"\u001B[39m]\n",
      "File \u001B[1;32m~\\DataspellProjects\\Image-Classification-and-Recommendation\\venv\\Lib\\site-packages\\sklearn\\model_selection\\_search.py:1527\u001B[0m, in \u001B[0;36mGridSearchCV._run_search\u001B[1;34m(self, evaluate_candidates)\u001B[0m\n\u001B[0;32m   1525\u001B[0m \u001B[38;5;28;01mdef\u001B[39;00m \u001B[38;5;21m_run_search\u001B[39m(\u001B[38;5;28mself\u001B[39m, evaluate_candidates):\n\u001B[0;32m   1526\u001B[0m \u001B[38;5;250m    \u001B[39m\u001B[38;5;124;03m\"\"\"Search all candidates in param_grid\"\"\"\u001B[39;00m\n\u001B[1;32m-> 1527\u001B[0m     \u001B[43mevaluate_candidates\u001B[49m\u001B[43m(\u001B[49m\u001B[43mParameterGrid\u001B[49m\u001B[43m(\u001B[49m\u001B[38;5;28;43mself\u001B[39;49m\u001B[38;5;241;43m.\u001B[39;49m\u001B[43mparam_grid\u001B[49m\u001B[43m)\u001B[49m\u001B[43m)\u001B[49m\n",
      "File \u001B[1;32m~\\DataspellProjects\\Image-Classification-and-Recommendation\\venv\\Lib\\site-packages\\sklearn\\model_selection\\_search.py:947\u001B[0m, in \u001B[0;36mBaseSearchCV.fit.<locals>.evaluate_candidates\u001B[1;34m(candidate_params, cv, more_results)\u001B[0m\n\u001B[0;32m    940\u001B[0m \u001B[38;5;28;01melif\u001B[39;00m \u001B[38;5;28mlen\u001B[39m(out) \u001B[38;5;241m!=\u001B[39m n_candidates \u001B[38;5;241m*\u001B[39m n_splits:\n\u001B[0;32m    941\u001B[0m     \u001B[38;5;28;01mraise\u001B[39;00m \u001B[38;5;167;01mValueError\u001B[39;00m(\n\u001B[0;32m    942\u001B[0m         \u001B[38;5;124m\"\u001B[39m\u001B[38;5;124mcv.split and cv.get_n_splits returned \u001B[39m\u001B[38;5;124m\"\u001B[39m\n\u001B[0;32m    943\u001B[0m         \u001B[38;5;124m\"\u001B[39m\u001B[38;5;124minconsistent results. Expected \u001B[39m\u001B[38;5;132;01m{}\u001B[39;00m\u001B[38;5;124m \u001B[39m\u001B[38;5;124m\"\u001B[39m\n\u001B[0;32m    944\u001B[0m         \u001B[38;5;124m\"\u001B[39m\u001B[38;5;124msplits, got \u001B[39m\u001B[38;5;132;01m{}\u001B[39;00m\u001B[38;5;124m\"\u001B[39m\u001B[38;5;241m.\u001B[39mformat(n_splits, \u001B[38;5;28mlen\u001B[39m(out) \u001B[38;5;241m/\u001B[39m\u001B[38;5;241m/\u001B[39m n_candidates)\n\u001B[0;32m    945\u001B[0m     )\n\u001B[1;32m--> 947\u001B[0m \u001B[43m_warn_or_raise_about_fit_failures\u001B[49m\u001B[43m(\u001B[49m\u001B[43mout\u001B[49m\u001B[43m,\u001B[49m\u001B[43m \u001B[49m\u001B[38;5;28;43mself\u001B[39;49m\u001B[38;5;241;43m.\u001B[39;49m\u001B[43merror_score\u001B[49m\u001B[43m)\u001B[49m\n\u001B[0;32m    949\u001B[0m \u001B[38;5;66;03m# For callable self.scoring, the return type is only know after\u001B[39;00m\n\u001B[0;32m    950\u001B[0m \u001B[38;5;66;03m# calling. If the return type is a dictionary, the error scores\u001B[39;00m\n\u001B[0;32m    951\u001B[0m \u001B[38;5;66;03m# can now be inserted with the correct key. The type checking\u001B[39;00m\n\u001B[0;32m    952\u001B[0m \u001B[38;5;66;03m# of out will be done in `_insert_error_scores`.\u001B[39;00m\n\u001B[0;32m    953\u001B[0m \u001B[38;5;28;01mif\u001B[39;00m \u001B[38;5;28mcallable\u001B[39m(\u001B[38;5;28mself\u001B[39m\u001B[38;5;241m.\u001B[39mscoring):\n",
      "File \u001B[1;32m~\\DataspellProjects\\Image-Classification-and-Recommendation\\venv\\Lib\\site-packages\\sklearn\\model_selection\\_validation.py:536\u001B[0m, in \u001B[0;36m_warn_or_raise_about_fit_failures\u001B[1;34m(results, error_score)\u001B[0m\n\u001B[0;32m    529\u001B[0m \u001B[38;5;28;01mif\u001B[39;00m num_failed_fits \u001B[38;5;241m==\u001B[39m num_fits:\n\u001B[0;32m    530\u001B[0m     all_fits_failed_message \u001B[38;5;241m=\u001B[39m (\n\u001B[0;32m    531\u001B[0m         \u001B[38;5;124mf\u001B[39m\u001B[38;5;124m\"\u001B[39m\u001B[38;5;130;01m\\n\u001B[39;00m\u001B[38;5;124mAll the \u001B[39m\u001B[38;5;132;01m{\u001B[39;00mnum_fits\u001B[38;5;132;01m}\u001B[39;00m\u001B[38;5;124m fits failed.\u001B[39m\u001B[38;5;130;01m\\n\u001B[39;00m\u001B[38;5;124m\"\u001B[39m\n\u001B[0;32m    532\u001B[0m         \u001B[38;5;124m\"\u001B[39m\u001B[38;5;124mIt is very likely that your model is misconfigured.\u001B[39m\u001B[38;5;130;01m\\n\u001B[39;00m\u001B[38;5;124m\"\u001B[39m\n\u001B[0;32m    533\u001B[0m         \u001B[38;5;124m\"\u001B[39m\u001B[38;5;124mYou can try to debug the error by setting error_score=\u001B[39m\u001B[38;5;124m'\u001B[39m\u001B[38;5;124mraise\u001B[39m\u001B[38;5;124m'\u001B[39m\u001B[38;5;124m.\u001B[39m\u001B[38;5;130;01m\\n\u001B[39;00m\u001B[38;5;130;01m\\n\u001B[39;00m\u001B[38;5;124m\"\u001B[39m\n\u001B[0;32m    534\u001B[0m         \u001B[38;5;124mf\u001B[39m\u001B[38;5;124m\"\u001B[39m\u001B[38;5;124mBelow are more details about the failures:\u001B[39m\u001B[38;5;130;01m\\n\u001B[39;00m\u001B[38;5;132;01m{\u001B[39;00mfit_errors_summary\u001B[38;5;132;01m}\u001B[39;00m\u001B[38;5;124m\"\u001B[39m\n\u001B[0;32m    535\u001B[0m     )\n\u001B[1;32m--> 536\u001B[0m     \u001B[38;5;28;01mraise\u001B[39;00m \u001B[38;5;167;01mValueError\u001B[39;00m(all_fits_failed_message)\n\u001B[0;32m    538\u001B[0m \u001B[38;5;28;01melse\u001B[39;00m:\n\u001B[0;32m    539\u001B[0m     some_fits_failed_message \u001B[38;5;241m=\u001B[39m (\n\u001B[0;32m    540\u001B[0m         \u001B[38;5;124mf\u001B[39m\u001B[38;5;124m\"\u001B[39m\u001B[38;5;130;01m\\n\u001B[39;00m\u001B[38;5;132;01m{\u001B[39;00mnum_failed_fits\u001B[38;5;132;01m}\u001B[39;00m\u001B[38;5;124m fits failed out of a total of \u001B[39m\u001B[38;5;132;01m{\u001B[39;00mnum_fits\u001B[38;5;132;01m}\u001B[39;00m\u001B[38;5;124m.\u001B[39m\u001B[38;5;130;01m\\n\u001B[39;00m\u001B[38;5;124m\"\u001B[39m\n\u001B[0;32m    541\u001B[0m         \u001B[38;5;124m\"\u001B[39m\u001B[38;5;124mThe score on these train-test partitions for these parameters\u001B[39m\u001B[38;5;124m\"\u001B[39m\n\u001B[1;32m   (...)\u001B[0m\n\u001B[0;32m    545\u001B[0m         \u001B[38;5;124mf\u001B[39m\u001B[38;5;124m\"\u001B[39m\u001B[38;5;124mBelow are more details about the failures:\u001B[39m\u001B[38;5;130;01m\\n\u001B[39;00m\u001B[38;5;132;01m{\u001B[39;00mfit_errors_summary\u001B[38;5;132;01m}\u001B[39;00m\u001B[38;5;124m\"\u001B[39m\n\u001B[0;32m    546\u001B[0m     )\n",
      "\u001B[1;31mValueError\u001B[0m: \nAll the 12 fits failed.\nIt is very likely that your model is misconfigured.\nYou can try to debug the error by setting error_score='raise'.\n\nBelow are more details about the failures:\n--------------------------------------------------------------------------------\n12 fits failed with the following error:\nTraceback (most recent call last):\n  File \"C:\\Users\\Kiet\\DataspellProjects\\Image-Classification-and-Recommendation\\venv\\Lib\\site-packages\\sklearn\\model_selection\\_validation.py\", line 895, in _fit_and_score\n    estimator.fit(X_train, y_train, **fit_params)\n  File \"C:\\Users\\Kiet\\DataspellProjects\\Image-Classification-and-Recommendation\\venv\\Lib\\site-packages\\scikeras\\wrappers.py\", line 1501, in fit\n    super().fit(X=X, y=y, sample_weight=sample_weight, **kwargs)\n  File \"C:\\Users\\Kiet\\DataspellProjects\\Image-Classification-and-Recommendation\\venv\\Lib\\site-packages\\scikeras\\wrappers.py\", line 770, in fit\n    self._fit(\n  File \"C:\\Users\\Kiet\\DataspellProjects\\Image-Classification-and-Recommendation\\venv\\Lib\\site-packages\\scikeras\\wrappers.py\", line 925, in _fit\n    X, y = self._initialize(X, y)\n           ^^^^^^^^^^^^^^^^^^^^^^\n  File \"C:\\Users\\Kiet\\DataspellProjects\\Image-Classification-and-Recommendation\\venv\\Lib\\site-packages\\scikeras\\wrappers.py\", line 862, in _initialize\n    self.model_ = self._build_keras_model()\n                  ^^^^^^^^^^^^^^^^^^^^^^^^^\n  File \"C:\\Users\\Kiet\\DataspellProjects\\Image-Classification-and-Recommendation\\venv\\Lib\\site-packages\\scikeras\\wrappers.py\", line 433, in _build_keras_model\n    model = final_build_fn(**build_params)\n            ^^^^^^^^^^^^^^^^^^^^^^^^^^^^^^\n  File \"C:\\Users\\Kiet\\AppData\\Local\\Temp\\ipykernel_13544\\837700726.py\", line 6, in create_model\n  File \"C:\\Users\\Kiet\\DataspellProjects\\Image-Classification-and-Recommendation\\venv\\Lib\\site-packages\\keras\\src\\models\\sequential.py\", line 120, in add\n    self._maybe_rebuild()\n  File \"C:\\Users\\Kiet\\DataspellProjects\\Image-Classification-and-Recommendation\\venv\\Lib\\site-packages\\keras\\src\\models\\sequential.py\", line 139, in _maybe_rebuild\n    self.build(input_shape)\n  File \"C:\\Users\\Kiet\\DataspellProjects\\Image-Classification-and-Recommendation\\venv\\Lib\\site-packages\\keras\\src\\layers\\layer.py\", line 222, in build_wrapper\n    original_build_method(*args, **kwargs)\n  File \"C:\\Users\\Kiet\\DataspellProjects\\Image-Classification-and-Recommendation\\venv\\Lib\\site-packages\\keras\\src\\models\\sequential.py\", line 199, in build\n    raise e\n  File \"C:\\Users\\Kiet\\DataspellProjects\\Image-Classification-and-Recommendation\\venv\\Lib\\site-packages\\keras\\src\\models\\sequential.py\", line 180, in build\n    x = layer(x)\n        ^^^^^^^^\n  File \"C:\\Users\\Kiet\\DataspellProjects\\Image-Classification-and-Recommendation\\venv\\Lib\\site-packages\\keras\\src\\utils\\traceback_utils.py\", line 122, in error_handler\n    raise e.with_traceback(filtered_tb) from None\n  File \"C:\\Users\\Kiet\\DataspellProjects\\Image-Classification-and-Recommendation\\venv\\Lib\\site-packages\\keras\\src\\backend\\common\\variables.py\", line 162, in __init__\n    value = initializer(shape, dtype=dtype)\n            ^^^^^^^^^^^^^^^^^^^^^^^^^^^^^^^\nTypeError: L1.__call__() got an unexpected keyword argument 'dtype'\n"
     ]
    }
   ],
   "execution_count": 14
  },
  {
   "metadata": {
    "ExecuteTime": {
     "end_time": "2024-05-12T19:09:45.132006Z",
     "start_time": "2024-05-12T19:09:45.118378Z"
    }
   },
   "cell_type": "code",
   "source": "model_estimator.get_params().keys()",
   "id": "38538f59b64f6590",
   "outputs": [
    {
     "data": {
      "text/plain": [
       "dict_keys(['model', 'build_fn', 'warm_start', 'random_state', 'optimizer', 'loss', 'metrics', 'batch_size', 'validation_batch_size', 'verbose', 'callbacks', 'validation_split', 'shuffle', 'run_eagerly', 'epochs', 'class_weight'])"
      ]
     },
     "execution_count": 26,
     "metadata": {},
     "output_type": "execute_result"
    }
   ],
   "execution_count": 26
  },
  {
   "metadata": {},
   "cell_type": "code",
   "source": [
    "print(\"Best Accuracy:\", grid_result.best_score_)\n",
    "print(\"Best Parameters:\", grid_result.best_params_)"
   ],
   "id": "6a3d5628200e146c",
   "outputs": [],
   "execution_count": null
  },
  {
   "metadata": {},
   "cell_type": "code",
   "outputs": [],
   "execution_count": null,
   "source": [
    "# Get the best model\n",
    "best_params = grid_result.best_params_\n",
    "model = create_model(**best_params)\n",
    "history = model.fit(train_dataset, epochs=best_params['epochs'], batch_size=best_params['batch_size'], callbacks=[ProgbarLogger()])"
   ],
   "id": "56f11f2bf7194dc0"
  },
  {
   "metadata": {
    "ExecuteTime": {
     "end_time": "2024-05-12T21:34:53.542591Z",
     "start_time": "2024-05-12T21:34:28.586909Z"
    }
   },
   "cell_type": "code",
   "source": [
    "# Evaluate the model on the test dataset\n",
    "test_loss, test_acc = model.evaluate(test_dataset, verbose=2)\n",
    "print(f\"Test Accuracy: {test_acc * 100:.2f}%\")\n",
    "\n",
    "# Evaluate the model on the validation dataset\n",
    "val_loss, val_acc = model.evaluate(val_dataset, verbose=2)\n",
    "print(f\"Validation Accuracy: {val_acc * 100:.2f}%\")"
   ],
   "id": "3c6f895ae556d60c",
   "outputs": [
    {
     "name": "stdout",
     "output_type": "stream",
     "text": [
      "564/564 - 12s - 22ms/step - accuracy: 0.7345 - loss: 0.8637\n",
      "Test Accuracy: 73.45%\n",
      "564/564 - 13s - 23ms/step - accuracy: 0.7339 - loss: 0.8503\n",
      "Validation Accuracy: 73.39%\n"
     ]
    }
   ],
   "execution_count": 25
  },
  {
   "metadata": {},
   "cell_type": "code",
   "outputs": [],
   "execution_count": null,
   "source": "",
   "id": "74f0d4f9efe802c"
  }
 ],
 "metadata": {
  "kernelspec": {
   "display_name": "Python 3",
   "language": "python",
   "name": "python3"
  },
  "language_info": {
   "codemirror_mode": {
    "name": "ipython",
    "version": 2
   },
   "file_extension": ".py",
   "mimetype": "text/x-python",
   "name": "python",
   "nbconvert_exporter": "python",
   "pygments_lexer": "ipython2",
   "version": "2.7.6"
  }
 },
 "nbformat": 4,
 "nbformat_minor": 5
}
