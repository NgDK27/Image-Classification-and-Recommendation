{
 "cells": [
  {
   "cell_type": "code",
   "id": "initial_id",
   "metadata": {
    "collapsed": true,
    "ExecuteTime": {
     "end_time": "2024-05-07T10:51:37.877771Z",
     "start_time": "2024-05-07T10:51:37.871871Z"
    }
   },
   "source": [
    "import numpy as np\n",
    "import tensorflow as tf\n",
    "from keras.src.optimizers import Adam\n",
    "from keras.src.layers import Dense\n",
    "from keras import Sequential\n",
    "from scikeras.wrappers import KerasClassifier\n",
    "from sklearn.model_selection import RandomizedSearchCV"
   ],
   "outputs": [],
   "execution_count": 14
  },
  {
   "metadata": {},
   "cell_type": "code",
   "outputs": [],
   "execution_count": null,
   "source": [
    "# Load dataset\n",
    "# train_X = \n",
    "# train_Y = \n",
    "# val_X =\n",
    "# val_Y ="
   ],
   "id": "e101b837a206486a"
  },
  {
   "metadata": {
    "ExecuteTime": {
     "end_time": "2024-05-07T10:44:18.041178Z",
     "start_time": "2024-05-07T10:44:18.036723Z"
    }
   },
   "cell_type": "code",
   "source": [
    "# Define input shape and number of classes\n",
    "input_shape = (200, 200, 3)  # Example input shape (image dimensions and channels)\n",
    "num_classes = 6  # Number of output classes (furniture types)"
   ],
   "id": "a7aeacb511d2aade",
   "outputs": [],
   "execution_count": 7
  },
  {
   "metadata": {
    "ExecuteTime": {
     "end_time": "2024-05-07T10:56:39.171452Z",
     "start_time": "2024-05-07T10:56:39.165681Z"
    }
   },
   "cell_type": "code",
   "source": [
    "# Define the hyperparameter grid\n",
    "param_grid = {\n",
    "    'num_layers': [2, 3, 4],\n",
    "    'num_neurons': [64, 128, 256],\n",
    "    'learning_rate': [0.001, 0.01],\n",
    "    'epochs': [10, 20],\n",
    "    'batch_size': [64]\n",
    "}"
   ],
   "id": "3b39e9570db0d245",
   "outputs": [],
   "execution_count": 15
  },
  {
   "metadata": {
    "ExecuteTime": {
     "end_time": "2024-05-07T10:46:31.311493Z",
     "start_time": "2024-05-07T10:46:31.305855Z"
    }
   },
   "cell_type": "code",
   "source": [
    "# Define the base model\n",
    "def create_model(num_layers=1, num_neurons=64, learning_rate=0.001):\n",
    "    model = Sequential()\n",
    "    model.add(Dense(num_neurons, activation='relu', input_shape=input_shape))\n",
    "    for _ in range(num_layers - 1):\n",
    "        model.add(Dense(num_neurons, activation='relu'))\n",
    "    model.add(Dense(num_classes, activation='softmax'))\n",
    "    optimizer = Adam(learning_rate=learning_rate)\n",
    "    model.compile(optimizer=optimizer, loss='sparse_categorical_crossentropy', metrics=['accuracy'])\n",
    "    return model"
   ],
   "id": "badd37905195b611",
   "outputs": [],
   "execution_count": 8
  },
  {
   "metadata": {
    "ExecuteTime": {
     "end_time": "2024-05-07T10:51:31.857517Z",
     "start_time": "2024-05-07T10:51:31.853448Z"
    }
   },
   "cell_type": "code",
   "source": [
    "# Create the model\n",
    "model = KerasClassifier(build_fn=create_model, verbose=0)"
   ],
   "id": "1bf59bad62fa35a5",
   "outputs": [],
   "execution_count": 13
  },
  {
   "metadata": {},
   "cell_type": "code",
   "outputs": [],
   "execution_count": null,
   "source": [
    "# Perform randomized search\n",
    "random_search = RandomizedSearchCV(estimator=model, param_distributions=param_grid, n_iter=10, cv=3, scoring='accuracy', verbose=2, n_jobs=6)\n",
    "# random_result = random_search.fit(train_X, train_Y)"
   ],
   "id": "609e39fc80e88352"
  },
  {
   "metadata": {},
   "cell_type": "code",
   "outputs": [],
   "execution_count": null,
   "source": [
    "# print(\"Best Accuracy:\", random_result.best_score_)\n",
    "# print(\"Best Parameters:\", random_result.best_params_)"
   ],
   "id": "6a3d5628200e146c"
  },
  {
   "metadata": {},
   "cell_type": "code",
   "outputs": [],
   "execution_count": null,
   "source": "",
   "id": "56f11f2bf7194dc0"
  }
 ],
 "metadata": {
  "kernelspec": {
   "display_name": "Python 3",
   "language": "python",
   "name": "python3"
  },
  "language_info": {
   "codemirror_mode": {
    "name": "ipython",
    "version": 2
   },
   "file_extension": ".py",
   "mimetype": "text/x-python",
   "name": "python",
   "nbconvert_exporter": "python",
   "pygments_lexer": "ipython2",
   "version": "2.7.6"
  }
 },
 "nbformat": 4,
 "nbformat_minor": 5
}
