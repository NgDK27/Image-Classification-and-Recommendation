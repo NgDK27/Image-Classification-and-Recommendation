{
 "cells": [
  {
   "cell_type": "code",
   "id": "initial_id",
   "metadata": {
    "collapsed": true
   },
   "source": [
    "import keras\n",
    "import numpy as np\n",
    "import tensorflow as tf\n",
    "from keras.src.optimizers import Adam\n",
    "from keras.src.layers import Dense\n",
    "from keras.src.layers import Flatten\n",
    "from keras.src.optimizers import RMSprop\n",
    "from keras import Sequential, Input\n",
    "from scikeras.wrappers import KerasClassifier\n",
    "from sklearn.model_selection import GridSearchCV\n",
    "from keras.src.layers import Dropout\n",
    "from keras.src.layers import BatchNormalization\n",
    "import pandas as pd\n",
    "from utils.tensorflow_preprocessing import prepare_image_dataset\n",
    "from keras.src.callbacks import ProgbarLogger\n",
    "from keras.src.callbacks import EarlyStopping"
   ],
   "outputs": [],
   "execution_count": null
  },
  {
   "metadata": {},
   "cell_type": "code",
   "source": [
    "# Load dataset\n",
    "train_df = pd.read_csv('../data/processed/csv/train_df.csv')\n",
    "val_df = pd.read_csv('../data/processed/csv/val_df.csv')\n",
    "test_df = pd.read_csv('../data/processed/csv/test_df.csv')"
   ],
   "id": "e101b837a206486a",
   "outputs": [],
   "execution_count": null
  },
  {
   "metadata": {},
   "cell_type": "code",
   "source": [
    "train_dataset, label_encoder = prepare_image_dataset(train_df, img_height=256, img_width=256, batch_size=32)\n",
    "val_dataset, _ = prepare_image_dataset(val_df, img_height=256, img_width=256, batch_size=32, label_encoder=label_encoder)\n",
    "test_dataset, _ = prepare_image_dataset(test_df, img_height=256, img_width=256, batch_size=32, label_encoder=label_encoder)"
   ],
   "id": "6e46417b462490f0",
   "outputs": [],
   "execution_count": null
  },
  {
   "metadata": {},
   "cell_type": "code",
   "source": [
    "# Define input shape and number of classes\n",
    "INPUT_SHAPE = (256, 256, 3)  # Example input shape (image dimensions and channels)\n",
    "NUM_CLASSES = 6  # Number of output classes (furniture types)"
   ],
   "id": "a7aeacb511d2aade",
   "outputs": [],
   "execution_count": null
  },
  {
   "metadata": {},
   "cell_type": "code",
   "source": [
    "# Define base model\n",
    "def create_model(num_layers=2, num_hidden_neurons=None, optimizer=Adam(0.001)):\n",
    "    if num_hidden_neurons is None:\n",
    "        num_hidden_neurons = [64, 32]\n",
    "    model = Sequential()\n",
    "    model.add(Input(shape=INPUT_SHAPE))\n",
    "    model.add(Flatten()),\n",
    "    for i in range(num_layers):\n",
    "        model.add(Dense(num_hidden_neurons[i], activation='relu'))\n",
    "        model.add(BatchNormalization())\n",
    "        model.add(Dropout(rate=0.2))\n",
    "    model.add(Dense(NUM_CLASSES, activation='softmax'))\n",
    "    model.compile(optimizer, loss='sparse_categorical_crossentropy', metrics=['accuracy'])\n",
    "    early_stopping = EarlyStopping(monitor='accuracy', patience=5, restore_best_weights=True)\n",
    "    return model, early_stopping"
   ],
   "id": "badd37905195b611",
   "outputs": [],
   "execution_count": null
  },
  {
   "metadata": {},
   "cell_type": "code",
   "source": "model, early_stopping = create_model(num_layers=3, num_hidden_neurons=[128, 64, 32], optimizer=Adam(0.001))",
   "id": "d618609965fafd6d",
   "outputs": [],
   "execution_count": null
  },
  {
   "metadata": {},
   "cell_type": "code",
   "source": "history = model.fit(train_dataset, epochs=50, batch_size=32, callbacks=[ProgbarLogger(), early_stopping])",
   "id": "3aa0b403342ff558",
   "outputs": [],
   "execution_count": null
  },
  {
   "metadata": {},
   "cell_type": "code",
   "source": [
    "train_loss, train_acc = model.evaluate(train_dataset, verbose=2)\n",
    "print(f\"Test Accuracy: {train_acc * 100:.2f}%\")\n",
    "test_loss, test_acc = model.evaluate(test_dataset, verbose=2)\n",
    "print(f\"Test Accuracy: {test_acc * 100:.2f}%\")\n",
    "val_loss, val_acc = model.evaluate(val_dataset, verbose=2)\n",
    "print(f\"Validation Accuracy: {val_acc * 100:.2f}%\")"
   ],
   "id": "3c6f895ae556d60c",
   "outputs": [],
   "execution_count": null
  },
  {
   "metadata": {},
   "cell_type": "code",
   "source": "",
   "id": "ae81db2f2efeb03f",
   "outputs": [],
   "execution_count": null
  }
 ],
 "metadata": {
  "kernelspec": {
   "display_name": "Python 3",
   "language": "python",
   "name": "python3"
  },
  "language_info": {
   "codemirror_mode": {
    "name": "ipython",
    "version": 2
   },
   "file_extension": ".py",
   "mimetype": "text/x-python",
   "name": "python",
   "nbconvert_exporter": "python",
   "pygments_lexer": "ipython2",
   "version": "2.7.6"
  }
 },
 "nbformat": 4,
 "nbformat_minor": 5
}
