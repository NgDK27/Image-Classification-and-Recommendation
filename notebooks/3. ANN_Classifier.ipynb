{
 "cells": [
  {
   "cell_type": "code",
   "id": "initial_id",
   "metadata": {
    "collapsed": true,
    "ExecuteTime": {
     "end_time": "2024-05-07T10:51:37.877771Z",
     "start_time": "2024-05-07T10:51:37.871871Z"
    }
   },
   "source": [
    "import keras\n",
    "import numpy as np\n",
    "import tensorflow as tf\n",
    "from keras.src.optimizers import Adam\n",
    "from keras.src.layers import Dense\n",
    "from keras import Sequential\n",
    "from scikeras.wrappers import KerasClassifier\n",
    "from sklearn.model_selection import GridSearchCV\n",
    "from keras.src.layers import Dropout\n",
    "from keras.src.layers import BatchNormalization"
   ],
   "outputs": [],
   "execution_count": 14
  },
  {
   "metadata": {},
   "cell_type": "code",
   "outputs": [],
   "execution_count": null,
   "source": [
    "# Load dataset\n",
    "train_X = \n",
    "train_Y = \n",
    "val_X =\n",
    "val_Y =\n",
    "test_X =\n",
    "test_Y ="
   ],
   "id": "e101b837a206486a"
  },
  {
   "metadata": {
    "ExecuteTime": {
     "end_time": "2024-05-07T10:44:18.041178Z",
     "start_time": "2024-05-07T10:44:18.036723Z"
    }
   },
   "cell_type": "code",
   "source": [
    "# Define input shape and number of classes\n",
    "INPUT_SHAPE = (200, 200, 3)  # Example input shape (image dimensions and channels)\n",
    "NUM_CLASSES = 6  # Number of output classes (furniture types)"
   ],
   "id": "a7aeacb511d2aade",
   "outputs": [],
   "execution_count": 7
  },
  {
   "metadata": {
    "ExecuteTime": {
     "end_time": "2024-05-07T10:56:39.171452Z",
     "start_time": "2024-05-07T10:56:39.165681Z"
    }
   },
   "cell_type": "code",
   "source": [
    "# Define hyperparameter grid\n",
    "param_grid = {\n",
    "    'num_layers': [3, 4, 5],\n",
    "    'num_neurons': [64, 128, 256],\n",
    "    'learning_rate': [0.001, 0.01],\n",
    "    'epochs': [10, 20],\n",
    "    'batch_size': [64],\n",
    "    'dropout_rate': [0.2, 0.3, 0.4]\n",
    "}"
   ],
   "id": "3b39e9570db0d245",
   "outputs": [],
   "execution_count": 15
  },
  {
   "metadata": {
    "ExecuteTime": {
     "end_time": "2024-05-07T10:46:31.311493Z",
     "start_time": "2024-05-07T10:46:31.305855Z"
    }
   },
   "cell_type": "code",
   "source": [
    "# Define base model\n",
    "def create_model(num_layers=1, num_neurons=64, learning_rate=0.001, dropout_rate=0.2):\n",
    "    model = Sequential()\n",
    "    model.add(Dense(num_neurons, activation='relu', input_shape=INPUT_SHAPE))\n",
    "    for _ in range(num_layers - 1):\n",
    "        model.add(Dense(num_neurons, activation='relu', kernel_initializer=keras.regularizers.l1(0.01)))\n",
    "        model.add(BatchNormalization())\n",
    "        model.add(Dropout(dropout_rate))\n",
    "    model.add(Dense(NUM_CLASSES, activation='softmax'))\n",
    "    optimizer = Adam(learning_rate=learning_rate)\n",
    "    model.compile(optimizer=optimizer, loss='sparse_categorical_crossentropy', metrics=['accuracy'])\n",
    "    return model"
   ],
   "id": "badd37905195b611",
   "outputs": [],
   "execution_count": 8
  },
  {
   "metadata": {
    "ExecuteTime": {
     "end_time": "2024-05-07T10:51:31.857517Z",
     "start_time": "2024-05-07T10:51:31.853448Z"
    }
   },
   "cell_type": "code",
   "source": [
    "# Create model estimator\n",
    "model_estimator = KerasClassifier(build_fn=create_model, verbose=0)"
   ],
   "id": "1bf59bad62fa35a5",
   "outputs": [],
   "execution_count": 13
  },
  {
   "metadata": {},
   "cell_type": "code",
   "outputs": [],
   "execution_count": null,
   "source": [
    "# Perform randomized search using the estimator\n",
    "grid_search = GridSearchCV(estimator=model_estimator, param_grid=param_grid, cv=3, scoring='accuracy', verbose=2, n_jobs=6)\n",
    "grid_result = grid_search.fit(train_X, train_Y)"
   ],
   "id": "609e39fc80e88352"
  },
  {
   "metadata": {},
   "cell_type": "code",
   "outputs": [],
   "execution_count": null,
   "source": [
    "print(\"Best Accuracy:\", grid_result.best_score_)\n",
    "print(\"Best Parameters:\", grid_result.best_params_)"
   ],
   "id": "6a3d5628200e146c"
  },
  {
   "metadata": {},
   "cell_type": "code",
   "outputs": [],
   "execution_count": null,
   "source": [
    "# Get the best model\n",
    "model = create_model(**grid_result.best_params_)\n",
    "model.fit(train_X, train_Y, verbose=2)"
   ],
   "id": "56f11f2bf7194dc0"
  },
  {
   "metadata": {},
   "cell_type": "code",
   "outputs": [],
   "execution_count": null,
   "source": [
    "# Evaluate the model on the test dataset\n",
    "test_loss, test_acc = model.evaluate(test_X, test_Y, verbose=0)\n",
    "print(f\"Test Accuracy: {test_acc * 100:.2f}%\")\n",
    "\n",
    "# Evaluate the model on the validation dataset\n",
    "val_loss, val_acc = model.evaluate(val_X, val_Y, verbose=0)\n",
    "print(f\"Validation Accuracy: {val_acc * 100:.2f}%\")"
   ],
   "id": "3c6f895ae556d60c"
  },
  {
   "metadata": {},
   "cell_type": "code",
   "outputs": [],
   "execution_count": null,
   "source": "",
   "id": "74f0d4f9efe802c"
  }
 ],
 "metadata": {
  "kernelspec": {
   "display_name": "Python 3",
   "language": "python",
   "name": "python3"
  },
  "language_info": {
   "codemirror_mode": {
    "name": "ipython",
    "version": 2
   },
   "file_extension": ".py",
   "mimetype": "text/x-python",
   "name": "python",
   "nbconvert_exporter": "python",
   "pygments_lexer": "ipython2",
   "version": "2.7.6"
  }
 },
 "nbformat": 4,
 "nbformat_minor": 5
}
